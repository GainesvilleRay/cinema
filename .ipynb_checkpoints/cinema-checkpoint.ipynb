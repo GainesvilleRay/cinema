{
 "cells": [
  {
   "cell_type": "code",
   "execution_count": 19,
   "metadata": {},
   "outputs": [],
   "source": [
    "\"\"\"Code to format info on movies in a csv file for publication.\"\"\"\n",
    "\n",
    "# libraries\n",
    "import csv\n",
    "import datetime"
   ]
  },
  {
   "cell_type": "code",
   "execution_count": 2,
   "metadata": {},
   "outputs": [],
   "source": [
    "# read in csv file and prepare for work\n",
    "filename = \"2781_Fandango_data_Movie_sample_data.csv\"\n",
    "fieldnames = ['Location', 'Theatre', 'Movie', 'Movie_Rating', 'Show_Times', 'Movie_Format', 'Synopsis', 'Date', 'Searched_City']\n",
    "#rows = []   "
   ]
  },
  {
   "cell_type": "code",
   "execution_count": 3,
   "metadata": {},
   "outputs": [],
   "source": [
    "# Creats list of dictionaries for each row. This is working.\n",
    "\n",
    "listings = []\n",
    "scrape_file = '2781_Fandango_data_Movie_full.csv'\n",
    "with open(scrape_file, 'r') as f:\n",
    "    reader = csv.reader(f)\n",
    "    for row in reader:\n",
    "        layout_dct = {'addy': row[0], 'theater': row[1], 'title': row[2], 'mpaa': row[3], 'stars': row[4], 'times': row[5], 'format': row[6], 'synopsis': row[7], 'date': row[8], 'city': row[9]}\n",
    "        listings.append(layout_dct)\n",
    "        \n",
    "del listings[0] #remove header row\n",
    "        "
   ]
  },
  {
   "cell_type": "code",
   "execution_count": 15,
   "metadata": {},
   "outputs": [
    {
     "data": {
      "text/plain": [
       "{'addy': '2021 Silver Springs Blvd, Ocala, FL 34471',\n",
       " 'theater': 'Ocala Center 6',\n",
       " 'title': 'Ralph Breaks the Internet',\n",
       " 'mpaa': 'PG',\n",
       " 'stars': '4.5',\n",
       " 'times': '1:00p | 4:00p | 7:00p',\n",
       " 'format': 'Standard',\n",
       " 'synopsis': 'Ralph and Vanellope embark on an adventure inside the internet to find a spare part to fix a video game.',\n",
       " 'date': '2018-11-29',\n",
       " 'city': 'Ocala, FL'}"
      ]
     },
     "execution_count": 15,
     "metadata": {},
     "output_type": "execute_result"
    }
   ],
   "source": [
    "next(item for item in listings if item['stars'] == '4.5')\n"
   ]
  },
  {
   "cell_type": "code",
   "execution_count": 17,
   "metadata": {},
   "outputs": [
    {
     "data": {
      "text/plain": [
       "{'addy': '2801 SW 27th Avenue, Ocala, FL 34474',\n",
       " 'theater': 'Regal Hollywood Stadium 16 & IMAX - Ocala',\n",
       " 'title': 'Boy Erased',\n",
       " 'mpaa': 'R',\n",
       " 'stars': '4',\n",
       " 'times': '11:00a | 1:45p | 4:25p | 10:45p',\n",
       " 'format': 'Standard',\n",
       " 'synopsis': '“Boy Erased” tells the story of Jared (Hedges), the son of a Baptist pastor in a small American town, who is outed to his parents (Kidman and Crowe) at age 19. Jared is faced with an ultimatum: attend a conversion therapy program – or be permanently exiled and shunned by his family, friends, and faith. Boy Erased is the true story of one young man’s struggle to find himself while being forced to question every aspect of his identity.',\n",
       " 'date': '2018-11-29',\n",
       " 'city': 'Belleview, FL'}"
      ]
     },
     "execution_count": 17,
     "metadata": {},
     "output_type": "execute_result"
    }
   ],
   "source": [
    "def search(list, key, value):\n",
    "    for item in list:\n",
    "        if item[key] == value:\n",
    "            return item\n",
    "        \n",
    "search(listings, 'mpaa', 'R')\n",
    "       \n"
   ]
  },
  {
   "cell_type": "code",
   "execution_count": null,
   "metadata": {},
   "outputs": [],
   "source": [
    "# Creats list of dictionaries for each row. This is working.\n",
    "\n",
    "listings = []\n",
    "scrape_file = '2781_Fandango_data_Movie_full.csv'\n",
    "with open(scrape_file, 'r') as f:\n",
    "    reader = csv.reader(f)\n",
    "    for row in reader:\n",
    "        layout_dct = {'addy': row[0], 'theater': row[1], 'title': row[2], 'mpaa': row[3], 'stars': row[4], 'times': row[5], 'format': row[6], 'synopsis': row[7], 'date': row[8], 'city': row[9]}\n",
    "        if row[1] == row[1]:\n",
    "            for 'times', row[5] in listings:\n",
    "                listings.append('times', row[5])\n",
    "        listings.append(layout_dct)\n",
    "        \n",
    "del listings[0] #remove header row"
   ]
  },
  {
   "cell_type": "code",
   "execution_count": 18,
   "metadata": {},
   "outputs": [
    {
     "data": {
      "text/plain": [
       "[('amc', [(3, 5), (7, 9)]), ('regal', [(1, 2), (2, 4)])]"
      ]
     },
     "execution_count": 18,
     "metadata": {},
     "output_type": "execute_result"
    }
   ],
   "source": [
    "from collections import defaultdict\n",
    "\n",
    "s = [('regal', (1, 2)), ('amc', (3, 5)), ('regal', (2, 4)), ('amc', (7, 9))]\n",
    "d = defaultdict(list)\n",
    "for k, v in s:\n",
    "    if k == k:\n",
    "        d[k].append(v)\n",
    "    \n",
    "sorted(d.items())"
   ]
  },
  {
   "cell_type": "code",
   "execution_count": null,
   "metadata": {},
   "outputs": [],
   "source": [
    "from itertools import chain\n",
    "\n"
   ]
  },
  {
   "cell_type": "code",
   "execution_count": null,
   "metadata": {},
   "outputs": [],
   "source": [
    "# Creates a list of class objects for each row in the csv\n",
    "# Not working yet.\n",
    "# Try \"if 'title' already exists, append a dict for cinema: times, or object with same?\n",
    "\n",
    "class_list = []\n",
    "\n",
    "with open('2781_Fandango_data_Movie_sample_data.csv', 'r') as f:\n",
    "    reader = csv.reader(f)\n",
    "    for row in reader:\n",
    "        class_list.append(Movie(row[0], row[1]))"
   ]
  },
  {
   "cell_type": "code",
   "execution_count": null,
   "metadata": {},
   "outputs": [],
   "source": []
  },
  {
   "cell_type": "code",
   "execution_count": null,
   "metadata": {},
   "outputs": [],
   "source": [
    "data = {}\n",
    "\n",
    "with open(filename, newline='') as csvfile:\n",
    "    reader = csv.reader(csvfile, delimiter=',')\n",
    "    headers = next(reader)\n",
    "    for row in reader:\n",
    "        data[row[2]]=row[1:]\n",
    "        \n",
    "print(data)\n",
    "        "
   ]
  },
  {
   "cell_type": "code",
   "execution_count": null,
   "metadata": {},
   "outputs": [],
   "source": []
  },
  {
   "cell_type": "code",
   "execution_count": null,
   "metadata": {},
   "outputs": [],
   "source": [
    "# structure and format for Friday listings\n",
    "# create a class for Friday movie\n",
    "class Movie:\n",
    "    \n",
    "    def __init__(self, title, stars, mpaa, runtime, genre, about):\n",
    "        self.title = title\n",
    "        self.stars = stars\n",
    "        self.mpaa = mpaa\n",
    "        self.runtime = runtime\n",
    "        self.genre = genre\n",
    "        self.about = about\n",
    "        \n",
    "    def LifeTag(self):\n",
    "        return self.title + \" (\" + self.mpaa + \") \"\n",
    "    \n",
    "    def SceneTag(self):\n",
    "        return \"\\\"\\\"\" + self.title + \"\\\"\\\"\\n\" + self.stars + \"\\n\" + self.mpaa + \": \" + self.about \n",
    "        \n",
    "class Screening(Movie):\n",
    "    \n",
    "    def __init__(self, title, cinema, showdate, showtime):\n",
    "        Movie.__init__(self, title)\n",
    "        Movie.__init__(self, mpaa)\n",
    "        self.cinema = cinema\n",
    "        self.showdate1 = showdate\n",
    "        self.showtime = showtime\n",
    "        \n",
    "    "
   ]
  },
  {
   "cell_type": "code",
   "execution_count": null,
   "metadata": {},
   "outputs": [],
   "source": [
    "Creed = Movie(\"Creed II\", \"3 1/2\", \"PG-13\", \"180 minutes\", \"Sports\", \"This sequel ...\")\n",
    "Ralph = Movie(\"Ralph Breaks the Internet\", \"\", \"PG\", \"60 minutes\", \"Animation\", \"Six years after ...\")"
   ]
  },
  {
   "cell_type": "code",
   "execution_count": null,
   "metadata": {},
   "outputs": [],
   "source": [
    "# )ne approach might be to create a class for a listing\n",
    "# that has subclasses for movies and theaters\n",
    "\n",
    "class Listing:\n",
    "    \n",
    "    '''Class for a movie listing that outputs the fully\n",
    "    formatted listing for publication.'''\n",
    "    \n",
    "    def __init__(self):\n",
    "        self.what = 'what should go here?'\n",
    "        \n",
    "    class Movie:\n",
    "        def __init__(self, title, stars, mpaa, runtime, genre, about):\n",
    "            self.title = title\n",
    "            self.stars = stars\n",
    "            self.mpaa = mpaa\n",
    "            self.runtime = runtime\n",
    "            self.genre = genre\n",
    "            self.about = about\n",
    "                return 'narrative common to'\n"
   ]
  },
  {
   "cell_type": "code",
   "execution_count": null,
   "metadata": {},
   "outputs": [],
   "source": [
    "class Cinema:\n",
    "\n",
    "    '''Class for area movie theatre'''\n",
    "    \n",
    "    def __init__(self, theater, addy, market, showtimes):\n",
    "        self.theater = theater\n",
    "        self.addy = addy\n",
    "        self.market = market\n",
    "        self.showtimes = showtimes\n",
    "            "
   ]
  },
  {
   "cell_type": "code",
   "execution_count": null,
   "metadata": {},
   "outputs": [],
   "source": [
    "regal8 = Cinema('Regal 8', '234 Main St.', 'Ocala', '1p, 2p, 3p')\n",
    "amc12 = Cinema('AMC 8', '123 First Ave.', 'Ocala', '3p, 5p, 6p')\n",
    "celeb = Cinema('Celeb', '157 Goose Blvd.', 'Ocala', '7p, 8p, 9p')"
   ]
  },
  {
   "cell_type": "code",
   "execution_count": null,
   "metadata": {},
   "outputs": [],
   "source": [
    "print(regal8.showtimes)"
   ]
  },
  {
   "cell_type": "code",
   "execution_count": null,
   "metadata": {},
   "outputs": [],
   "source": [
    "# structure and format for Saturday listings\n",
    "# create a class for a Saturday movie"
   ]
  },
  {
   "cell_type": "code",
   "execution_count": null,
   "metadata": {},
   "outputs": [],
   "source": [
    "# structure and format for Sunday listings\n",
    "# create a class for a Sunday movie"
   ]
  },
  {
   "cell_type": "code",
   "execution_count": null,
   "metadata": {},
   "outputs": [],
   "source": [
    "def parrot(voltage, state='a stiff', action='voom'):\n",
    "    print(\"-- This parrot wouldn't\", action, end=' ')\n",
    "    print(\"if you put\", voltage, \"volts through it.\", end=' ')\n",
    "    print(\"E's\", state, \"!\")\n",
    "\n",
    "d = {\"voltage\": \"four million\", \"state\": \"bleedin' demised\", \"action\": \"VOOM\"}\n",
    "parrot(**d)\n"
   ]
  },
  {
   "cell_type": "code",
   "execution_count": null,
   "metadata": {},
   "outputs": [],
   "source": [
    "from collections import defaultdict\n",
    "\n",
    "s = [('regal', (1, 2)), ('amc', (3, 5)), ('regal', (2, 4)), ('amc', (7, 9))]\n",
    "d = defaultdict(list)\n",
    "for k, v in s:\n",
    "    if k == k:\n",
    "        d[k].append(v)\n",
    "    \n",
    "sorted(d.items())"
   ]
  },
  {
   "cell_type": "code",
   "execution_count": null,
   "metadata": {},
   "outputs": [],
   "source": [
    "s = listings\n",
    "d = defaultdict(list)\n",
    "for k,v in s:\n",
    "    d[k].append(v)\n",
    "    \n"
   ]
  },
  {
   "cell_type": "code",
   "execution_count": null,
   "metadata": {},
   "outputs": [],
   "source": [
    "s = [('cane', regal8), ('brian', amc12), ('cane', celeb)]\n",
    "d = defaultdict(set)\n",
    "for k, v in s:\n",
    "    d[k].add(v)\n",
    "    \n",
    "sorted(d.items())"
   ]
  },
  {
   "cell_type": "code",
   "execution_count": null,
   "metadata": {},
   "outputs": [],
   "source": [
    "\"\"\" \n",
    "- read in csv\n",
    "- create dictionaries for each row\n",
    "- in each dictionary, set theater as a key with value as a list of showtimes\n",
    "- or not\n",
    "- group dictionaries into two lists based on cities searched\n",
    "- sort dictionaries based on value for movie title\n",
    "- loop through the dictionaries: if the movie name == the one prior,\n",
    "    append the k:v pair the one prior and delete the current dictionary\n",
    "- defs to write narrative for Scene, Go, Fri Oca, Fri Gnv, Sat Oca, Sat Gnv, Sun Oca, Sun Gnv\n",
    "- maybe have those defs in classes for each?\n",
    "\"\"\""
   ]
  },
  {
   "cell_type": "code",
   "execution_count": 21,
   "metadata": {},
   "outputs": [
    {
     "data": {
      "text/plain": [
       "{'addy': '2021 Silver Springs Blvd, Ocala, FL 34471',\n",
       " 'theater': 'Ocala Center 6',\n",
       " 'title': 'Ralph Breaks the Internet',\n",
       " 'mpaa': 'PG',\n",
       " 'stars': '4.5',\n",
       " 'times': '1:00p | 4:00p | 7:00p',\n",
       " 'format': 'Standard',\n",
       " 'synopsis': 'Ralph and Vanellope embark on an adventure inside the internet to find a spare part to fix a video game.',\n",
       " 'date': '2018-11-29',\n",
       " 'city': 'Ocala, FL'}"
      ]
     },
     "execution_count": 21,
     "metadata": {},
     "output_type": "execute_result"
    }
   ],
   "source": [
    "next(item for item in listings if item['stars'] == '4.5')\n"
   ]
  },
  {
   "cell_type": "code",
   "execution_count": 22,
   "metadata": {},
   "outputs": [
    {
     "data": {
      "text/plain": [
       "['Ocala Center 6',\n",
       " 'Regal Royal Park Stadium 16',\n",
       " 'Regal Royal Park Stadium 16',\n",
       " 'Regal Hollywood Stadium 16 & IMAX - Ocala',\n",
       " 'Barnstorm Theater',\n",
       " 'Regal Butler Town Center 14',\n",
       " 'Celebration Pointe 10',\n",
       " 'Celebration Pointe 10',\n",
       " 'Regal Butler Town Center 14',\n",
       " 'Florida Twin',\n",
       " 'Regal Hollywood Stadium 16 & IMAX - Ocala',\n",
       " 'Old Mill Playhouse',\n",
       " 'Regal Butler Town Center 14',\n",
       " 'Regal Butler Town Center 14',\n",
       " 'Barnstorm Theater',\n",
       " 'Regal Royal Park Stadium 16',\n",
       " 'Regal Royal Park Stadium 16',\n",
       " 'Regal Royal Park Stadium 16',\n",
       " 'Old Mill Playhouse',\n",
       " 'Belleview Cinemas',\n",
       " 'Regal Butler Town Center 14',\n",
       " 'Regal Butler Town Center 14',\n",
       " 'Regal Butler Town Center 14',\n",
       " 'Ocala Center 6',\n",
       " 'Belleview Cinemas',\n",
       " 'AMC Lake Square 12',\n",
       " 'Regal Hollywood Stadium 16 & IMAX - Ocala',\n",
       " 'Belleview Cinemas',\n",
       " 'Regal Hollywood Stadium 16 & IMAX - Ocala',\n",
       " 'AMC Lake Square 12',\n",
       " 'Old Mill Playhouse',\n",
       " 'Ocala Center 6',\n",
       " 'Regal Hollywood Stadium 16 & IMAX - Ocala',\n",
       " 'UA Cinema 90 6',\n",
       " 'Old Mill Playhouse',\n",
       " 'Regal Hollywood Stadium 16 & IMAX - Ocala',\n",
       " 'Rialto Theatre Spanish Springs Town Square',\n",
       " 'Regal Royal Park Stadium 16',\n",
       " 'Celebration Pointe 10',\n",
       " 'Regal Royal Park Stadium 16',\n",
       " 'Regal Hollywood Stadium 16 & IMAX - Ocala',\n",
       " 'Belleview Cinemas',\n",
       " 'Regal Hollywood Stadium 16 & IMAX - Ocala',\n",
       " 'Regal Royal Park Stadium 16',\n",
       " 'Regal Butler Town Center 14',\n",
       " 'Florida Twin',\n",
       " 'Regal Hollywood Stadium 16 & IMAX - Ocala',\n",
       " 'Regal Royal Park Stadium 16',\n",
       " 'Regal Butler Town Center 14',\n",
       " 'Regal Butler Town Center 14',\n",
       " 'Regal Hollywood Stadium 16 & IMAX - Ocala',\n",
       " 'Old Mill Playhouse',\n",
       " 'Regal Hollywood Stadium 16 & IMAX - Ocala',\n",
       " 'Ocala Center 6',\n",
       " 'Regal Butler Town Center 14',\n",
       " 'Old Mill Playhouse',\n",
       " 'AMC Lake Square 12',\n",
       " 'Regal Butler Town Center 14',\n",
       " 'Ocala Center 6',\n",
       " 'Rialto Theatre Spanish Springs Town Square',\n",
       " 'Celebration Pointe 10',\n",
       " 'Regal Hollywood Stadium 16 & IMAX - Ocala',\n",
       " 'Regal Butler Town Center 14',\n",
       " 'Regal Royal Park Stadium 16',\n",
       " 'Marion Theatre',\n",
       " 'AMC Lake Square 12',\n",
       " 'Regal Hollywood Stadium 16 & IMAX - Ocala',\n",
       " 'Rialto Theatre Spanish Springs Town Square',\n",
       " 'AMC Lake Square 12',\n",
       " 'Regal Royal Park Stadium 16',\n",
       " 'Regal Hollywood Stadium 16 & IMAX - Ocala',\n",
       " 'Regal Hollywood Stadium 16 & IMAX - Ocala',\n",
       " 'UA Cinema 90 6',\n",
       " 'Regal Hollywood Stadium 16 & IMAX - Ocala',\n",
       " 'Regal Hollywood Stadium 16 & IMAX - Ocala',\n",
       " 'Rialto Theatre Spanish Springs Town Square',\n",
       " 'Regal Royal Park Stadium 16',\n",
       " 'Regal Hollywood Stadium 16 & IMAX - Ocala',\n",
       " 'AMC Lake Square 12',\n",
       " 'Regal Hollywood Stadium 16 & IMAX - Ocala',\n",
       " 'Regal Royal Park Stadium 16',\n",
       " 'Celebration Pointe 10',\n",
       " 'Old Mill Playhouse',\n",
       " 'AMC Lake Square 12',\n",
       " 'Regal Royal Park Stadium 16',\n",
       " 'Celebration Pointe 10',\n",
       " 'Regal Royal Park Stadium 16',\n",
       " 'Ocala Center 6',\n",
       " 'Barnstorm Theater',\n",
       " 'Ocala Center 6',\n",
       " 'Barnstorm Theater',\n",
       " 'Regal Butler Town Center 14',\n",
       " 'Rialto Theatre Spanish Springs Town Square',\n",
       " 'Regal Butler Town Center 14',\n",
       " 'Ocala Center 6',\n",
       " 'Regal Hollywood Stadium 16 & IMAX - Ocala',\n",
       " 'Old Mill Playhouse',\n",
       " 'Regal Hollywood Stadium 16 & IMAX - Ocala',\n",
       " 'Hippodrome State Theatre',\n",
       " 'Celebration Pointe 10',\n",
       " 'AMC Lake Square 12',\n",
       " 'Barnstorm Theater',\n",
       " 'Regal Royal Park Stadium 16',\n",
       " 'Regal Royal Park Stadium 16',\n",
       " 'Regal Butler Town Center 14',\n",
       " 'AMC Lake Square 12',\n",
       " 'Barnstorm Theater',\n",
       " 'Rialto Theatre Spanish Springs Town Square',\n",
       " 'Regal Butler Town Center 14',\n",
       " 'Regal Royal Park Stadium 16',\n",
       " 'Celebration Pointe 10',\n",
       " 'Barnstorm Theater',\n",
       " 'Regal Butler Town Center 14',\n",
       " 'Rialto Theatre Spanish Springs Town Square',\n",
       " 'Regal Hollywood Stadium 16 & IMAX - Ocala',\n",
       " 'Rialto Theatre Spanish Springs Town Square',\n",
       " 'Celebration Pointe 10',\n",
       " 'Regal Royal Park Stadium 16',\n",
       " 'Regal Royal Park Stadium 16',\n",
       " 'Regal Royal Park Stadium 16',\n",
       " 'Rialto Theatre Spanish Springs Town Square',\n",
       " 'UA Cinema 90 6',\n",
       " 'Celebration Pointe 10',\n",
       " 'Regal Hollywood Stadium 16 & IMAX - Ocala',\n",
       " 'Regal Royal Park Stadium 16',\n",
       " 'Regal Butler Town Center 14',\n",
       " 'Regal Hollywood Stadium 16 & IMAX - Ocala',\n",
       " 'Rialto Theatre Spanish Springs Town Square',\n",
       " 'Regal Royal Park Stadium 16',\n",
       " 'UA Cinema 90 6',\n",
       " 'Celebration Pointe 10',\n",
       " 'Regal Butler Town Center 14',\n",
       " 'Regal Butler Town Center 14',\n",
       " 'UA Cinema 90 6',\n",
       " 'Old Mill Playhouse',\n",
       " 'Regal Butler Town Center 14',\n",
       " 'Regal Royal Park Stadium 16',\n",
       " 'Rialto Theatre Spanish Springs Town Square',\n",
       " 'Regal Hollywood Stadium 16 & IMAX - Ocala',\n",
       " 'Regal Royal Park Stadium 16',\n",
       " 'Regal Hollywood Stadium 16 & IMAX - Ocala',\n",
       " 'Celebration Pointe 10',\n",
       " 'Regal Hollywood Stadium 16 & IMAX - Ocala',\n",
       " 'Regal Royal Park Stadium 16',\n",
       " 'Ocala Drive-In',\n",
       " 'Old Mill Playhouse',\n",
       " 'Regal Hollywood Stadium 16 & IMAX - Ocala',\n",
       " 'Regal Royal Park Stadium 16',\n",
       " 'Rialto Theatre Spanish Springs Town Square',\n",
       " 'Regal Butler Town Center 14',\n",
       " 'Hippodrome State Theatre',\n",
       " 'Celebration Pointe 10',\n",
       " 'Ocala Center 6',\n",
       " 'Regal Butler Town Center 14',\n",
       " 'Rialto Theatre Spanish Springs Town Square',\n",
       " 'Celebration Pointe 10',\n",
       " 'Regal Butler Town Center 14',\n",
       " 'Rialto Theatre Spanish Springs Town Square',\n",
       " 'Old Mill Playhouse',\n",
       " 'Marion Theatre',\n",
       " 'Ocala Center 6',\n",
       " 'Celebration Pointe 10',\n",
       " 'Regal Royal Park Stadium 16',\n",
       " 'Regal Royal Park Stadium 16',\n",
       " 'Regal Hollywood Stadium 16 & IMAX - Ocala',\n",
       " 'AMC Lake Square 12',\n",
       " 'Regal Royal Park Stadium 16',\n",
       " 'Regal Royal Park Stadium 16',\n",
       " 'Regal Hollywood Stadium 16 & IMAX - Ocala',\n",
       " 'Regal Butler Town Center 14',\n",
       " 'Regal Royal Park Stadium 16',\n",
       " 'Regal Hollywood Stadium 16 & IMAX - Ocala',\n",
       " 'Celebration Pointe 10',\n",
       " 'Celebration Pointe 10',\n",
       " 'Barnstorm Theater',\n",
       " 'Regal Butler Town Center 14',\n",
       " 'Regal Hollywood Stadium 16 & IMAX - Ocala',\n",
       " 'Celebration Pointe 10',\n",
       " 'Regal Butler Town Center 14',\n",
       " 'UA Cinema 90 6',\n",
       " 'Regal Hollywood Stadium 16 & IMAX - Ocala',\n",
       " 'Celebration Pointe 10',\n",
       " 'Marion Theatre',\n",
       " 'Barnstorm Theater',\n",
       " 'Regal Hollywood Stadium 16 & IMAX - Ocala',\n",
       " 'Old Mill Playhouse',\n",
       " 'AMC Lake Square 12',\n",
       " 'Regal Hollywood Stadium 16 & IMAX - Ocala',\n",
       " 'Regal Butler Town Center 14',\n",
       " 'Barnstorm Theater',\n",
       " 'Celebration Pointe 10',\n",
       " 'Regal Butler Town Center 14',\n",
       " 'Old Mill Playhouse',\n",
       " 'UA Cinema 90 6',\n",
       " 'Regal Butler Town Center 14',\n",
       " 'Regal Hollywood Stadium 16 & IMAX - Ocala',\n",
       " 'Ocala Center 6',\n",
       " 'Barnstorm Theater',\n",
       " 'Ocala Center 6',\n",
       " 'Rialto Theatre Spanish Springs Town Square',\n",
       " 'Regal Royal Park Stadium 16',\n",
       " 'Rialto Theatre Spanish Springs Town Square',\n",
       " 'AMC Lake Square 12',\n",
       " 'AMC Lake Square 12',\n",
       " 'Regal Royal Park Stadium 16',\n",
       " 'Regal Butler Town Center 14',\n",
       " 'Rialto Theatre Spanish Springs Town Square',\n",
       " 'AMC Lake Square 12',\n",
       " 'Rialto Theatre Spanish Springs Town Square',\n",
       " 'Celebration Pointe 10',\n",
       " 'Rialto Theatre Spanish Springs Town Square',\n",
       " 'Regal Hollywood Stadium 16 & IMAX - Ocala',\n",
       " 'Regal Royal Park Stadium 16',\n",
       " 'Regal Royal Park Stadium 16',\n",
       " 'Ocala Drive-In',\n",
       " 'Celebration Pointe 10',\n",
       " 'Rialto Theatre Spanish Springs Town Square',\n",
       " 'Old Mill Playhouse',\n",
       " 'Regal Royal Park Stadium 16',\n",
       " 'Belleview Cinemas',\n",
       " 'Regal Butler Town Center 14',\n",
       " 'Old Mill Playhouse',\n",
       " 'Marion Theatre',\n",
       " 'Old Mill Playhouse',\n",
       " 'Regal Royal Park Stadium 16',\n",
       " 'Regal Hollywood Stadium 16 & IMAX - Ocala',\n",
       " 'Regal Butler Town Center 14',\n",
       " 'Regal Hollywood Stadium 16 & IMAX - Ocala',\n",
       " 'AMC Lake Square 12',\n",
       " 'Regal Hollywood Stadium 16 & IMAX - Ocala',\n",
       " 'Rialto Theatre Spanish Springs Town Square',\n",
       " 'Regal Hollywood Stadium 16 & IMAX - Ocala',\n",
       " 'Regal Butler Town Center 14',\n",
       " 'Regal Hollywood Stadium 16 & IMAX - Ocala',\n",
       " 'Old Mill Playhouse',\n",
       " 'Old Mill Playhouse',\n",
       " 'UA Cinema 90 6',\n",
       " 'Regal Royal Park Stadium 16',\n",
       " 'Belleview Cinemas',\n",
       " 'Regal Hollywood Stadium 16 & IMAX - Ocala',\n",
       " 'Rialto Theatre Spanish Springs Town Square',\n",
       " 'Regal Hollywood Stadium 16 & IMAX - Ocala',\n",
       " 'Regal Royal Park Stadium 16',\n",
       " 'Regal Butler Town Center 14']"
      ]
     },
     "execution_count": 22,
     "metadata": {},
     "output_type": "execute_result"
    }
   ],
   "source": [
    "# return value in dictionary from list\n",
    "[d['theater'] for d in listings]"
   ]
  },
  {
   "cell_type": "code",
   "execution_count": 71,
   "metadata": {},
   "outputs": [
    {
     "name": "stdout",
     "output_type": "stream",
     "text": [
      "2018-11-29 00:00:00\n"
     ]
    }
   ],
   "source": [
    "from datetime import date\n",
    "\n",
    "# return a row by index\n",
    "show = listings[0]\n",
    "showdate = datetime.datetime.strptime(show.get('date'), '%Y-%m-%d')\n",
    "print(showdate)"
   ]
  },
  {
   "cell_type": "code",
   "execution_count": 20,
   "metadata": {},
   "outputs": [],
   "source": [
    "# workon print narrative for Scene\n",
    "\n",
    "# CONVERTS datetime into AP style text; from Stucka\n",
    "def get_big_timestamp(date_object=None):\n",
    "    if not date_object:\n",
    "        date_object = datetime.datetime.now()\n",
    "    stamp = \"\"\n",
    "    # comment out below if you don't want \"Wednesday\" or similar in your string\n",
    "    #stamp += datetime.datetime.strftime(date_object, \"%A, \")\n",
    "    if date_object.month == 9:\n",
    "        stamp += \"Sept. \" +  datetimedatetime.strftime(date_object, \"%d, %Y\").lstrip(\"0\")\n",
    "    elif date_object.month < 3 or date_object.month > 7:\n",
    "        stamp += datetime.datetime.strftime(date_object, \"%b. \") \\\n",
    "        + datetime.datetime.strftime(date_object, \"%d\").lstrip(\"0\")\n",
    "    else:\n",
    "        stamp += datetime.datetime.strftime(date_object, \"%B \") \\\n",
    "        + datetime.datetime.strftime(date_object, \"%d\").lstrip(\"0\")\n",
    "    # uncomment out below if you want the year\n",
    "    #stamp += datetime.datetime.strftime(date_object, \", %Y\")\n",
    "    # uncomment below if you want the time\n",
    "    # stamp += \", at \"\n",
    "    # stamp += datetime.datetime.strftime(date_object, \"%I:%M %p\").lstrip(\"0\").replace(\"AM\", \"a.m.\").replace(\"PM\", \"p.m.\")\n",
    "    return(stamp)\n",
    "\n"
   ]
  },
  {
   "cell_type": "code",
   "execution_count": null,
   "metadata": {},
   "outputs": [],
   "source": [
    "def scene_pn(id):\n",
    "    showdate = \n"
   ]
  }
 ],
 "metadata": {
  "kernelspec": {
   "display_name": "Python 3",
   "language": "python",
   "name": "python3"
  },
  "language_info": {
   "codemirror_mode": {
    "name": "ipython",
    "version": 3
   },
   "file_extension": ".py",
   "mimetype": "text/x-python",
   "name": "python",
   "nbconvert_exporter": "python",
   "pygments_lexer": "ipython3",
   "version": "3.6.0"
  }
 },
 "nbformat": 4,
 "nbformat_minor": 2
}
