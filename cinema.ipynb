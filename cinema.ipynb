{
 "cells": [
  {
   "cell_type": "code",
   "execution_count": 1,
   "metadata": {},
   "outputs": [],
   "source": [
    "\"\"\"Code to format info on movies in a csv file for publication.\"\"\"\n",
    "\n",
    "# libraries\n",
    "#from collections import defaultdict\n",
    "import csv\n",
    "import datetime\n",
    "from datetime import date\n",
    "import glob\n",
    "#from itertools import chain\n",
    "import os.path, time\n",
    "import numpy as np \n",
    "import pandas as pd \n",
    "import shutil\n",
    "from tempfile import NamedTemporaryFile\n"
   ]
  },
  {
   "cell_type": "code",
   "execution_count": null,
   "metadata": {},
   "outputs": [],
   "source": [
    "# Find newest csv file in the directory and use it.\n",
    "directory = '/Users/Doug/workspace/cinema/*.csv'\n",
    "list_of_files = glob.glob(directory)\n",
    "latest_file = max(list_of_files, key=os.path.getctime)\n",
    "newfile = latest_file.split('cinema/')[-1]"
   ]
  },
  {
   "cell_type": "code",
<<<<<<< HEAD
   "execution_count": 5,
   "metadata": {},
   "outputs": [],
   "source": [
    "path = r'/Users/rayd/workspace/cinema/newscrape.csv'"
   ]
  },
  {
   "cell_type": "code",
   "execution_count": 11,
   "metadata": {},
   "outputs": [
    {
     "name": "stdout",
     "output_type": "stream",
     "text": [
      "{'addy': '4901 SW 31st Place, Gainesville', 'theater': 'Celebration Pointe 10', 'title': 'Spider-Man: Into the Spider-Verse', 'mpaa': 'PG', 'stars': '5', 'times': '4:20, 7:20, 10:40 p.m.', 'format': 'Standard', 'synopsis': 'Spider-Man mentors a teenager from Brooklyn, N.Y., to become the next web-slinging superhero.', 'date': '2019-01-23', 'city': 'Gainesville, FL'}\n"
     ]
    }
   ],
   "source": [
    "# Creates list of dictionaries for each row, assigns field name for key in all pairs. This is working.\n",
    "listings = []\n",
    "with open(path, 'r') as f:\n",
    "    reader = csv.reader(f)\n",
    "    for row in reader:\n",
    "        row[0] = row[0].split(', FL')[0]\n",
    "        row[5] = row[5].replace('p | ', ' p.m., ')\n",
    "        row[5] = row[5].replace('a | ', ' a.m., ')\n",
    "        row[5] = row[5].replace('0p', '0 p.m.')\n",
    "        row[5] = row[5].replace('5p', '5 p.m.')\n",
    "        row[5] = row[5].replace(':00', '')\n",
    "        row[5] = row[5].replace(' p.m.,', ',')\n",
    "        layout_dct = {\n",
    "            'addy': row[0], 'theater': row[1], 'title': row[2],\n",
    "            'mpaa': row[3], 'stars': row[4], 'times': row[5],\n",
    "            'format': row[6], 'synopsis': row[7], 'date': row[8],\n",
    "            'city': row[9]\n",
    "        }\n",
    "        listings.append(layout_dct)\n",
    "    \n",
    "del listings[0] #remove header row\n",
    "\n",
    "print(listings[0])\n",
    "        "
   ]
  },
  {
   "cell_type": "code",
   "execution_count": 20,
=======
   "execution_count": 9,
>>>>>>> 6ff4240acb460d39715693f8dfcfec1aba983f09
   "metadata": {},
   "outputs": [
    {
     "data": {
<<<<<<< HEAD
      "text/plain": [
       "'2019-01-23'"
      ]
     },
     "execution_count": 20,
=======
      "text/html": [
       "<div>\n",
       "<style scoped>\n",
       "    .dataframe tbody tr th:only-of-type {\n",
       "        vertical-align: middle;\n",
       "    }\n",
       "\n",
       "    .dataframe tbody tr th {\n",
       "        vertical-align: top;\n",
       "    }\n",
       "\n",
       "    .dataframe thead th {\n",
       "        text-align: right;\n",
       "    }\n",
       "</style>\n",
       "<table border=\"1\" class=\"dataframe\">\n",
       "  <thead>\n",
       "    <tr style=\"text-align: right;\">\n",
       "      <th></th>\n",
       "      <th>Location</th>\n",
       "      <th>Theatre</th>\n",
       "      <th>Movie</th>\n",
       "      <th>Movie_Rating</th>\n",
       "      <th>Star_Rating</th>\n",
       "      <th>Show_Times</th>\n",
       "      <th>Movie_Format</th>\n",
       "      <th>Synopsis</th>\n",
       "      <th>Date</th>\n",
       "      <th>Searched_City</th>\n",
       "    </tr>\n",
       "  </thead>\n",
       "  <tbody>\n",
       "    <tr>\n",
       "      <th>0</th>\n",
       "      <td>4901 SW 31st Place, Gainesville, FL 32608</td>\n",
       "      <td>Celebration Pointe 10</td>\n",
       "      <td>Spider-Man: Into the Spider-Verse</td>\n",
       "      <td>PG</td>\n",
       "      <td>5.0</td>\n",
       "      <td>4:20p | 7:20p | 10:40p</td>\n",
       "      <td>Standard</td>\n",
       "      <td>Spider-Man mentors a teenager from Brooklyn, N...</td>\n",
       "      <td>2019-01-23</td>\n",
       "      <td>Gainesville, FL</td>\n",
       "    </tr>\n",
       "  </tbody>\n",
       "</table>\n",
       "</div>"
      ],
      "text/plain": [
       "                                    Location                Theatre  \\\n",
       "0  4901 SW 31st Place, Gainesville, FL 32608  Celebration Pointe 10   \n",
       "\n",
       "                               Movie Movie_Rating  Star_Rating  \\\n",
       "0  Spider-Man: Into the Spider-Verse           PG          5.0   \n",
       "\n",
       "               Show_Times Movie_Format  \\\n",
       "0  4:20p | 7:20p | 10:40p     Standard   \n",
       "\n",
       "                                            Synopsis        Date  \\\n",
       "0  Spider-Man mentors a teenager from Brooklyn, N...  2019-01-23   \n",
       "\n",
       "     Searched_City  \n",
       "0  Gainesville, FL  "
      ]
     },
     "execution_count": 9,
>>>>>>> 6ff4240acb460d39715693f8dfcfec1aba983f09
     "metadata": {},
     "output_type": "execute_result"
    }
   ],
   "source": [
<<<<<<< HEAD
    "listings[0].get('date', 'none')"
=======
    "df = pd.read_csv(newfile)\n",
    "df.head(1)"
>>>>>>> 6ff4240acb460d39715693f8dfcfec1aba983f09
   ]
  },
  {
   "cell_type": "code",
<<<<<<< HEAD
   "execution_count": 23,
   "metadata": {},
   "outputs": [
    {
     "name": "stdout",
     "output_type": "stream",
     "text": [
      "2019-01-23 00:00:00\n"
=======
   "execution_count": 11,
   "metadata": {},
   "outputs": [
    {
     "ename": "NameError",
     "evalue": "name 'Location' is not defined",
     "output_type": "error",
     "traceback": [
      "\u001b[0;31m---------------------------------------------------------------------------\u001b[0m",
      "\u001b[0;31mNameError\u001b[0m                                 Traceback (most recent call last)",
      "\u001b[0;32m<ipython-input-11-6a55d3d313b9>\u001b[0m in \u001b[0;36m<module>\u001b[0;34m\u001b[0m\n\u001b[0;32m----> 1\u001b[0;31m \u001b[0mdf\u001b[0m\u001b[0;34m[\u001b[0m\u001b[0mLocation\u001b[0m\u001b[0;34m]\u001b[0m\u001b[0;34m\u001b[0m\u001b[0m\n\u001b[0m",
      "\u001b[0;31mNameError\u001b[0m: name 'Location' is not defined"
>>>>>>> 6ff4240acb460d39715693f8dfcfec1aba983f09
     ]
    }
   ],
   "source": [
<<<<<<< HEAD
    "show = listings[0]\n",
    "showdate = datetime.datetime.strptime(show.get('date'), '%Y-%m-%d')\n",
    "print(showdate)"
=======
    "df[]"
>>>>>>> 6ff4240acb460d39715693f8dfcfec1aba983f09
   ]
  },
  {
   "cell_type": "code",
<<<<<<< HEAD
   "execution_count": 16,
=======
   "execution_count": null,
>>>>>>> 6ff4240acb460d39715693f8dfcfec1aba983f09
   "metadata": {},
   "outputs": [
    {
     "data": {
      "text/plain": [
       "'/Users/rayd/workspace/cinema/newscrape.csv'"
      ]
     },
     "execution_count": 16,
     "metadata": {},
     "output_type": "execute_result"
    }
   ],
   "source": [
    "def scene(listings):\n",
    "    \n",
    "    gnv_market = ['Gainesville FL', 'High Springs, FL', 'Starke, FL']\n",
    "   \n",
    "    if 'city' in gnv_market:\n",
    "                movie_stuff = f\"\\\"{row[2]}\\\", {row[3]}, {row[4]}, {row[6]}, {row[7]}\"\n",
    "                theater_stuff = f'{row[1]}, {row[0]}, {row[5]}'\n",
    "                listing = movie_stuff + theater_stuff\n",
    "                listings.append(listing)\n",
    "    return listings\n",
    "            \n",
    "scene(path)\n",
    "\n"
   ]
  },
  {
   "cell_type": "code",
   "execution_count": null,
   "metadata": {},
   "outputs": [],
   "source": []
  },
  {
   "cell_type": "code",
   "execution_count": null,
   "metadata": {},
   "outputs": [],
   "source": [
    "# Edit problems in the newfile\n",
    "with open(path) as csv_file:\n",
    "    reader = csv.reader(csv_file, delimiter= ',', quotechar='\"')\n",
    "    \n",
    "    for row in reader:\n",
    "        row[0] = row[0].split(', FL')[0]\n",
    "        row[5] = row[5].replace('p | ', ' p.m., ')\n",
    "        row[5] = row[5].replace('a | ', ' a.m., ')\n",
    "        row[5] = row[5].replace('0p', '0 p.m.')\n",
    "        row[5] = row[5].replace('5p', '5 p.m.')\n",
    "        row[5] = row[5].replace(':00', '')\n",
    "        row[5] = row[5].replace(' p.m.,', ',')\n",
    "    \n",
    "ocala_market = ['Ocala, FL', 'Belleview, FL', 'The Villages, FL']\n",
    "gnv_market = ['Gainesville FL', 'High Springs, FL', 'Starke, FL']\n",
    "\n",
    "amc_lake = 'AmC Lake Square 12'\n",
    "barnstorm = 'Barnstorm Theater'\n",
    "celebration10 = 'Celebration Point 10'\n",
    "fla_twin = 'Florida Twin'\n",
    "hipp = 'Hippodrome State Theatre'\n",
    "marion_th = 'Marion Theatre'\n",
    "ocala6 = 'Ocala Center 6'\n",
    "old_mill = 'Old Mill Playhouse'\n",
    "butler = 'Regal Butler Town Center 14'\n",
    "imax_ocala = 'Regal Hollywood Stadium 16 & IMAX - Ocala'\n",
    "regal_royal = 'Regal Royal Park Stadium 16'\n",
    "reitz = 'Reitz Union Cinema - U of Fl'\n",
    "rialto = 'Rialto Theatre Spanish Springs Town Square'"
   ]
  },
  {
   "cell_type": "code",
   "execution_count": null,
   "metadata": {},
   "outputs": [],
   "source": [
    "def go_pn():\n",
    "    listing = []\n",
    "    listings = []\n",
    "    f=open('golistings.txt', 'a')\n",
    "    f.write('MOVIE TIMES' + '\\n\\n')\n",
    "    ocala_market = ['Ocala, FL', 'Belleview, FL', 'The Villages, FL']\n",
    "    gnv_market = ['Gainesville FL', 'High Springs, FL', 'Starke, FL']\n",
    "    belleview = 'Belleview, FL'\n",
    "    hipp = 'Hippodrome State Theatre'\n",
    "    ocala = 'Ocala, FL'\n",
    "    \n",
    "    with open('2781_Fandango_data_Movie_full.csv') as csv_file:\n",
    "        csv_reader = csv.reader(csv_file, delimiter=',')\n",
    "        headers = next(csv_reader)\n",
    "        for row in csv_reader:\n",
    "            if row[9] in ocala_market:\n",
    "                row[0] = row[0].split(', FL')[0]\n",
    "                row[5] = row[5].replace('p | ', ' p.m., ')\n",
    "                row[5] = row[5].replace('a | ', ' a.m., ')\n",
    "                row[5] = row[5].replace('0p', '0 p.m.')\n",
    "                row[5] = row[5].replace('5p', '5 p.m.')\n",
    "                row[5] = row[5].replace(':00', '')\n",
    "                movie_stuff = f\"\\\"{row[2]}\\\", {row[3]}, {row[4]}, {row[6]}, {row[7]}\"\n",
    "                theater_stuff = f'{row[1]}, {row[0]}, {row[5]}'\n",
    "                listing = movie_stuff + theater_stuff\n",
    "                listings.append(listing)\n",
    "                \n",
    "                f.write(movie_stuff + )\n",
    "    return listings\n",
    "            \n",
    "go_pn()"
   ]
  },
  {
   "cell_type": "code",
   "execution_count": null,
   "metadata": {},
   "outputs": [],
   "source": [
    "def daily_pn():\n",
    "    listing = []\n",
    "    listings = []\n",
    "    ocala_market = ['Ocala, FL', 'Belleview, FL', 'The Villages, FL']\n",
    "    gnv_market = ['Gainesville FL', 'High Springs, FL', 'Starke, FL']\n",
    "    with open('2781_Fandango_data_Movie_full.csv') as csv_file:\n",
    "        csv_reader = csv.reader(csv_file, delimiter=',')\n",
    "        headers = next(csv_reader)\n",
    "        for row in csv_reader:\n",
    "            if row[9] in ocala_market:\n",
    "                row[0] = row[0].split(', FL')[0]\n",
    "                row[5] = row[5].replace('p | ', ' p.m., ')\n",
    "                row[5] = row[5].replace('a | ', ' a.m., ')\n",
    "                row[5] = row[5].replace('0p', '0 p.m.')\n",
    "                row[5] = row[5].replace('5p', '5 p.m.')\n",
    "                row[5] = row[5].replace(':00', '')\n",
    "                movie_stuff = f\"\\\"{row[2]}\\\", {row[3]}, {row[4]}, {row[6]}\"\n",
    "                theater_stuff = f'{row[1]}, {row[0]}, {row[5]}'\n",
    "                listing = movie_stuff + theater_stuff\n",
    "                listings.append(listing)\n",
    "    return listings\n",
    "            \n",
    "daily_pn()"
   ]
  },
  {
   "cell_type": "code",
   "execution_count": null,
   "metadata": {},
   "outputs": [],
   "source": [
    "# read in csv file and prepare for work\n",
    "filename = \"2781_Fandango_data_Movie_sample_data.csv\"\n",
    "fieldnames = ['Location', 'Theatre', 'Movie', 'Movie_Rating', 'Show_Times', 'Movie_Format', 'Synopsis', 'Date', 'Searched_City']\n",
    "#rows = []   "
   ]
  },
  {
   "cell_type": "code",
   "execution_count": 8,
   "metadata": {},
   "outputs": [
    {
     "name": "stdout",
     "output_type": "stream",
     "text": [
      "[{'addy': '4901 SW 31st Place, Gainesville, FL 32608', 'theater': 'Celebration Pointe 10', 'title': 'Spider-Man: Into the Spider-Verse', 'mpaa': 'PG', 'stars': '5', 'times': '4:20p | 7:20p | 10:40p', 'format': 'Standard', 'synopsis': 'Spider-Man mentors a teenager from Brooklyn, N.Y., to become the next web-slinging superhero.', 'date': '2019-01-23', 'city': 'Gainesville, FL'}, {'addy': '1105 Alonzo Ave, Lady Lake, FL 32159', 'theater': 'Rialto Theatre Spanish Springs Town Square', 'title': 'The Wife', 'mpaa': 'R', 'stars': '4', 'times': '11:00a | 5:00p', 'format': 'Standard', 'synopsis': 'After nearly forty years of marriage, JOAN and JOE CASTLEMAN (Glenn Close and Jonathan Pryce) are complements. Where Joe is casual, Joan is elegant. Where Joe is vain, Joan is self-effacing. And where Joe enjoys his very public role as Great American Novelist, Joan pours her considerable intellect, grace, charm, and diplomacy into the private role of Great Man’s Wife. Joe is about to be awarded the Nobel Prize for his acclaimed and prolific body of work. Joe’s literary star has blazed since he and Joan first met in the late 1950. THE WIFE interweaves the story of the couple’s youthful passion and ambition with a portrait of a marriage, thirty-plus years later—a lifetime’s shared compromises, secrets, betrayals, and mutual love.', 'date': '2019-01-23', 'city': 'Belleview, FL'}, {'addy': '3101 SW 35th Blvd, Gainesville, FL 32608', 'theater': 'Regal Butler Town Center 14', 'title': 'Aquaman', 'mpaa': 'PG-13', 'stars': '4.5', 'times': '3:55p | 7:10p | 10:15p', 'format': 'Standard', 'synopsis': 'Aquaman finds himself caught between a surface world that ravages the sea and the underwater Atlanteans who are ready to revolt.', 'date': '2019-01-23', 'city': 'High Springs, FL'}, {'addy': '2801 SW 27th Avenue, Ocala, FL 34474', 'theater': 'Regal Hollywood Stadium 16 & IMAX - Ocala', 'title': 'Cyrano de Bergerac presented by Comédie-Française', 'mpaa': 'PG', 'stars': '3', 'times': '7:00p', 'format': 'Standard', 'synopsis': 'From award-winning director, stage and cinema actor Denis Podalydès, this classic tale of hijinx comes to cinemas nationwide from the renowned Comédie-Française stage on January 23 only. Cyrano de Bergerac, despite a deformed and enormous nose, proves to be a talented swordsman and a man of great wit. In a local pastry shop, the precious Roxane, with whom Cyrano is secretly in love, reveals to him that she loves a young nobleman named Christian. Blessed with all of life’s gifts except for romantic eloquence, Christian asks Cyrano to help him woo Roxane, secretly prompting him with romantic turns of phrase. She becomes enamored, but at the siege of Arras, Christian dies and asks Cyrano to reveal the truth to Roxane. Opera buffa, tragedy, romantic drama, symbolist poetry, slapstick comedy… all genres are called upon to give life to this staging of one of the most emblematic texts of the French repertoire!', 'date': '2019-01-23', 'city': 'Belleview, FL'}, {'addy': '3702 Newberry Road, Gainesville, FL 32607', 'theater': 'Regal Royal Park Stadium 16', 'title': 'Holmes & Watson', 'mpaa': 'PG-13', 'stars': '2', 'times': '1:55p | 4:40p | 7:20p | 10:00p', 'format': 'Standard', 'synopsis': \"A humorous take on Sir Arthur Conan Doyle's classic mysteries featuring Sherlock Holmes and Doctor Watson.\", 'date': '2019-01-23', 'city': 'High Springs, FL'}, {'addy': '1105 Alonzo Ave, Lady Lake, FL 32159', 'theater': 'Rialto Theatre Spanish Springs Town Square', 'title': 'Mary Queen of Scots (2018)', 'mpaa': 'R', 'stars': '4', 'times': '8:25a | 11:10a | 1:55p | 7:30p | 10:15p', 'format': 'Standard', 'synopsis': '“Mary Queen of Scots” explores the turbulent life of the charismatic Mary Stuart (Ronan). Queen of France at 16 and widowed at 18, Mary defies pressure to remarry. Instead, she returns to her native Scotland to reclaim her rightful throne. But Scotland and England fall under the rule of the compelling Elizabeth I (Robbie). Each young Queen beholds her “sister” in fear and fascination. Rivals in power and in love, and female regents in a masculine world, the two must decide how to play the game of marriage versus independence. Determined to rule as much more than a figurehead, Mary asserts her claim to the English throne, threatening Elizabeth’s sovereignty. Betrayal, rebellion, and conspiracies within each court imperil both thrones – and change the course of history.', 'date': '2019-01-23', 'city': 'The Villages, FL'}, {'addy': '1105 Alonzo Ave, Lady Lake, FL 32159', 'theater': 'Rialto Theatre Spanish Springs Town Square', 'title': 'Vice (2018)', 'mpaa': 'R', 'stars': '3.5', 'times': '9:40a | 12:35p | 3:30p | 6:30p | 9:25p', 'format': 'Standard', 'synopsis': \"Gov. George W. Bush of Texas picks Dick Cheney, the CEO of Halliburton Co., to be his Republican running mate in the 2000 presidential election. No stranger to politics, Cheney's impressive résumé includes stints as White House chief of staff, House Minority Whip and defense secretary. When Bush wins by a narrow margin, Cheney begins to use his newfound power to help reshape the country and the world.\", 'date': '2019-01-23', 'city': 'The Villages, FL'}, {'addy': '3702 Newberry Road, Gainesville, FL 32607', 'theater': 'Regal Royal Park Stadium 16', 'title': 'Glass (2019)', 'mpaa': 'PG-13', 'stars': '4', 'times': '3:50p | 7:00p | 9:55p', 'format': 'Standard', 'synopsis': 'Security guard David Dunn uses his supernatural abilities to track Kevin Wendell Crumb, a disturbed man who has twenty-four personalities.', 'date': '2019-01-23', 'city': 'Gainesville, FL'}, {'addy': '2830 Hwy 90 West, Lake City, FL 32055', 'theater': 'UA Cinema 90 6', 'title': 'The Upside', 'mpaa': 'PG-13', 'stars': '4.5', 'times': '3:45p | 7:10p', 'format': 'Standard', 'synopsis': \"Phillip is a wealthy quadriplegic who needs a caretaker to help him with his day-to-day routine in his New York penthouse. He decides to hire Dell, a struggling parolee who's trying to reconnect with his ex and his young son. Despite coming from two different worlds, an unlikely friendship starts to blossom as Dell and Phillip rediscover the joy of living life to the fullest.\", 'date': '2019-01-23', 'city': 'Lake City, FL'}, {'addy': '2720 Brownwood Blvd., The Villages, FL 32163', 'theater': 'Barnstorm Theater', 'title': 'Glass (2019)', 'mpaa': 'PG-13', 'stars': '4', 'times': '9:30a | 12:00p | 2:30p | 5:00p | 7:30p | 9:30p | 10:15p', 'format': 'Standard', 'synopsis': 'Security guard David Dunn uses his supernatural abilities to track Kevin Wendell Crumb, a disturbed man who has twenty-four personalities.', 'date': '2019-01-23', 'city': 'The Villages, FL'}, {'addy': '2801 SW 27th Avenue, Ocala, FL 34474', 'theater': 'Regal Hollywood Stadium 16 & IMAX - Ocala', 'title': 'Glass (2019)', 'mpaa': 'PG-13', 'stars': '4', 'times': '3:00p | 7:00p | 10:00p', 'format': 'IMAX', 'synopsis': 'Security guard David Dunn uses his supernatural abilities to track Kevin Wendell Crumb, a disturbed man who has twenty-four personalities.', 'date': '2019-01-23', 'city': 'Ocala, FL'}, {'addy': '2720 Brownwood Blvd., The Villages, FL 32163', 'theater': 'Barnstorm Theater', 'title': 'A Star Is Born (2018)', 'mpaa': 'R', 'stars': '4.5', 'times': '10:30a | 1:30p | 6:45p', 'format': 'Standard', 'synopsis': 'In this new take on the tragic love story, Bradley Cooper plays seasoned musician Jackson Maine, who discovers—and falls in love with—struggling artist Ally (Gaga). She has just about given up on her dream to make it big as a singer… until Jack coaxes her into the spotlight. But even as Ally’s career takes off, the personal side of their relationship is breaking down, as Jack fights an ongoing battle with his own internal demons.', 'date': '2019-01-23', 'city': 'The Villages, FL'}, {'addy': '4901 SW 31st Place, Gainesville, FL 32608', 'theater': 'Celebration Pointe 10', 'title': 'Spider-Man: Into the Spider-Verse', 'mpaa': 'PG', 'stars': '5', 'times': '4:20p | 7:20p | 10:40p', 'format': 'Standard', 'synopsis': 'Spider-Man mentors a teenager from Brooklyn, N.Y., to become the next web-slinging superhero.', 'date': '2019-01-23', 'city': 'High Springs, FL'}, {'addy': '10401-015 US Hwy. 441 South, Leesburg, FL 34788', 'theater': 'AMC Lake Square 12', 'title': 'Spider-Man: Into the Spider-Verse', 'mpaa': 'PG', 'stars': '5', 'times': '10:25a | 1:00p', 'format': 'Standard', 'synopsis': 'Spider-Man mentors a teenager from Brooklyn, N.Y., to become the next web-slinging superhero.', 'date': '2019-01-23', 'city': 'The Villages, FL'}, {'addy': '3101 SW 35th Blvd, Gainesville, FL 32608', 'theater': 'Regal Butler Town Center 14', 'title': 'The Mule (2018)', 'mpaa': 'R', 'stars': '4', 'times': '3:40p | 10:30p', 'format': 'Standard', 'synopsis': \"Broke, alone and facing foreclosure on his business, 90-year-old horticulturist Earl Stone takes a job as a drug courier for a Mexican cartel. His immediate success leads to easy money and a larger shipment that soon draws the attention of hard-charging DEA agent Colin Bates. When Earl's past mistakes start to weigh heavily on his conscience, he must decide whether to right those wrongs before law enforcement and cartel thugs catch up to him.\", 'date': '2019-01-23', 'city': 'Gainesville, FL'}, {'addy': '1105 Alonzo Ave, Lady Lake, FL 32159', 'theater': 'Rialto Theatre Spanish Springs Town Square', 'title': 'Mary Poppins Returns (2018)', 'mpaa': 'PG', 'stars': '4.5', 'times': '8:20a | 11:30a | 1:30p | 3:50p | 4:40p | 6:35p | 9:00p', 'format': 'Standard', 'synopsis': 'Now an adult with three children, bank teller Michael Banks learns that his house will be repossessed in five days unless he can pay back a loan. His only hope is to find a missing certificate that shows proof of valuable shares that his father left him years earlier. Just as all seems lost, Michael and his sister receive the surprise of a lifetime when Mary Poppins -- the beloved nanny from their childhood -- arrives to save the day and take the Banks family on a magical, fun-filled adventure.', 'date': '2019-01-23', 'city': 'Belleview, FL'}, {'addy': '3101 SW 35th Blvd, Gainesville, FL 32608', 'theater': 'Regal Butler Town Center 14', 'title': 'On the Basis of Sex', 'mpaa': 'PG-13', 'stars': '4.5', 'times': '4:05p | 6:55p | 9:45p', 'format': 'Standard', 'synopsis': 'The film tells an inspiring and spirited true story that follows young lawyer Ruth Bader Ginsburg as she teams with her husband Marty to bring a groundbreaking case before the U.S. Court of Appeals and overturn a century of gender discrimination. The feature will premiere in 2018 in line with Justice Ginsburg’s 25th anniversary on the Supreme Court.', 'date': '2019-01-23', 'city': 'Gainesville, FL'}, {'addy': '1105 Alonzo Ave, Lady Lake, FL 32159', 'theater': 'Rialto Theatre Spanish Springs Town Square', 'title': 'Escape Room (2019)', 'mpaa': 'PG-13', 'stars': '4', 'times': '11:00a | 4:00p', 'format': 'Standard', 'synopsis': 'Six strangers find themselves in circumstances beyond their control, and must use their wits to survive.', 'date': '2019-01-23', 'city': 'The Villages, FL'}, {'addy': '3702 Newberry Road, Gainesville, FL 32607', 'theater': 'Regal Royal Park Stadium 16', 'title': 'Spider-Man: Into the Spider-Verse', 'mpaa': 'PG', 'stars': '5', 'times': '1:25p | 4:15p | 7:00p | 9:50p', 'format': 'Standard', 'synopsis': 'Spider-Man mentors a teenager from Brooklyn, N.Y., to become the next web-slinging superhero.', 'date': '2019-01-23', 'city': 'Gainesville, FL'}, {'addy': '3702 Newberry Road, Gainesville, FL 32607', 'theater': 'Regal Royal Park Stadium 16', 'title': 'A Star Is Born (2018)', 'mpaa': 'R', 'stars': '4.5', 'times': '6:00p | 9:05p', 'format': 'Standard', 'synopsis': 'In this new take on the tragic love story, Bradley Cooper plays seasoned musician Jackson Maine, who discovers—and falls in love with—struggling artist Ally (Gaga). She has just about given up on her dream to make it big as a singer… until Jack coaxes her into the spotlight. But even as Ally’s career takes off, the personal side of their relationship is breaking down, as Jack fights an ongoing battle with his own internal demons.', 'date': '2019-01-23', 'city': 'High Springs, FL'}, {'addy': '3702 Newberry Road, Gainesville, FL 32607', 'theater': 'Regal Royal Park Stadium 16', 'title': 'The Mule (2018)', 'mpaa': 'R', 'stars': '4', 'times': '3:15p | 7:10p | 10:05p', 'format': 'Standard', 'synopsis': \"Broke, alone and facing foreclosure on his business, 90-year-old horticulturist Earl Stone takes a job as a drug courier for a Mexican cartel. His immediate success leads to easy money and a larger shipment that soon draws the attention of hard-charging DEA agent Colin Bates. When Earl's past mistakes start to weigh heavily on his conscience, he must decide whether to right those wrongs before law enforcement and cartel thugs catch up to him.\", 'date': '2019-01-23', 'city': 'Gainesville, FL'}, {'addy': '1000 Old Mill Run, The Villages, FL 32162', 'theater': 'Old Mill Playhouse', 'title': 'Ben is Back', 'mpaa': 'R', 'stars': '4', 'times': '9:45a | 12:15p | 2:45p | 5:15p | 7:45p', 'format': 'Standard', 'synopsis': \"19 year-old Ben Burns (Lucas Hedges) unexpectedly returns home to his family's suburban home on Christmas Eve morning. Ben’s mother, Holly (Julia Roberts), is relieved and welcoming but wary of her son staying clean. Over a turbulent 24 hours, new truths are revealed, and a mother's undying love for her son is tested as she does everything in her power to keep him safe. Ben is Back also stars Courtney B. Vance (The People V. O.J. Simpson: American Crime Story) and Kathryn Newton.\", 'date': '2019-01-23', 'city': 'Belleview, FL'}, {'addy': '2801 SW 27th Avenue, Ocala, FL 34474', 'theater': 'Regal Hollywood Stadium 16 & IMAX - Ocala', 'title': 'On the Basis of Sex', 'mpaa': 'PG-13', 'stars': '4.5', 'times': '3:35p | 7:05p | 10:30p', 'format': 'Standard', 'synopsis': 'The film tells an inspiring and spirited true story that follows young lawyer Ruth Bader Ginsburg as she teams with her husband Marty to bring a groundbreaking case before the U.S. Court of Appeals and overturn a century of gender discrimination. The feature will premiere in 2018 in line with Justice Ginsburg’s 25th anniversary on the Supreme Court.', 'date': '2019-01-23', 'city': 'Belleview, FL'}, {'addy': '3101 SW 35th Blvd, Gainesville, FL 32608', 'theater': 'Regal Butler Town Center 14', 'title': 'Cyrano de Bergerac presented by Comédie-Française', 'mpaa': 'PG', 'stars': '3', 'times': '7:00p', 'format': 'Standard', 'synopsis': 'From award-winning director, stage and cinema actor Denis Podalydès, this classic tale of hijinx comes to cinemas nationwide from the renowned Comédie-Française stage on January 23 only. Cyrano de Bergerac, despite a deformed and enormous nose, proves to be a talented swordsman and a man of great wit. In a local pastry shop, the precious Roxane, with whom Cyrano is secretly in love, reveals to him that she loves a young nobleman named Christian. Blessed with all of life’s gifts except for romantic eloquence, Christian asks Cyrano to help him woo Roxane, secretly prompting him with romantic turns of phrase. She becomes enamored, but at the siege of Arras, Christian dies and asks Cyrano to reveal the truth to Roxane. Opera buffa, tragedy, romantic drama, symbolist poetry, slapstick comedy… all genres are called upon to give life to this staging of one of the most emblematic texts of the French repertoire!', 'date': '2019-01-23', 'city': 'Gainesville, FL'}, {'addy': '3702 Newberry Road, Gainesville, FL 32607', 'theater': 'Regal Royal Park Stadium 16', 'title': 'Bohemian Rhapsody', 'mpaa': 'PG-13', 'stars': '5', 'times': '3:15p | 6:15p | 9:15p', 'format': 'Standard', 'synopsis': \"Singer Freddie Mercury, guitarist Brian May, drummer Roger Taylor and bass guitarist John Deacon take the music world by storm when they form the rock 'n' roll band Queen in 1970. Surrounded by darker influences, Mercury decides to leave Queen years later to pursue a solo career. Diagnosed with AIDS in the 1980s, the flamboyant frontman reunites with the group for the benefit concert Live Aid -- leading the band in one of the greatest performances in rock history.\", 'date': '2019-01-23', 'city': 'Gainesville, FL'}, {'addy': '3101 SW 35th Blvd, Gainesville, FL 32608', 'theater': 'Regal Butler Town Center 14', 'title': \"A Dog's Way Home\", 'mpaa': 'PG', 'stars': '4.5', 'times': '2:35p | 5:05p | 7:55p | 10:50p', 'format': 'Standard', 'synopsis': 'As a puppy, Bella finds her way into the arms of Lucas, a young man who gives her a good home. When Bella becomes separated from Lucas, she soon finds herself on an epic 400-mile journey to reunite with her beloved owner. Along the way, the lost but spirited dog touches the lives of an orphaned mountain lion, a down-on-his-luck veteran and some friendly strangers who happen to cross her path.', 'date': '2019-01-23', 'city': 'Gainesville, FL'}, {'addy': '3702 Newberry Road, Gainesville, FL 32607', 'theater': 'Regal Royal Park Stadium 16', 'title': 'Bumblebee', 'mpaa': 'PG-13', 'stars': '4.5', 'times': '1:30p | 4:30p | 7:25p | 10:10p', 'format': 'Standard', 'synopsis': 'On the run in the year 1987, Bumblebee the Autobot seeks refuge in a junkyard in a small California beach town. Charlie, on the brink of turning 18 years old and trying to find her place in the world, soon discovers the battle-scarred and broken Bumblebee. When Charlie revives him, she quickly learns that this is no ordinary yellow Volkswagen.', 'date': '2019-01-23', 'city': 'Gainesville, FL'}, {'addy': '3101 SW 35th Blvd, Gainesville, FL 32608', 'theater': 'Regal Butler Town Center 14', 'title': 'Mary Poppins Returns (2018)', 'mpaa': 'PG', 'stars': '4.5', 'times': '3:50p | 7:05p | 10:05p', 'format': 'Standard', 'synopsis': 'Now an adult with three children, bank teller Michael Banks learns that his house will be repossessed in five days unless he can pay back a loan. His only hope is to find a missing certificate that shows proof of valuable shares that his father left him years earlier. Just as all seems lost, Michael and his sister receive the surprise of a lifetime when Mary Poppins -- the beloved nanny from their childhood -- arrives to save the day and take the Banks family on a magical, fun-filled adventure.', 'date': '2019-01-23', 'city': 'High Springs, FL'}, {'addy': '1105 Alonzo Ave, Lady Lake, FL 32159', 'theater': 'Rialto Theatre Spanish Springs Town Square', 'title': 'Cyrano de Bergerac presented by Comédie-Française', 'mpaa': 'PG', 'stars': '3', 'times': '7:00p', 'format': 'Standard', 'synopsis': 'From award-winning director, stage and cinema actor Denis Podalydès, this classic tale of hijinx comes to cinemas nationwide from the renowned Comédie-Française stage on January 23 only. Cyrano de Bergerac, despite a deformed and enormous nose, proves to be a talented swordsman and a man of great wit. In a local pastry shop, the precious Roxane, with whom Cyrano is secretly in love, reveals to him that she loves a young nobleman named Christian. Blessed with all of life’s gifts except for romantic eloquence, Christian asks Cyrano to help him woo Roxane, secretly prompting him with romantic turns of phrase. She becomes enamored, but at the siege of Arras, Christian dies and asks Cyrano to reveal the truth to Roxane. Opera buffa, tragedy, romantic drama, symbolist poetry, slapstick comedy… all genres are called upon to give life to this staging of one of the most emblematic texts of the French repertoire!', 'date': '2019-01-23', 'city': 'The Villages, FL'}, {'addy': '2801 SW 27th Avenue, Ocala, FL 34474', 'theater': 'Regal Hollywood Stadium 16 & IMAX - Ocala', 'title': 'On the Basis of Sex', 'mpaa': 'PG-13', 'stars': '4.5', 'times': '3:35p | 7:05p | 10:30p', 'format': 'Standard', 'synopsis': 'The film tells an inspiring and spirited true story that follows young lawyer Ruth Bader Ginsburg as she teams with her husband Marty to bring a groundbreaking case before the U.S. Court of Appeals and overturn a century of gender discrimination. The feature will premiere in 2018 in line with Justice Ginsburg’s 25th anniversary on the Supreme Court.', 'date': '2019-01-23', 'city': 'Ocala, FL'}, {'addy': '3702 Newberry Road, Gainesville, FL 32607', 'theater': 'Regal Royal Park Stadium 16', 'title': 'The Mule (2018)', 'mpaa': 'R', 'stars': '4', 'times': '3:15p | 7:10p | 10:05p', 'format': 'Standard', 'synopsis': \"Broke, alone and facing foreclosure on his business, 90-year-old horticulturist Earl Stone takes a job as a drug courier for a Mexican cartel. His immediate success leads to easy money and a larger shipment that soon draws the attention of hard-charging DEA agent Colin Bates. When Earl's past mistakes start to weigh heavily on his conscience, he must decide whether to right those wrongs before law enforcement and cartel thugs catch up to him.\", 'date': '2019-01-23', 'city': 'High Springs, FL'}, {'addy': '1105 Alonzo Ave, Lady Lake, FL 32159', 'theater': 'Rialto Theatre Spanish Springs Town Square', 'title': 'Mary Poppins Returns (2018)', 'mpaa': 'PG', 'stars': '4.5', 'times': '8:20a | 11:30a | 1:30p | 3:50p | 4:40p | 6:35p | 9:00p', 'format': 'Standard', 'synopsis': 'Now an adult with three children, bank teller Michael Banks learns that his house will be repossessed in five days unless he can pay back a loan. His only hope is to find a missing certificate that shows proof of valuable shares that his father left him years earlier. Just as all seems lost, Michael and his sister receive the surprise of a lifetime when Mary Poppins -- the beloved nanny from their childhood -- arrives to save the day and take the Banks family on a magical, fun-filled adventure.', 'date': '2019-01-23', 'city': 'The Villages, FL'}, {'addy': '2801 SW 27th Avenue, Ocala, FL 34474', 'theater': 'Regal Hollywood Stadium 16 & IMAX - Ocala', 'title': 'The Upside', 'mpaa': 'PG-13', 'stars': '4.5', 'times': '1:55p | 4:50p | 7:45p | 10:40p', 'format': 'Standard', 'synopsis': \"Phillip is a wealthy quadriplegic who needs a caretaker to help him with his day-to-day routine in his New York penthouse. He decides to hire Dell, a struggling parolee who's trying to reconnect with his ex and his young son. Despite coming from two different worlds, an unlikely friendship starts to blossom as Dell and Phillip rediscover the joy of living life to the fullest.\", 'date': '2019-01-23', 'city': 'Ocala, FL'}, {'addy': '2801 SW 27th Avenue, Ocala, FL 34474', 'theater': 'Regal Hollywood Stadium 16 & IMAX - Ocala', 'title': 'Ben is Back', 'mpaa': 'R', 'stars': '4', 'times': '4:50p | 7:55p | 10:40p', 'format': 'Standard', 'synopsis': \"19 year-old Ben Burns (Lucas Hedges) unexpectedly returns home to his family's suburban home on Christmas Eve morning. Ben’s mother, Holly (Julia Roberts), is relieved and welcoming but wary of her son staying clean. Over a turbulent 24 hours, new truths are revealed, and a mother's undying love for her son is tested as she does everything in her power to keep him safe. Ben is Back also stars Courtney B. Vance (The People V. O.J. Simpson: American Crime Story) and Kathryn Newton.\", 'date': '2019-01-23', 'city': 'Belleview, FL'}, {'addy': '2801 SW 27th Avenue, Ocala, FL 34474', 'theater': 'Regal Hollywood Stadium 16 & IMAX - Ocala', 'title': 'Spider-Man: Into the Spider-Verse', 'mpaa': 'PG', 'stars': '5', 'times': '1:40p | 4:20p', 'format': 'Standard', 'synopsis': 'Spider-Man mentors a teenager from Brooklyn, N.Y., to become the next web-slinging superhero.', 'date': '2019-01-23', 'city': 'Ocala, FL'}, {'addy': '2801 SW 27th Avenue, Ocala, FL 34474', 'theater': 'Regal Hollywood Stadium 16 & IMAX - Ocala', 'title': 'Dragon Ball Super: Broly', 'mpaa': 'PG', 'stars': '5', 'times': '7:30p | 2:00p', 'format': 'Standard', 'synopsis': 'A planet destroyed, a powerful race reduced to nothing. After the devastation of Planet Vegeta, three Saiyans were scattered among the stars, destined for different fates. While two found a home on Earth, the third was raised with a burning desire for vengeance and developed an unbelievable power. And the time for revenge has come. Destinies collide in a battle that will shake the universe to its very core! Goku is back to training hard so he can face the most powerful foes the universes have to offer, and Vegeta is keeping up right beside him. But when they suddenly find themselves against an unknown Saiyan, they discover a terrible, destructive force. Locked into battle with the formidable Broly, Goku and Vegeta face their most dangerous opponent yet!', 'date': '2019-01-23', 'city': 'Belleview, FL'}, {'addy': '2021 Silver Springs Blvd, Ocala, FL 34471', 'theater': 'Ocala Center 6', 'title': 'Replicas', 'mpaa': 'PG-13', 'stars': '3.5', 'times': '1:00p | 4:00p', 'format': 'Standard', 'synopsis': 'William Foster is a brilliant neuroscientist who loses his wife, son and two daughters in a tragic car accident. Utilizing cutting-edge technology, William comes up with a daring and unprecedented plan to download their memories and clone their bodies. As the experiment begins to spiral out of control, Foster soon finds himself at odds with his dubious boss, a reluctant accomplice, a police task force and the physical laws of science.', 'date': '2019-01-23', 'city': 'Belleview, FL'}, {'addy': '2720 Brownwood Blvd., The Villages, FL 32163', 'theater': 'Barnstorm Theater', 'title': 'Holmes & Watson', 'mpaa': 'PG-13', 'stars': '2', 'times': '10:00a | 5:30p | 8:15p | 10:25p', 'format': 'Standard', 'synopsis': \"A humorous take on Sir Arthur Conan Doyle's classic mysteries featuring Sherlock Holmes and Doctor Watson.\", 'date': '2019-01-23', 'city': 'The Villages, FL'}, {'addy': '3702 Newberry Road, Gainesville, FL 32607', 'theater': 'Regal Royal Park Stadium 16', 'title': 'Creed II', 'mpaa': 'PG-13', 'stars': '4.5', 'times': '1:35p | 3:10p | 7:15p | 9:20p', 'format': 'Standard', 'synopsis': \"Life has become a balancing act for Adonis Creed. Between personal obligations and training for his next big fight, he is up against the challenge of his life. Facing an opponent with ties to his family's past only intensifies his impending battle in the ring. Rocky Balboa is there by his side through it all and, together, Rocky and Adonis will confront their shared legacy, question what's worth fighting for, and discover that nothing's more important than family. Creed II is about going back to basics to rediscover what made you a champion in the first place, and remembering that, no matter where you go, you can't escape your history.\", 'date': '2019-01-23', 'city': 'Gainesville, FL'}, {'addy': '1000 Old Mill Run, The Villages, FL 32162', 'theater': 'Old Mill Playhouse', 'title': 'Spider-Man: Into the Spider-Verse', 'mpaa': 'PG', 'stars': '5', 'times': '9:35a | 12:15p | 3:00p | 6:45p | 9:30p', 'format': 'Standard', 'synopsis': 'Spider-Man mentors a teenager from Brooklyn, N.Y., to become the next web-slinging superhero.', 'date': '2019-01-23', 'city': 'The Villages, FL'}, {'addy': '4901 SW 31st Place, Gainesville, FL 32608', 'theater': 'Celebration Pointe 10', 'title': 'The Upside', 'mpaa': 'PG-13', 'stars': '4.5', 'times': '3:35p | 7:15p | 10:20p', 'format': 'Standard', 'synopsis': \"Phillip is a wealthy quadriplegic who needs a caretaker to help him with his day-to-day routine in his New York penthouse. He decides to hire Dell, a struggling parolee who's trying to reconnect with his ex and his young son. Despite coming from two different worlds, an unlikely friendship starts to blossom as Dell and Phillip rediscover the joy of living life to the fullest.\", 'date': '2019-01-23', 'city': 'Gainesville, FL'}, {'addy': '1000 Old Mill Run, The Villages, FL 32162', 'theater': 'Old Mill Playhouse', 'title': 'Aquaman', 'mpaa': 'PG-13', 'stars': '4.5', 'times': '9:30a | 12:35p | 3:40p | 5:45p | 7:30p | 9:00p', 'format': 'Standard', 'synopsis': 'Aquaman finds himself caught between a surface world that ravages the sea and the underwater Atlanteans who are ready to revolt.', 'date': '2019-01-23', 'city': 'The Villages, FL'}, {'addy': '2801 SW 27th Avenue, Ocala, FL 34474', 'theater': 'Regal Hollywood Stadium 16 & IMAX - Ocala', 'title': 'Ralph Breaks the Internet', 'mpaa': 'PG', 'stars': '4.5', 'times': '2:05p', 'format': 'Standard', 'synopsis': 'Ralph and Vanellope embark on an adventure inside the internet to find a spare part to fix a video game.', 'date': '2019-01-23', 'city': 'Belleview, FL'}, {'addy': '2801 SW 27th Avenue, Ocala, FL 34474', 'theater': 'Regal Hollywood Stadium 16 & IMAX - Ocala', 'title': 'Cyrano de Bergerac presented by Comédie-Française', 'mpaa': 'PG', 'stars': '3', 'times': '7:00p', 'format': 'Standard', 'synopsis': 'From award-winning director, stage and cinema actor Denis Podalydès, this classic tale of hijinx comes to cinemas nationwide from the renowned Comédie-Française stage on January 23 only. Cyrano de Bergerac, despite a deformed and enormous nose, proves to be a talented swordsman and a man of great wit. In a local pastry shop, the precious Roxane, with whom Cyrano is secretly in love, reveals to him that she loves a young nobleman named Christian. Blessed with all of life’s gifts except for romantic eloquence, Christian asks Cyrano to help him woo Roxane, secretly prompting him with romantic turns of phrase. She becomes enamored, but at the siege of Arras, Christian dies and asks Cyrano to reveal the truth to Roxane. Opera buffa, tragedy, romantic drama, symbolist poetry, slapstick comedy… all genres are called upon to give life to this staging of one of the most emblematic texts of the French repertoire!', 'date': '2019-01-23', 'city': 'Ocala, FL'}, {'addy': '3101 SW 35th Blvd, Gainesville, FL 32608', 'theater': 'Regal Butler Town Center 14', 'title': 'Cyrano de Bergerac presented by Comédie-Française', 'mpaa': 'PG', 'stars': '3', 'times': '7:00p', 'format': 'Standard', 'synopsis': 'From award-winning director, stage and cinema actor Denis Podalydès, this classic tale of hijinx comes to cinemas nationwide from the renowned Comédie-Française stage on January 23 only. Cyrano de Bergerac, despite a deformed and enormous nose, proves to be a talented swordsman and a man of great wit. In a local pastry shop, the precious Roxane, with whom Cyrano is secretly in love, reveals to him that she loves a young nobleman named Christian. Blessed with all of life’s gifts except for romantic eloquence, Christian asks Cyrano to help him woo Roxane, secretly prompting him with romantic turns of phrase. She becomes enamored, but at the siege of Arras, Christian dies and asks Cyrano to reveal the truth to Roxane. Opera buffa, tragedy, romantic drama, symbolist poetry, slapstick comedy… all genres are called upon to give life to this staging of one of the most emblematic texts of the French repertoire!', 'date': '2019-01-23', 'city': 'High Springs, FL'}, {'addy': '2801 SW 27th Avenue, Ocala, FL 34474', 'theater': 'Regal Hollywood Stadium 16 & IMAX - Ocala', 'title': 'Glass (2019)', 'mpaa': 'PG-13', 'stars': '4', 'times': '4:00p | 7:30p | 10:30p', 'format': 'Standard', 'synopsis': 'Security guard David Dunn uses his supernatural abilities to track Kevin Wendell Crumb, a disturbed man who has twenty-four personalities.', 'date': '2019-01-23', 'city': 'Ocala, FL'}, {'addy': '2801 SW 27th Avenue, Ocala, FL 34474', 'theater': 'Regal Hollywood Stadium 16 & IMAX - Ocala', 'title': 'Vice (2018)', 'mpaa': 'R', 'stars': '3.5', 'times': '3:40p | 10:20p', 'format': 'Standard', 'synopsis': \"Gov. George W. Bush of Texas picks Dick Cheney, the CEO of Halliburton Co., to be his Republican running mate in the 2000 presidential election. No stranger to politics, Cheney's impressive résumé includes stints as White House chief of staff, House Minority Whip and defense secretary. When Bush wins by a narrow margin, Cheney begins to use his newfound power to help reshape the country and the world.\", 'date': '2019-01-23', 'city': 'Ocala, FL'}, {'addy': '1000 Old Mill Run, The Villages, FL 32162', 'theater': 'Old Mill Playhouse', 'title': 'Second Act', 'mpaa': 'PG-13', 'stars': '4', 'times': '9:30a | 12:00p | 2:30p | 5:00p | 9:00p', 'format': 'Standard', 'synopsis': 'Second Act is a comedy in the vein of Working Girl and Maid In Manhattan. Jennifer Lopez stars as Maya, a 40-year-old woman struggling with frustrations from unfulfilled dreams. Until, that is, she gets the chance to prove to Madison Avenue that street smarts are as valuable as book smarts, and that it is never too late for a Second Act.', 'date': '2019-01-23', 'city': 'The Villages, FL'}, {'addy': '3101 SW 35th Blvd, Gainesville, FL 32608', 'theater': 'Regal Butler Town Center 14', 'title': 'Spider-Man: Into the Spider-Verse', 'mpaa': 'PG', 'stars': '5', 'times': '4:20p | 7:25p | 10:10p', 'format': 'Standard', 'synopsis': 'Spider-Man mentors a teenager from Brooklyn, N.Y., to become the next web-slinging superhero.', 'date': '2019-01-23', 'city': 'High Springs, FL'}, {'addy': '1105 Alonzo Ave, Lady Lake, FL 32159', 'theater': 'Rialto Theatre Spanish Springs Town Square', 'title': 'Green Book', 'mpaa': 'PG-13', 'stars': '5', 'times': '8:45a | 11:35a | 2:30p | 5:20p | 8:10p', 'format': 'Standard', 'synopsis': \"Dr. Don Shirley is a world-class African-American pianist who's about to embark on a concert tour in the Deep South in 1962. In need of a driver and protection, Shirley recruits Tony Lip, a tough-talking bouncer from an Italian-American neighborhood in the Bronx. Despite their differences, the two men soon develop an unexpected bond while confronting racism and danger in an era of segregation.\", 'date': '2019-01-23', 'city': 'The Villages, FL'}, {'addy': '3101 SW 35th Blvd, Gainesville, FL 32608', 'theater': 'Regal Butler Town Center 14', 'title': 'Replicas', 'mpaa': 'PG-13', 'stars': '3.5', 'times': '2:40p | 8:15p', 'format': 'Standard', 'synopsis': 'William Foster is a brilliant neuroscientist who loses his wife, son and two daughters in a tragic car accident. Utilizing cutting-edge technology, William comes up with a daring and unprecedented plan to download their memories and clone their bodies. As the experiment begins to spiral out of control, Foster soon finds himself at odds with his dubious boss, a reluctant accomplice, a police task force and the physical laws of science.', 'date': '2019-01-23', 'city': 'High Springs, FL'}, {'addy': '2021 Silver Springs Blvd, Ocala, FL 34471', 'theater': 'Ocala Center 6', 'title': 'Glass (2019)', 'mpaa': 'PG-13', 'stars': '4', 'times': '1:00p | 4:00p | 7:00p | 7:15p', 'format': 'Standard', 'synopsis': 'Security guard David Dunn uses his supernatural abilities to track Kevin Wendell Crumb, a disturbed man who has twenty-four personalities.', 'date': '2019-01-23', 'city': 'Ocala, FL'}, {'addy': '10845 SE US Highway 441, Belleview, FL 34420', 'theater': 'Belleview Cinemas', 'title': 'Spider-Man: Into the Spider-Verse', 'mpaa': 'PG', 'stars': '5', 'times': '1:00p | 4:00p | 7:00p', 'format': 'Standard', 'synopsis': 'Spider-Man mentors a teenager from Brooklyn, N.Y., to become the next web-slinging superhero.', 'date': '2019-01-23', 'city': 'Belleview, FL'}, {'addy': '2801 SW 27th Avenue, Ocala, FL 34474', 'theater': 'Regal Hollywood Stadium 16 & IMAX - Ocala', 'title': 'Ben is Back', 'mpaa': 'R', 'stars': '4', 'times': '4:50p | 7:55p | 10:40p', 'format': 'Standard', 'synopsis': \"19 year-old Ben Burns (Lucas Hedges) unexpectedly returns home to his family's suburban home on Christmas Eve morning. Ben’s mother, Holly (Julia Roberts), is relieved and welcoming but wary of her son staying clean. Over a turbulent 24 hours, new truths are revealed, and a mother's undying love for her son is tested as she does everything in her power to keep him safe. Ben is Back also stars Courtney B. Vance (The People V. O.J. Simpson: American Crime Story) and Kathryn Newton.\", 'date': '2019-01-23', 'city': 'Ocala, FL'}, {'addy': '3101 SW 35th Blvd, Gainesville, FL 32608', 'theater': 'Regal Butler Town Center 14', 'title': 'The Upside', 'mpaa': 'PG-13', 'stars': '4.5', 'times': '4:15p | 7:15p | 10:15p', 'format': 'Standard', 'synopsis': \"Phillip is a wealthy quadriplegic who needs a caretaker to help him with his day-to-day routine in his New York penthouse. He decides to hire Dell, a struggling parolee who's trying to reconnect with his ex and his young son. Despite coming from two different worlds, an unlikely friendship starts to blossom as Dell and Phillip rediscover the joy of living life to the fullest.\", 'date': '2019-01-23', 'city': 'Gainesville, FL'}, {'addy': '2830 Hwy 90 West, Lake City, FL 32055', 'theater': 'UA Cinema 90 6', 'title': 'Dragon Ball Super: Broly', 'mpaa': 'PG', 'stars': '5', 'times': '7:30p', 'format': 'Standard', 'synopsis': 'A planet destroyed, a powerful race reduced to nothing. After the devastation of Planet Vegeta, three Saiyans were scattered among the stars, destined for different fates. While two found a home on Earth, the third was raised with a burning desire for vengeance and developed an unbelievable power. And the time for revenge has come. Destinies collide in a battle that will shake the universe to its very core! Goku is back to training hard so he can face the most powerful foes the universes have to offer, and Vegeta is keeping up right beside him. But when they suddenly find themselves against an unknown Saiyan, they discover a terrible, destructive force. Locked into battle with the formidable Broly, Goku and Vegeta face their most dangerous opponent yet!', 'date': '2019-01-23', 'city': 'Lake City, FL'}, {'addy': '2021 Silver Springs Blvd, Ocala, FL 34471', 'theater': 'Ocala Center 6', 'title': \"A Dog's Way Home\", 'mpaa': 'PG', 'stars': '4.5', 'times': '1:00p | 4:00p | 7:00p', 'format': 'Standard', 'synopsis': 'As a puppy, Bella finds her way into the arms of Lucas, a young man who gives her a good home. When Bella becomes separated from Lucas, she soon finds herself on an epic 400-mile journey to reunite with her beloved owner. Along the way, the lost but spirited dog touches the lives of an orphaned mountain lion, a down-on-his-luck veteran and some friendly strangers who happen to cross her path.', 'date': '2019-01-23', 'city': 'Belleview, FL'}, {'addy': '1000 Old Mill Run, The Villages, FL 32162', 'theater': 'Old Mill Playhouse', 'title': 'Bumblebee', 'mpaa': 'PG-13', 'stars': '4.5', 'times': '10:00a | 12:45p | 3:30p | 6:15p | 9:00p', 'format': 'Standard', 'synopsis': 'On the run in the year 1987, Bumblebee the Autobot seeks refuge in a junkyard in a small California beach town. Charlie, on the brink of turning 18 years old and trying to find her place in the world, soon discovers the battle-scarred and broken Bumblebee. When Charlie revives him, she quickly learns that this is no ordinary yellow Volkswagen.', 'date': '2019-01-23', 'city': 'The Villages, FL'}, {'addy': '4901 SW 31st Place, Gainesville, FL 32608', 'theater': 'Celebration Pointe 10', 'title': 'Bumblebee', 'mpaa': 'PG-13', 'stars': '4.5', 'times': '4:25p | 7:50p | 10:35p', 'format': 'Standard', 'synopsis': 'On the run in the year 1987, Bumblebee the Autobot seeks refuge in a junkyard in a small California beach town. Charlie, on the brink of turning 18 years old and trying to find her place in the world, soon discovers the battle-scarred and broken Bumblebee. When Charlie revives him, she quickly learns that this is no ordinary yellow Volkswagen.', 'date': '2019-01-23', 'city': 'High Springs, FL'}, {'addy': '10845 SE US Highway 441, Belleview, FL 34420', 'theater': 'Belleview Cinemas', 'title': 'Spider-Man: Into the Spider-Verse', 'mpaa': 'PG', 'stars': '5', 'times': '1:00p | 4:00p | 7:00p', 'format': 'Standard', 'synopsis': 'Spider-Man mentors a teenager from Brooklyn, N.Y., to become the next web-slinging superhero.', 'date': '2019-01-23', 'city': 'The Villages, FL'}, {'addy': '2720 Brownwood Blvd., The Villages, FL 32163', 'theater': 'Barnstorm Theater', 'title': 'Buffalo Boys', 'mpaa': '', 'stars': '3', 'times': '10:45a | 1:45p | 4:20p | 10:20p', 'format': 'Standard', 'synopsis': \"In 19th-century Java, a brutal massacre and the murder of Sultan Hamza by Captain Van Trach and his Dutch soldiers force Arana, Jamar and Suwo -- the sultan's brother and infant sons -- to flee the country, bringing them halfway around the world to the American Wild West. After working the railroads and learning the cowboy way of life, Arana tells the boys it's time to return to their homeland and avenge their father's death.\", 'date': '2019-01-23', 'city': 'The Villages, FL'}, {'addy': '2801 SW 27th Avenue, Ocala, FL 34474', 'theater': 'Regal Hollywood Stadium 16 & IMAX - Ocala', 'title': 'The Upside', 'mpaa': 'PG-13', 'stars': '4.5', 'times': '1:55p | 4:50p | 7:45p | 10:40p', 'format': 'Standard', 'synopsis': \"Phillip is a wealthy quadriplegic who needs a caretaker to help him with his day-to-day routine in his New York penthouse. He decides to hire Dell, a struggling parolee who's trying to reconnect with his ex and his young son. Despite coming from two different worlds, an unlikely friendship starts to blossom as Dell and Phillip rediscover the joy of living life to the fullest.\", 'date': '2019-01-23', 'city': 'Belleview, FL'}, {'addy': '4901 SW 31st Place, Gainesville, FL 32608', 'theater': 'Celebration Pointe 10', 'title': 'Ralph Breaks the Internet', 'mpaa': 'PG', 'stars': '4.5', 'times': '2:45p', 'format': 'Standard', 'synopsis': 'Ralph and Vanellope embark on an adventure inside the internet to find a spare part to fix a video game.', 'date': '2019-01-23', 'city': 'High Springs, FL'}, {'addy': '4901 SW 31st Place, Gainesville, FL 32608', 'theater': 'Celebration Pointe 10', 'title': 'The Upside', 'mpaa': 'PG-13', 'stars': '4.5', 'times': '3:35p | 7:15p | 10:20p', 'format': 'Standard', 'synopsis': \"Phillip is a wealthy quadriplegic who needs a caretaker to help him with his day-to-day routine in his New York penthouse. He decides to hire Dell, a struggling parolee who's trying to reconnect with his ex and his young son. Despite coming from two different worlds, an unlikely friendship starts to blossom as Dell and Phillip rediscover the joy of living life to the fullest.\", 'date': '2019-01-23', 'city': 'High Springs, FL'}, {'addy': '2021 Silver Springs Blvd, Ocala, FL 34471', 'theater': 'Ocala Center 6', 'title': 'Replicas', 'mpaa': 'PG-13', 'stars': '3.5', 'times': '1:00p | 4:00p', 'format': 'Standard', 'synopsis': 'William Foster is a brilliant neuroscientist who loses his wife, son and two daughters in a tragic car accident. Utilizing cutting-edge technology, William comes up with a daring and unprecedented plan to download their memories and clone their bodies. As the experiment begins to spiral out of control, Foster soon finds himself at odds with his dubious boss, a reluctant accomplice, a police task force and the physical laws of science.', 'date': '2019-01-23', 'city': 'Ocala, FL'}, {'addy': '4901 SW 31st Place, Gainesville, FL 32608', 'theater': 'Celebration Pointe 10', 'title': 'Ralph Breaks the Internet', 'mpaa': 'PG', 'stars': '4.5', 'times': '2:45p', 'format': 'Standard', 'synopsis': 'Ralph and Vanellope embark on an adventure inside the internet to find a spare part to fix a video game.', 'date': '2019-01-23', 'city': 'Gainesville, FL'}, {'addy': '10401-015 US Hwy. 441 South, Leesburg, FL 34788', 'theater': 'AMC Lake Square 12', 'title': 'Ralph Breaks the Internet', 'mpaa': 'PG', 'stars': '4.5', 'times': '1:15p | 3:55p', 'format': 'Standard', 'synopsis': 'Ralph and Vanellope embark on an adventure inside the internet to find a spare part to fix a video game.', 'date': '2019-01-23', 'city': 'The Villages, FL'}, {'addy': '2801 SW 27th Avenue, Ocala, FL 34474', 'theater': 'Regal Hollywood Stadium 16 & IMAX - Ocala', 'title': 'The Mule (2018)', 'mpaa': 'R', 'stars': '4', 'times': '2:15p | 5:00p | 7:40p | 10:20p', 'format': 'Standard', 'synopsis': \"Broke, alone and facing foreclosure on his business, 90-year-old horticulturist Earl Stone takes a job as a drug courier for a Mexican cartel. His immediate success leads to easy money and a larger shipment that soon draws the attention of hard-charging DEA agent Colin Bates. When Earl's past mistakes start to weigh heavily on his conscience, he must decide whether to right those wrongs before law enforcement and cartel thugs catch up to him.\", 'date': '2019-01-23', 'city': 'Ocala, FL'}, {'addy': '10401-015 US Hwy. 441 South, Leesburg, FL 34788', 'theater': 'AMC Lake Square 12', 'title': 'The Upside', 'mpaa': 'PG-13', 'stars': '4.5', 'times': '10:45a | 3:45p | 4:45p | 6:30p | 7:45p | 1:45p', 'format': 'Standard', 'synopsis': \"Phillip is a wealthy quadriplegic who needs a caretaker to help him with his day-to-day routine in his New York penthouse. He decides to hire Dell, a struggling parolee who's trying to reconnect with his ex and his young son. Despite coming from two different worlds, an unlikely friendship starts to blossom as Dell and Phillip rediscover the joy of living life to the fullest.\", 'date': '2019-01-23', 'city': 'The Villages, FL'}, {'addy': '25 SE 2nd Place Street, Gainesville, FL 32601', 'theater': 'Hippodrome State Theatre', 'title': '', 'mpaa': '', 'stars': '', 'times': '', 'format': '', 'synopsis': '', 'date': '2019-01-23', 'city': 'Gainesville, FL'}, {'addy': '4901 SW 31st Place, Gainesville, FL 32608', 'theater': 'Celebration Pointe 10', 'title': 'Aquaman', 'mpaa': 'PG-13', 'stars': '4.5', 'times': '3:45p | 7:30p | 10:55p', 'format': 'Standard', 'synopsis': 'Aquaman finds himself caught between a surface world that ravages the sea and the underwater Atlanteans who are ready to revolt.', 'date': '2019-01-23', 'city': 'High Springs, FL'}, {'addy': '3702 Newberry Road, Gainesville, FL 32607', 'theater': 'Regal Royal Park Stadium 16', 'title': 'Fantastic Beasts: The Crimes of Grindelwald', 'mpaa': 'PG-13', 'stars': '4.5', 'times': '3:35p | 6:40p | 9:45p', 'format': 'Standard', 'synopsis': \"In an effort to thwart Grindelwald's plans of raising pure-blood wizards to rule over all non-magical beings, Albus Dumbledore enlists his former student Newt Scamander, who agrees to help, unaware of the dangers that lie ahead. Lines are drawn as love and loyalty are tested, even among the truest friends and family, in an increasingly divided world.\", 'date': '2019-01-23', 'city': 'High Springs, FL'}, {'addy': '10401-015 US Hwy. 441 South, Leesburg, FL 34788', 'theater': 'AMC Lake Square 12', 'title': 'Bumblebee', 'mpaa': 'PG-13', 'stars': '4.5', 'times': '11:10a | 2:05p | 4:55p | 7:45p', 'format': 'Standard', 'synopsis': 'On the run in the year 1987, Bumblebee the Autobot seeks refuge in a junkyard in a small California beach town. Charlie, on the brink of turning 18 years old and trying to find her place in the world, soon discovers the battle-scarred and broken Bumblebee. When Charlie revives him, she quickly learns that this is no ordinary yellow Volkswagen.', 'date': '2019-01-23', 'city': 'The Villages, FL'}, {'addy': '1105 Alonzo Ave, Lady Lake, FL 32159', 'theater': 'Rialto Theatre Spanish Springs Town Square', 'title': 'The Favourite', 'mpaa': 'R', 'stars': '3', 'times': '8:50a | 2:20p | 7:40p | 10:20p', 'format': 'Standard', 'synopsis': '', 'date': '2019-01-23', 'city': 'The Villages, FL'}, {'addy': '1000 Old Mill Run, The Villages, FL 32162', 'theater': 'Old Mill Playhouse', 'title': 'Bumblebee', 'mpaa': 'PG-13', 'stars': '4.5', 'times': '10:00a | 12:45p | 3:30p | 6:15p | 9:00p', 'format': 'Standard', 'synopsis': 'On the run in the year 1987, Bumblebee the Autobot seeks refuge in a junkyard in a small California beach town. Charlie, on the brink of turning 18 years old and trying to find her place in the world, soon discovers the battle-scarred and broken Bumblebee. When Charlie revives him, she quickly learns that this is no ordinary yellow Volkswagen.', 'date': '2019-01-23', 'city': 'Belleview, FL'}, {'addy': '2801 SW 27th Avenue, Ocala, FL 34474', 'theater': 'Regal Hollywood Stadium 16 & IMAX - Ocala', 'title': 'Aquaman', 'mpaa': 'PG-13', 'stars': '4.5', 'times': '4:00p | 7:30p | 9:45p', 'format': 'Standard', 'synopsis': 'Aquaman finds himself caught between a surface world that ravages the sea and the underwater Atlanteans who are ready to revolt.', 'date': '2019-01-23', 'city': 'Belleview, FL'}, {'addy': '2801 SW 27th Avenue, Ocala, FL 34474', 'theater': 'Regal Hollywood Stadium 16 & IMAX - Ocala', 'title': 'The Mule (2018)', 'mpaa': 'R', 'stars': '4', 'times': '2:15p | 5:00p | 7:40p | 10:20p', 'format': 'Standard', 'synopsis': \"Broke, alone and facing foreclosure on his business, 90-year-old horticulturist Earl Stone takes a job as a drug courier for a Mexican cartel. His immediate success leads to easy money and a larger shipment that soon draws the attention of hard-charging DEA agent Colin Bates. When Earl's past mistakes start to weigh heavily on his conscience, he must decide whether to right those wrongs before law enforcement and cartel thugs catch up to him.\", 'date': '2019-01-23', 'city': 'Belleview, FL'}, {'addy': '3101 SW 35th Blvd, Gainesville, FL 32608', 'theater': 'Regal Butler Town Center 14', 'title': 'Replicas', 'mpaa': 'PG-13', 'stars': '3.5', 'times': '2:40p | 8:15p', 'format': 'Standard', 'synopsis': 'William Foster is a brilliant neuroscientist who loses his wife, son and two daughters in a tragic car accident. Utilizing cutting-edge technology, William comes up with a daring and unprecedented plan to download their memories and clone their bodies. As the experiment begins to spiral out of control, Foster soon finds himself at odds with his dubious boss, a reluctant accomplice, a police task force and the physical laws of science.', 'date': '2019-01-23', 'city': 'Gainesville, FL'}, {'addy': '1105 Alonzo Ave, Lady Lake, FL 32159', 'theater': 'Rialto Theatre Spanish Springs Town Square', 'title': \"A Dog's Way Home\", 'mpaa': 'PG', 'stars': '4.5', 'times': '8:30a | 11:10a | 1:35p | 4:20p | 6:45p | 9:30p', 'format': 'Standard', 'synopsis': 'As a puppy, Bella finds her way into the arms of Lucas, a young man who gives her a good home. When Bella becomes separated from Lucas, she soon finds herself on an epic 400-mile journey to reunite with her beloved owner. Along the way, the lost but spirited dog touches the lives of an orphaned mountain lion, a down-on-his-luck veteran and some friendly strangers who happen to cross her path.', 'date': '2019-01-23', 'city': 'Belleview, FL'}, {'addy': '3702 Newberry Road, Gainesville, FL 32607', 'theater': 'Regal Royal Park Stadium 16', 'title': 'The Upside', 'mpaa': 'PG-13', 'stars': '4.5', 'times': '1:00p | 4:00p | 7:00p | 9:55p', 'format': 'Standard', 'synopsis': \"Phillip is a wealthy quadriplegic who needs a caretaker to help him with his day-to-day routine in his New York penthouse. He decides to hire Dell, a struggling parolee who's trying to reconnect with his ex and his young son. Despite coming from two different worlds, an unlikely friendship starts to blossom as Dell and Phillip rediscover the joy of living life to the fullest.\", 'date': '2019-01-23', 'city': 'Gainesville, FL'}, {'addy': '3702 Newberry Road, Gainesville, FL 32607', 'theater': 'Regal Royal Park Stadium 16', 'title': 'Vice (2018)', 'mpaa': 'R', 'stars': '3.5', 'times': '1:10p | 4:05p | 6:25p | 9:25p', 'format': 'Standard', 'synopsis': \"Gov. George W. Bush of Texas picks Dick Cheney, the CEO of Halliburton Co., to be his Republican running mate in the 2000 presidential election. No stranger to politics, Cheney's impressive résumé includes stints as White House chief of staff, House Minority Whip and defense secretary. When Bush wins by a narrow margin, Cheney begins to use his newfound power to help reshape the country and the world.\", 'date': '2019-01-23', 'city': 'Gainesville, FL'}, {'addy': '3702 Newberry Road, Gainesville, FL 32607', 'theater': 'Regal Royal Park Stadium 16', 'title': 'Mary Poppins Returns (2018)', 'mpaa': 'PG', 'stars': '4.5', 'times': '3:30p | 6:30p | 9:30p', 'format': 'Standard', 'synopsis': 'Now an adult with three children, bank teller Michael Banks learns that his house will be repossessed in five days unless he can pay back a loan. His only hope is to find a missing certificate that shows proof of valuable shares that his father left him years earlier. Just as all seems lost, Michael and his sister receive the surprise of a lifetime when Mary Poppins -- the beloved nanny from their childhood -- arrives to save the day and take the Banks family on a magical, fun-filled adventure.', 'date': '2019-01-23', 'city': 'High Springs, FL'}, {'addy': '3101 SW 35th Blvd, Gainesville, FL 32608', 'theater': 'Regal Butler Town Center 14', 'title': 'Escape Room (2019)', 'mpaa': 'PG-13', 'stars': '4', 'times': '2:35p | 5:10p | 7:40p | 11:00p', 'format': 'Standard', 'synopsis': 'Six strangers find themselves in circumstances beyond their control, and must use their wits to survive.', 'date': '2019-01-23', 'city': 'Gainesville, FL'}, {'addy': '2801 SW 27th Avenue, Ocala, FL 34474', 'theater': 'Regal Hollywood Stadium 16 & IMAX - Ocala', 'title': 'Dragon Ball Super: Broly', 'mpaa': 'PG', 'stars': '5', 'times': '7:30p | 2:00p', 'format': 'Standard', 'synopsis': 'A planet destroyed, a powerful race reduced to nothing. After the devastation of Planet Vegeta, three Saiyans were scattered among the stars, destined for different fates. While two found a home on Earth, the third was raised with a burning desire for vengeance and developed an unbelievable power. And the time for revenge has come. Destinies collide in a battle that will shake the universe to its very core! Goku is back to training hard so he can face the most powerful foes the universes have to offer, and Vegeta is keeping up right beside him. But when they suddenly find themselves against an unknown Saiyan, they discover a terrible, destructive force. Locked into battle with the formidable Broly, Goku and Vegeta face their most dangerous opponent yet!', 'date': '2019-01-23', 'city': 'Ocala, FL'}, {'addy': '3101 SW 35th Blvd, Gainesville, FL 32608', 'theater': 'Regal Butler Town Center 14', 'title': 'Dragon Ball Super: Broly', 'mpaa': 'PG', 'stars': '5', 'times': '7:30p | 10:05p', 'format': 'Standard', 'synopsis': 'A planet destroyed, a powerful race reduced to nothing. After the devastation of Planet Vegeta, three Saiyans were scattered among the stars, destined for different fates. While two found a home on Earth, the third was raised with a burning desire for vengeance and developed an unbelievable power. And the time for revenge has come. Destinies collide in a battle that will shake the universe to its very core! Goku is back to training hard so he can face the most powerful foes the universes have to offer, and Vegeta is keeping up right beside him. But when they suddenly find themselves against an unknown Saiyan, they discover a terrible, destructive force. Locked into battle with the formidable Broly, Goku and Vegeta face their most dangerous opponent yet!', 'date': '2019-01-23', 'city': 'High Springs, FL'}, {'addy': '1105 Alonzo Ave, Lady Lake, FL 32159', 'theater': 'Rialto Theatre Spanish Springs Town Square', 'title': 'Mary Queen of Scots (2018)', 'mpaa': 'R', 'stars': '4', 'times': '8:25a | 11:10a | 1:55p | 7:30p | 10:15p', 'format': 'Standard', 'synopsis': '“Mary Queen of Scots” explores the turbulent life of the charismatic Mary Stuart (Ronan). Queen of France at 16 and widowed at 18, Mary defies pressure to remarry. Instead, she returns to her native Scotland to reclaim her rightful throne. But Scotland and England fall under the rule of the compelling Elizabeth I (Robbie). Each young Queen beholds her “sister” in fear and fascination. Rivals in power and in love, and female regents in a masculine world, the two must decide how to play the game of marriage versus independence. Determined to rule as much more than a figurehead, Mary asserts her claim to the English throne, threatening Elizabeth’s sovereignty. Betrayal, rebellion, and conspiracies within each court imperil both thrones – and change the course of history.', 'date': '2019-01-23', 'city': 'Belleview, FL'}, {'addy': '3101 SW 35th Blvd, Gainesville, FL 32608', 'theater': 'Regal Butler Town Center 14', 'title': 'Mary Queen of Scots (2018)', 'mpaa': 'R', 'stars': '4', 'times': '5:20p | 10:20p', 'format': 'Standard', 'synopsis': '“Mary Queen of Scots” explores the turbulent life of the charismatic Mary Stuart (Ronan). Queen of France at 16 and widowed at 18, Mary defies pressure to remarry. Instead, she returns to her native Scotland to reclaim her rightful throne. But Scotland and England fall under the rule of the compelling Elizabeth I (Robbie). Each young Queen beholds her “sister” in fear and fascination. Rivals in power and in love, and female regents in a masculine world, the two must decide how to play the game of marriage versus independence. Determined to rule as much more than a figurehead, Mary asserts her claim to the English throne, threatening Elizabeth’s sovereignty. Betrayal, rebellion, and conspiracies within each court imperil both thrones – and change the course of history.', 'date': '2019-01-23', 'city': 'Gainesville, FL'}, {'addy': '3101 SW 35th Blvd, Gainesville, FL 32608', 'theater': 'Regal Butler Town Center 14', 'title': 'The Mule (2018)', 'mpaa': 'R', 'stars': '4', 'times': '3:40p | 10:30p', 'format': 'Standard', 'synopsis': \"Broke, alone and facing foreclosure on his business, 90-year-old horticulturist Earl Stone takes a job as a drug courier for a Mexican cartel. His immediate success leads to easy money and a larger shipment that soon draws the attention of hard-charging DEA agent Colin Bates. When Earl's past mistakes start to weigh heavily on his conscience, he must decide whether to right those wrongs before law enforcement and cartel thugs catch up to him.\", 'date': '2019-01-23', 'city': 'High Springs, FL'}, {'addy': '4901 SW 31st Place, Gainesville, FL 32608', 'theater': 'Celebration Pointe 10', 'title': \"A Dog's Way Home\", 'mpaa': 'PG', 'stars': '4.5', 'times': '2:50p | 5:20p | 8:00p | 10:45p', 'format': 'Standard', 'synopsis': 'As a puppy, Bella finds her way into the arms of Lucas, a young man who gives her a good home. When Bella becomes separated from Lucas, she soon finds herself on an epic 400-mile journey to reunite with her beloved owner. Along the way, the lost but spirited dog touches the lives of an orphaned mountain lion, a down-on-his-luck veteran and some friendly strangers who happen to cross her path.', 'date': '2019-01-23', 'city': 'High Springs, FL'}, {'addy': '10401-015 US Hwy. 441 South, Leesburg, FL 34788', 'theater': 'AMC Lake Square 12', 'title': 'Second Act', 'mpaa': 'PG-13', 'stars': '4', 'times': '10:25a', 'format': 'Standard', 'synopsis': 'Second Act is a comedy in the vein of Working Girl and Maid In Manhattan. Jennifer Lopez stars as Maya, a 40-year-old woman struggling with frustrations from unfulfilled dreams. Until, that is, she gets the chance to prove to Madison Avenue that street smarts are as valuable as book smarts, and that it is never too late for a Second Act.', 'date': '2019-01-23', 'city': 'The Villages, FL'}, {'addy': '10401-015 US Hwy. 441 South, Leesburg, FL 34788', 'theater': 'AMC Lake Square 12', 'title': 'The Mule (2018)', 'mpaa': 'R', 'stars': '4', 'times': '11:15a | 2:00p | 4:45p | 7:35p', 'format': 'Standard', 'synopsis': \"Broke, alone and facing foreclosure on his business, 90-year-old horticulturist Earl Stone takes a job as a drug courier for a Mexican cartel. His immediate success leads to easy money and a larger shipment that soon draws the attention of hard-charging DEA agent Colin Bates. When Earl's past mistakes start to weigh heavily on his conscience, he must decide whether to right those wrongs before law enforcement and cartel thugs catch up to him.\", 'date': '2019-01-23', 'city': 'The Villages, FL'}, {'addy': '2720 Brownwood Blvd., The Villages, FL 32163', 'theater': 'Barnstorm Theater', 'title': 'The Mule (2018)', 'mpaa': 'R', 'stars': '4', 'times': '9:25a | 12:05p | 2:45p | 5:25p | 6:50p', 'format': 'Standard', 'synopsis': \"Broke, alone and facing foreclosure on his business, 90-year-old horticulturist Earl Stone takes a job as a drug courier for a Mexican cartel. His immediate success leads to easy money and a larger shipment that soon draws the attention of hard-charging DEA agent Colin Bates. When Earl's past mistakes start to weigh heavily on his conscience, he must decide whether to right those wrongs before law enforcement and cartel thugs catch up to him.\", 'date': '2019-01-23', 'city': 'The Villages, FL'}, {'addy': '3101 SW 35th Blvd, Gainesville, FL 32608', 'theater': 'Regal Butler Town Center 14', 'title': \"A Dog's Way Home\", 'mpaa': 'PG', 'stars': '4.5', 'times': '2:35p | 5:05p | 7:55p | 10:50p', 'format': 'Standard', 'synopsis': 'As a puppy, Bella finds her way into the arms of Lucas, a young man who gives her a good home. When Bella becomes separated from Lucas, she soon finds herself on an epic 400-mile journey to reunite with her beloved owner. Along the way, the lost but spirited dog touches the lives of an orphaned mountain lion, a down-on-his-luck veteran and some friendly strangers who happen to cross her path.', 'date': '2019-01-23', 'city': 'High Springs, FL'}, {'addy': '1105 Alonzo Ave, Lady Lake, FL 32159', 'theater': 'Rialto Theatre Spanish Springs Town Square', 'title': 'Escape Room (2019)', 'mpaa': 'PG-13', 'stars': '4', 'times': '11:00a | 4:00p', 'format': 'Standard', 'synopsis': 'Six strangers find themselves in circumstances beyond their control, and must use their wits to survive.', 'date': '2019-01-23', 'city': 'Belleview, FL'}, {'addy': '1105 Alonzo Ave, Lady Lake, FL 32159', 'theater': 'Rialto Theatre Spanish Springs Town Square', 'title': \"A Dog's Way Home\", 'mpaa': 'PG', 'stars': '4.5', 'times': '8:30a | 11:10a | 1:35p | 4:20p | 6:45p | 9:30p', 'format': 'Standard', 'synopsis': 'As a puppy, Bella finds her way into the arms of Lucas, a young man who gives her a good home. When Bella becomes separated from Lucas, she soon finds herself on an epic 400-mile journey to reunite with her beloved owner. Along the way, the lost but spirited dog touches the lives of an orphaned mountain lion, a down-on-his-luck veteran and some friendly strangers who happen to cross her path.', 'date': '2019-01-23', 'city': 'The Villages, FL'}, {'addy': '3702 Newberry Road, Gainesville, FL 32607', 'theater': 'Regal Royal Park Stadium 16', 'title': 'The Favourite', 'mpaa': 'R', 'stars': '3', 'times': '12:50p | 4:00p | 6:50p | 9:35p', 'format': 'Standard', 'synopsis': '', 'date': '2019-01-23', 'city': 'Gainesville, FL'}, {'addy': '3702 Newberry Road, Gainesville, FL 32607', 'theater': 'Regal Royal Park Stadium 16', 'title': 'Creed II', 'mpaa': 'PG-13', 'stars': '4.5', 'times': '1:35p | 3:10p | 7:15p | 9:20p', 'format': 'Standard', 'synopsis': \"Life has become a balancing act for Adonis Creed. Between personal obligations and training for his next big fight, he is up against the challenge of his life. Facing an opponent with ties to his family's past only intensifies his impending battle in the ring. Rocky Balboa is there by his side through it all and, together, Rocky and Adonis will confront their shared legacy, question what's worth fighting for, and discover that nothing's more important than family. Creed II is about going back to basics to rediscover what made you a champion in the first place, and remembering that, no matter where you go, you can't escape your history.\", 'date': '2019-01-23', 'city': 'High Springs, FL'}, {'addy': '2801 SW 27th Avenue, Ocala, FL 34474', 'theater': 'Regal Hollywood Stadium 16 & IMAX - Ocala', 'title': 'Mary Poppins Returns (2018)', 'mpaa': 'PG', 'stars': '4.5', 'times': '3:25p | 6:45p | 10:45p', 'format': 'Standard', 'synopsis': 'Now an adult with three children, bank teller Michael Banks learns that his house will be repossessed in five days unless he can pay back a loan. His only hope is to find a missing certificate that shows proof of valuable shares that his father left him years earlier. Just as all seems lost, Michael and his sister receive the surprise of a lifetime when Mary Poppins -- the beloved nanny from their childhood -- arrives to save the day and take the Banks family on a magical, fun-filled adventure.', 'date': '2019-01-23', 'city': 'Ocala, FL'}, {'addy': '3101 SW 35th Blvd, Gainesville, FL 32608', 'theater': 'Regal Butler Town Center 14', 'title': 'Glass (2019)', 'mpaa': 'PG-13', 'stars': '4', 'times': '3:55p | 4:25p | 6:50p | 7:20p | 10:00p | 10:25p', 'format': 'Standard', 'synopsis': 'Security guard David Dunn uses his supernatural abilities to track Kevin Wendell Crumb, a disturbed man who has twenty-four personalities.', 'date': '2019-01-23', 'city': 'High Springs, FL'}, {'addy': '2801 SW 27th Avenue, Ocala, FL 34474', 'theater': 'Regal Hollywood Stadium 16 & IMAX - Ocala', 'title': 'Bumblebee', 'mpaa': 'PG-13', 'stars': '4.5', 'times': '4:35p | 7:20p | 10:05p', 'format': 'Standard', 'synopsis': 'On the run in the year 1987, Bumblebee the Autobot seeks refuge in a junkyard in a small California beach town. Charlie, on the brink of turning 18 years old and trying to find her place in the world, soon discovers the battle-scarred and broken Bumblebee. When Charlie revives him, she quickly learns that this is no ordinary yellow Volkswagen.', 'date': '2019-01-23', 'city': 'Ocala, FL'}, {'addy': '2021 Silver Springs Blvd, Ocala, FL 34471', 'theater': 'Ocala Center 6', 'title': 'Bumblebee', 'mpaa': 'PG-13', 'stars': '4.5', 'times': '1:00p | 4:00p | 7:00p', 'format': 'Standard', 'synopsis': 'On the run in the year 1987, Bumblebee the Autobot seeks refuge in a junkyard in a small California beach town. Charlie, on the brink of turning 18 years old and trying to find her place in the world, soon discovers the battle-scarred and broken Bumblebee. When Charlie revives him, she quickly learns that this is no ordinary yellow Volkswagen.', 'date': '2019-01-23', 'city': 'Belleview, FL'}, {'addy': '2801 SW 27th Avenue, Ocala, FL 34474', 'theater': 'Regal Hollywood Stadium 16 & IMAX - Ocala', 'title': \"A Dog's Way Home\", 'mpaa': 'PG', 'stars': '4.5', 'times': '2:00p | 4:30p | 7:15p | 9:45p', 'format': 'Standard', 'synopsis': 'As a puppy, Bella finds her way into the arms of Lucas, a young man who gives her a good home. When Bella becomes separated from Lucas, she soon finds herself on an epic 400-mile journey to reunite with her beloved owner. Along the way, the lost but spirited dog touches the lives of an orphaned mountain lion, a down-on-his-luck veteran and some friendly strangers who happen to cross her path.', 'date': '2019-01-23', 'city': 'Belleview, FL'}, {'addy': '10401-015 US Hwy. 441 South, Leesburg, FL 34788', 'theater': 'AMC Lake Square 12', 'title': 'Glass (2019)', 'mpaa': 'PG-13', 'stars': '4', 'times': '10:15a | 11:45a | 1:15p | 2:45p | 4:15p | 5:45p | 7:15p', 'format': 'Standard', 'synopsis': 'Security guard David Dunn uses his supernatural abilities to track Kevin Wendell Crumb, a disturbed man who has twenty-four personalities.', 'date': '2019-01-23', 'city': 'The Villages, FL'}, {'addy': '2720 Brownwood Blvd., The Villages, FL 32163', 'theater': 'Barnstorm Theater', 'title': 'All These Small Moments', 'mpaa': '', 'stars': '', 'times': '9:45a | 12:20p | 3:00p | 5:20p | 8:00p', 'format': 'Standard', 'synopsis': \"A teenage boy is caught between his parents' unhappy marriage and the two female friends who entrance him, and he must find his way to adulthood with only himself as a guide.\", 'date': '2019-01-23', 'city': 'The Villages, FL'}, {'addy': '50 S. Magnolia Ave., Ocala, FL 34471', 'theater': 'Marion Theatre', 'title': 'On the Basis of Sex', 'mpaa': 'PG-13', 'stars': '4.5', 'times': '1:00p | 4:00p | 7:00p', 'format': 'Standard', 'synopsis': 'The film tells an inspiring and spirited true story that follows young lawyer Ruth Bader Ginsburg as she teams with her husband Marty to bring a groundbreaking case before the U.S. Court of Appeals and overturn a century of gender discrimination. The feature will premiere in 2018 in line with Justice Ginsburg’s 25th anniversary on the Supreme Court.', 'date': '2019-01-23', 'city': 'Ocala, FL'}, {'addy': '3101 SW 35th Blvd, Gainesville, FL 32608', 'theater': 'Regal Butler Town Center 14', 'title': 'Spider-Man: Into the Spider-Verse', 'mpaa': 'PG', 'stars': '5', 'times': '4:20p | 7:25p | 10:10p', 'format': 'Standard', 'synopsis': 'Spider-Man mentors a teenager from Brooklyn, N.Y., to become the next web-slinging superhero.', 'date': '2019-01-23', 'city': 'Gainesville, FL'}, {'addy': '1000 Old Mill Run, The Villages, FL 32162', 'theater': 'Old Mill Playhouse', 'title': 'Sgt. Will Gardner', 'mpaa': '', 'stars': '5', 'times': '9:35a | 12:30p | 3:20p | 6:15p', 'format': 'Standard', 'synopsis': 'Sgt. Will Gardner tells the story about Iraq War veteran Will Gardner (Max Martini) who is suffering from a traumatic brain injury (TBI) he sustained during a bombing of him and his platoon while in combat. His injuries make it difficult for him to reintegrate into society. After a series of setbacks, he embarks on a spirited motorcycle journey across America with the goal to reunite with his son and along his journey, he tries to pick up the pieces of a life he’s lost since returning from combat. His PTSD causes frequent flashbacks to the Iraq War which he survives by having frequent conversations with Sam (Omari Hardwick),his best friend and war buddy.', 'date': '2019-01-23', 'city': 'The Villages, FL'}, {'addy': 'University of Florida, Gainesville, FL 32611', 'theater': 'Reitz Union Cinema - U of Fl', 'title': '', 'mpaa': '', 'stars': '', 'times': '', 'format': '', 'synopsis': '', 'date': '2019-01-23', 'city': 'High Springs, FL'}, {'addy': '3702 Newberry Road, Gainesville, FL 32607', 'theater': 'Regal Royal Park Stadium 16', 'title': 'Escape Room (2019)', 'mpaa': 'PG-13', 'stars': '4', 'times': '1:15p | 3:45p | 6:25p | 9:00p', 'format': 'Standard', 'synopsis': 'Six strangers find themselves in circumstances beyond their control, and must use their wits to survive.', 'date': '2019-01-23', 'city': 'Gainesville, FL'}, {'addy': '1000 Old Mill Run, The Villages, FL 32162', 'theater': 'Old Mill Playhouse', 'title': 'Replicas', 'mpaa': 'PG-13', 'stars': '3.5', 'times': '10:00a | 1:00p | 3:30p | 6:00p | 8:30p', 'format': 'Standard', 'synopsis': 'William Foster is a brilliant neuroscientist who loses his wife, son and two daughters in a tragic car accident. Utilizing cutting-edge technology, William comes up with a daring and unprecedented plan to download their memories and clone their bodies. As the experiment begins to spiral out of control, Foster soon finds himself at odds with his dubious boss, a reluctant accomplice, a police task force and the physical laws of science.', 'date': '2019-01-23', 'city': 'Belleview, FL'}, {'addy': '3702 Newberry Road, Gainesville, FL 32607', 'theater': 'Regal Royal Park Stadium 16', 'title': 'Holmes & Watson', 'mpaa': 'PG-13', 'stars': '2', 'times': '1:55p | 4:40p | 7:20p | 10:00p', 'format': 'Standard', 'synopsis': \"A humorous take on Sir Arthur Conan Doyle's classic mysteries featuring Sherlock Holmes and Doctor Watson.\", 'date': '2019-01-23', 'city': 'Gainesville, FL'}, {'addy': '3702 Newberry Road, Gainesville, FL 32607', 'theater': 'Regal Royal Park Stadium 16', 'title': 'Replicas', 'mpaa': 'PG-13', 'stars': '3.5', 'times': '4:35p | 6:35p | 10:15p', 'format': 'Standard', 'synopsis': 'William Foster is a brilliant neuroscientist who loses his wife, son and two daughters in a tragic car accident. Utilizing cutting-edge technology, William comes up with a daring and unprecedented plan to download their memories and clone their bodies. As the experiment begins to spiral out of control, Foster soon finds himself at odds with his dubious boss, a reluctant accomplice, a police task force and the physical laws of science.', 'date': '2019-01-23', 'city': 'Gainesville, FL'}, {'addy': '2801 SW 27th Avenue, Ocala, FL 34474', 'theater': 'Regal Hollywood Stadium 16 & IMAX - Ocala', 'title': 'Second Act', 'mpaa': 'PG-13', 'stars': '4', 'times': '1:45p | 4:40p | 7:25p | 10:25p', 'format': 'Standard', 'synopsis': 'Second Act is a comedy in the vein of Working Girl and Maid In Manhattan. Jennifer Lopez stars as Maya, a 40-year-old woman struggling with frustrations from unfulfilled dreams. Until, that is, she gets the chance to prove to Madison Avenue that street smarts are as valuable as book smarts, and that it is never too late for a Second Act.', 'date': '2019-01-23', 'city': 'Ocala, FL'}, {'addy': '4850 S. Pine Ave., Ocala, FL 34480', 'theater': 'Ocala Drive-In', 'title': '', 'mpaa': '', 'stars': '', 'times': '', 'format': '', 'synopsis': '', 'date': '2019-01-23', 'city': 'Belleview, FL'}, {'addy': '3101 SW 35th Blvd, Gainesville, FL 32608', 'theater': 'Regal Butler Town Center 14', 'title': 'The Upside', 'mpaa': 'PG-13', 'stars': '4.5', 'times': '4:15p | 7:15p | 10:15p', 'format': 'Standard', 'synopsis': \"Phillip is a wealthy quadriplegic who needs a caretaker to help him with his day-to-day routine in his New York penthouse. He decides to hire Dell, a struggling parolee who's trying to reconnect with his ex and his young son. Despite coming from two different worlds, an unlikely friendship starts to blossom as Dell and Phillip rediscover the joy of living life to the fullest.\", 'date': '2019-01-23', 'city': 'High Springs, FL'}, {'addy': '2720 Brownwood Blvd., The Villages, FL 32163', 'theater': 'Barnstorm Theater', 'title': 'Instant Family (2018)', 'mpaa': 'PG-13', 'stars': '4.5', 'times': '1:20p | 7:00p | 9:40p', 'format': 'Standard', 'synopsis': 'When Pete and Ellie decide to start a family, they stumble into the world of foster care adoption. They hope to take in one small child, but when they meet three siblings, including a rebellious 15-year-old girl, they find themselves speeding from zero to three kids overnight. Now, Pete and Ellie must try to learn the ropes of instant parenthood in the hope of becoming a family.', 'date': '2019-01-23', 'city': 'The Villages, FL'}, {'addy': '1000 Old Mill Run, The Villages, FL 32162', 'theater': 'Old Mill Playhouse', 'title': 'The Upside', 'mpaa': 'PG-13', 'stars': '4.5', 'times': '9:45a | 12:35p | 3:30p | 6:45p | 9:30p', 'format': 'Standard', 'synopsis': \"Phillip is a wealthy quadriplegic who needs a caretaker to help him with his day-to-day routine in his New York penthouse. He decides to hire Dell, a struggling parolee who's trying to reconnect with his ex and his young son. Despite coming from two different worlds, an unlikely friendship starts to blossom as Dell and Phillip rediscover the joy of living life to the fullest.\", 'date': '2019-01-23', 'city': 'The Villages, FL'}, {'addy': '1000 Old Mill Run, The Villages, FL 32162', 'theater': 'Old Mill Playhouse', 'title': 'Second Act', 'mpaa': 'PG-13', 'stars': '4', 'times': '9:30a | 12:00p | 2:30p | 5:00p | 9:00p', 'format': 'Standard', 'synopsis': 'Second Act is a comedy in the vein of Working Girl and Maid In Manhattan. Jennifer Lopez stars as Maya, a 40-year-old woman struggling with frustrations from unfulfilled dreams. Until, that is, she gets the chance to prove to Madison Avenue that street smarts are as valuable as book smarts, and that it is never too late for a Second Act.', 'date': '2019-01-23', 'city': 'Belleview, FL'}, {'addy': '1000 Old Mill Run, The Villages, FL 32162', 'theater': 'Old Mill Playhouse', 'title': 'Ben is Back', 'mpaa': 'R', 'stars': '4', 'times': '9:45a | 12:15p | 2:45p | 5:15p | 7:45p', 'format': 'Standard', 'synopsis': \"19 year-old Ben Burns (Lucas Hedges) unexpectedly returns home to his family's suburban home on Christmas Eve morning. Ben’s mother, Holly (Julia Roberts), is relieved and welcoming but wary of her son staying clean. Over a turbulent 24 hours, new truths are revealed, and a mother's undying love for her son is tested as she does everything in her power to keep him safe. Ben is Back also stars Courtney B. Vance (The People V. O.J. Simpson: American Crime Story) and Kathryn Newton.\", 'date': '2019-01-23', 'city': 'The Villages, FL'}, {'addy': '3702 Newberry Road, Gainesville, FL 32607', 'theater': 'Regal Royal Park Stadium 16', 'title': 'The Favourite', 'mpaa': 'R', 'stars': '3', 'times': '12:50p | 4:00p | 6:50p | 9:35p', 'format': 'Standard', 'synopsis': '', 'date': '2019-01-23', 'city': 'High Springs, FL'}, {'addy': '2801 SW 27th Avenue, Ocala, FL 34474', 'theater': 'Regal Hollywood Stadium 16 & IMAX - Ocala', 'title': 'Escape Room (2019)', 'mpaa': 'PG-13', 'stars': '4', 'times': '2:45p | 5:15p | 7:50p | 10:35p', 'format': 'Standard', 'synopsis': 'Six strangers find themselves in circumstances beyond their control, and must use their wits to survive.', 'date': '2019-01-23', 'city': 'Ocala, FL'}, {'addy': '1105 Alonzo Ave, Lady Lake, FL 32159', 'theater': 'Rialto Theatre Spanish Springs Town Square', 'title': 'On the Basis of Sex', 'mpaa': 'PG-13', 'stars': '4.5', 'times': '9:00a | 11:45a | 2:30p | 5:15p | 8:00p', 'format': 'Standard', 'synopsis': 'The film tells an inspiring and spirited true story that follows young lawyer Ruth Bader Ginsburg as she teams with her husband Marty to bring a groundbreaking case before the U.S. Court of Appeals and overturn a century of gender discrimination. The feature will premiere in 2018 in line with Justice Ginsburg’s 25th anniversary on the Supreme Court.', 'date': '2019-01-23', 'city': 'The Villages, FL'}, {'addy': '2830 Hwy 90 West, Lake City, FL 32055', 'theater': 'UA Cinema 90 6', 'title': 'Aquaman', 'mpaa': 'PG-13', 'stars': '4.5', 'times': '3:50p | 6:50p', 'format': 'Standard', 'synopsis': 'Aquaman finds himself caught between a surface world that ravages the sea and the underwater Atlanteans who are ready to revolt.', 'date': '2019-01-23', 'city': 'Lake City, FL'}, {'addy': '101 W. Call St., Starke, FL 32091', 'theater': 'Florida Twin', 'title': 'Escape Room (2019)', 'mpaa': 'PG-13', 'stars': '4', 'times': '7:30p', 'format': 'Standard', 'synopsis': 'Six strangers find themselves in circumstances beyond their control, and must use their wits to survive.', 'date': '2019-01-23', 'city': 'Starke, FL'}, {'addy': '2830 Hwy 90 West, Lake City, FL 32055', 'theater': 'UA Cinema 90 6', 'title': 'Escape Room (2019)', 'mpaa': 'PG-13', 'stars': '4', 'times': '4:20p | 7:30p', 'format': 'Standard', 'synopsis': 'Six strangers find themselves in circumstances beyond their control, and must use their wits to survive.', 'date': '2019-01-23', 'city': 'Lake City, FL'}, {'addy': '2801 SW 27th Avenue, Ocala, FL 34474', 'theater': 'Regal Hollywood Stadium 16 & IMAX - Ocala', 'title': 'Glass (2019)', 'mpaa': 'PG-13', 'stars': '4', 'times': '4:00p | 7:30p | 10:30p', 'format': 'Standard', 'synopsis': 'Security guard David Dunn uses his supernatural abilities to track Kevin Wendell Crumb, a disturbed man who has twenty-four personalities.', 'date': '2019-01-23', 'city': 'Belleview, FL'}, {'addy': '2021 Silver Springs Blvd, Ocala, FL 34471', 'theater': 'Ocala Center 6', 'title': 'Bumblebee', 'mpaa': 'PG-13', 'stars': '4.5', 'times': '1:00p | 4:00p | 7:00p', 'format': 'Standard', 'synopsis': 'On the run in the year 1987, Bumblebee the Autobot seeks refuge in a junkyard in a small California beach town. Charlie, on the brink of turning 18 years old and trying to find her place in the world, soon discovers the battle-scarred and broken Bumblebee. When Charlie revives him, she quickly learns that this is no ordinary yellow Volkswagen.', 'date': '2019-01-23', 'city': 'Ocala, FL'}, {'addy': '2021 Silver Springs Blvd, Ocala, FL 34471', 'theater': 'Ocala Center 6', 'title': \"A Dog's Way Home\", 'mpaa': 'PG', 'stars': '4.5', 'times': '1:00p | 4:00p | 7:00p', 'format': 'Standard', 'synopsis': 'As a puppy, Bella finds her way into the arms of Lucas, a young man who gives her a good home. When Bella becomes separated from Lucas, she soon finds herself on an epic 400-mile journey to reunite with her beloved owner. Along the way, the lost but spirited dog touches the lives of an orphaned mountain lion, a down-on-his-luck veteran and some friendly strangers who happen to cross her path.', 'date': '2019-01-23', 'city': 'Ocala, FL'}, {'addy': '3101 SW 35th Blvd, Gainesville, FL 32608', 'theater': 'Regal Butler Town Center 14', 'title': 'Green Book', 'mpaa': 'PG-13', 'stars': '5', 'times': '3:55p | 7:55p | 10:00p', 'format': 'Standard', 'synopsis': \"Dr. Don Shirley is a world-class African-American pianist who's about to embark on a concert tour in the Deep South in 1962. In need of a driver and protection, Shirley recruits Tony Lip, a tough-talking bouncer from an Italian-American neighborhood in the Bronx. Despite their differences, the two men soon develop an unexpected bond while confronting racism and danger in an era of segregation.\", 'date': '2019-01-23', 'city': 'Gainesville, FL'}, {'addy': '3702 Newberry Road, Gainesville, FL 32607', 'theater': 'Regal Royal Park Stadium 16', 'title': 'The Upside', 'mpaa': 'PG-13', 'stars': '4.5', 'times': '1:00p | 4:00p | 7:00p | 9:55p', 'format': 'Standard', 'synopsis': \"Phillip is a wealthy quadriplegic who needs a caretaker to help him with his day-to-day routine in his New York penthouse. He decides to hire Dell, a struggling parolee who's trying to reconnect with his ex and his young son. Despite coming from two different worlds, an unlikely friendship starts to blossom as Dell and Phillip rediscover the joy of living life to the fullest.\", 'date': '2019-01-23', 'city': 'High Springs, FL'}, {'addy': '2801 SW 27th Avenue, Ocala, FL 34474', 'theater': 'Regal Hollywood Stadium 16 & IMAX - Ocala', 'title': 'Bumblebee', 'mpaa': 'PG-13', 'stars': '4.5', 'times': '4:35p | 7:20p | 10:05p', 'format': 'Standard', 'synopsis': 'On the run in the year 1987, Bumblebee the Autobot seeks refuge in a junkyard in a small California beach town. Charlie, on the brink of turning 18 years old and trying to find her place in the world, soon discovers the battle-scarred and broken Bumblebee. When Charlie revives him, she quickly learns that this is no ordinary yellow Volkswagen.', 'date': '2019-01-23', 'city': 'Belleview, FL'}, {'addy': '3702 Newberry Road, Gainesville, FL 32607', 'theater': 'Regal Royal Park Stadium 16', 'title': 'Fantastic Beasts: The Crimes of Grindelwald', 'mpaa': 'PG-13', 'stars': '4.5', 'times': '3:35p | 6:40p | 9:45p', 'format': 'Standard', 'synopsis': \"In an effort to thwart Grindelwald's plans of raising pure-blood wizards to rule over all non-magical beings, Albus Dumbledore enlists his former student Newt Scamander, who agrees to help, unaware of the dangers that lie ahead. Lines are drawn as love and loyalty are tested, even among the truest friends and family, in an increasingly divided world.\", 'date': '2019-01-23', 'city': 'Gainesville, FL'}, {'addy': '2801 SW 27th Avenue, Ocala, FL 34474', 'theater': 'Regal Hollywood Stadium 16 & IMAX - Ocala', 'title': 'Glass (2019)', 'mpaa': 'PG-13', 'stars': '4', 'times': '3:00p | 7:00p | 10:00p', 'format': 'IMAX', 'synopsis': 'Security guard David Dunn uses his supernatural abilities to track Kevin Wendell Crumb, a disturbed man who has twenty-four personalities.', 'date': '2019-01-23', 'city': 'Belleview, FL'}, {'addy': '10845 SE US Highway 441, Belleview, FL 34420', 'theater': 'Belleview Cinemas', 'title': 'Escape Room (2019)', 'mpaa': 'PG-13', 'stars': '4', 'times': '1:00p | 4:00p | 7:00p', 'format': 'Standard', 'synopsis': 'Six strangers find themselves in circumstances beyond their control, and must use their wits to survive.', 'date': '2019-01-23', 'city': 'Ocala, FL'}, {'addy': '1105 Alonzo Ave, Lady Lake, FL 32159', 'theater': 'Rialto Theatre Spanish Springs Town Square', 'title': 'Welcome to Marwen', 'mpaa': 'PG-13', 'stars': '3.5', 'times': '8:20a | 1:20p', 'format': 'Standard', 'synopsis': 'No one expects Mark Hogancamp to recover from a devastating assault that wipes away all of his memories. Putting together pieces from the past and present, Mark meticulously creates a Belgian town and becomes a heroic World War II fighter pilot. His astonishing art installation soon comes to life with breathtakingly realistic dolls -- a testament to the most powerful women he knows. Through this fantasy world, Hogancamp finds the strength to triumph in the real world and face his attackers.', 'date': '2019-01-23', 'city': 'The Villages, FL'}, {'addy': '3702 Newberry Road, Gainesville, FL 32607', 'theater': 'Regal Royal Park Stadium 16', 'title': 'Mary Poppins Returns (2018)', 'mpaa': 'PG', 'stars': '4.5', 'times': '3:30p | 6:30p | 9:30p', 'format': 'Standard', 'synopsis': 'Now an adult with three children, bank teller Michael Banks learns that his house will be repossessed in five days unless he can pay back a loan. His only hope is to find a missing certificate that shows proof of valuable shares that his father left him years earlier. Just as all seems lost, Michael and his sister receive the surprise of a lifetime when Mary Poppins -- the beloved nanny from their childhood -- arrives to save the day and take the Banks family on a magical, fun-filled adventure.', 'date': '2019-01-23', 'city': 'Gainesville, FL'}, {'addy': '2801 SW 27th Avenue, Ocala, FL 34474', 'theater': 'Regal Hollywood Stadium 16 & IMAX - Ocala', 'title': 'Second Act', 'mpaa': 'PG-13', 'stars': '4', 'times': '1:45p | 4:40p | 7:25p | 10:25p', 'format': 'Standard', 'synopsis': 'Second Act is a comedy in the vein of Working Girl and Maid In Manhattan. Jennifer Lopez stars as Maya, a 40-year-old woman struggling with frustrations from unfulfilled dreams. Until, that is, she gets the chance to prove to Madison Avenue that street smarts are as valuable as book smarts, and that it is never too late for a Second Act.', 'date': '2019-01-23', 'city': 'Belleview, FL'}, {'addy': '10401-015 US Hwy. 441 South, Leesburg, FL 34788', 'theater': 'AMC Lake Square 12', 'title': 'Escape Room (2019)', 'mpaa': 'PG-13', 'stars': '4', 'times': '11:00a | 1:20p | 4:40p | 7:05p', 'format': 'Standard', 'synopsis': 'Six strangers find themselves in circumstances beyond their control, and must use their wits to survive.', 'date': '2019-01-23', 'city': 'The Villages, FL'}, {'addy': '2830 Hwy 90 West, Lake City, FL 32055', 'theater': 'UA Cinema 90 6', 'title': 'Glass (2019)', 'mpaa': 'PG-13', 'stars': '4', 'times': '1:00p | 4:00p | 7:00p', 'format': 'Standard', 'synopsis': 'Security guard David Dunn uses his supernatural abilities to track Kevin Wendell Crumb, a disturbed man who has twenty-four personalities.', 'date': '2019-01-23', 'city': 'Lake City, FL'}, {'addy': '3702 Newberry Road, Gainesville, FL 32607', 'theater': 'Regal Royal Park Stadium 16', 'title': 'Aquaman', 'mpaa': 'PG-13', 'stars': '4.5', 'times': '3:20p | 6:35p | 9:40p', 'format': 'Standard', 'synopsis': 'Aquaman finds himself caught between a surface world that ravages the sea and the underwater Atlanteans who are ready to revolt.', 'date': '2019-01-23', 'city': 'High Springs, FL'}, {'addy': '101 W. Call St., Starke, FL 32091', 'theater': 'Florida Twin', 'title': 'Glass (2019)', 'mpaa': 'PG-13', 'stars': '4', 'times': '7:15p', 'format': 'Standard', 'synopsis': 'Security guard David Dunn uses his supernatural abilities to track Kevin Wendell Crumb, a disturbed man who has twenty-four personalities.', 'date': '2019-01-23', 'city': 'Starke, FL'}, {'addy': '3101 SW 35th Blvd, Gainesville, FL 32608', 'theater': 'Regal Butler Town Center 14', 'title': 'Ralph Breaks the Internet', 'mpaa': 'PG', 'stars': '4.5', 'times': '2:45p | 5:20p | 10:55p', 'format': 'Standard', 'synopsis': 'Ralph and Vanellope embark on an adventure inside the internet to find a spare part to fix a video game.', 'date': '2019-01-23', 'city': 'Gainesville, FL'}, {'addy': '3702 Newberry Road, Gainesville, FL 32607', 'theater': 'Regal Royal Park Stadium 16', 'title': 'Escape Room (2019)', 'mpaa': 'PG-13', 'stars': '4', 'times': '1:15p | 3:45p | 6:25p | 9:00p', 'format': 'Standard', 'synopsis': 'Six strangers find themselves in circumstances beyond their control, and must use their wits to survive.', 'date': '2019-01-23', 'city': 'High Springs, FL'}, {'addy': '10845 SE US Highway 441, Belleview, FL 34420', 'theater': 'Belleview Cinemas', 'title': 'Spider-Man: Into the Spider-Verse', 'mpaa': 'PG', 'stars': '5', 'times': '1:00p | 4:00p | 7:00p', 'format': 'Standard', 'synopsis': 'Spider-Man mentors a teenager from Brooklyn, N.Y., to become the next web-slinging superhero.', 'date': '2019-01-23', 'city': 'Ocala, FL'}, {'addy': '3702 Newberry Road, Gainesville, FL 32607', 'theater': 'Regal Royal Park Stadium 16', 'title': 'Aquaman', 'mpaa': 'PG-13', 'stars': '4.5', 'times': '3:20p | 6:35p | 9:40p', 'format': 'Standard', 'synopsis': 'Aquaman finds himself caught between a surface world that ravages the sea and the underwater Atlanteans who are ready to revolt.', 'date': '2019-01-23', 'city': 'Gainesville, FL'}, {'addy': '2801 SW 27th Avenue, Ocala, FL 34474', 'theater': 'Regal Hollywood Stadium 16 & IMAX - Ocala', 'title': 'Replicas', 'mpaa': 'PG-13', 'stars': '3.5', 'times': '2:10p | 5:20p | 8:00p | 10:40p', 'format': 'Standard', 'synopsis': 'William Foster is a brilliant neuroscientist who loses his wife, son and two daughters in a tragic car accident. Utilizing cutting-edge technology, William comes up with a daring and unprecedented plan to download their memories and clone their bodies. As the experiment begins to spiral out of control, Foster soon finds himself at odds with his dubious boss, a reluctant accomplice, a police task force and the physical laws of science.', 'date': '2019-01-23', 'city': 'Belleview, FL'}, {'addy': '1105 Alonzo Ave, Lady Lake, FL 32159', 'theater': 'Rialto Theatre Spanish Springs Town Square', 'title': 'The Wife', 'mpaa': 'R', 'stars': '4', 'times': '11:00a | 5:00p', 'format': 'Standard', 'synopsis': 'After nearly forty years of marriage, JOAN and JOE CASTLEMAN (Glenn Close and Jonathan Pryce) are complements. Where Joe is casual, Joan is elegant. Where Joe is vain, Joan is self-effacing. And where Joe enjoys his very public role as Great American Novelist, Joan pours her considerable intellect, grace, charm, and diplomacy into the private role of Great Man’s Wife. Joe is about to be awarded the Nobel Prize for his acclaimed and prolific body of work. Joe’s literary star has blazed since he and Joan first met in the late 1950. THE WIFE interweaves the story of the couple’s youthful passion and ambition with a portrait of a marriage, thirty-plus years later—a lifetime’s shared compromises, secrets, betrayals, and mutual love.', 'date': '2019-01-23', 'city': 'The Villages, FL'}, {'addy': '3101 SW 35th Blvd, Gainesville, FL 32608', 'theater': 'Regal Butler Town Center 14', 'title': 'Aquaman', 'mpaa': 'PG-13', 'stars': '4.5', 'times': '3:55p | 7:10p | 10:15p', 'format': 'Standard', 'synopsis': 'Aquaman finds himself caught between a surface world that ravages the sea and the underwater Atlanteans who are ready to revolt.', 'date': '2019-01-23', 'city': 'Gainesville, FL'}, {'addy': '2720 Brownwood Blvd., The Villages, FL 32163', 'theater': 'Barnstorm Theater', 'title': 'If Beale Street Could Talk', 'mpaa': 'R', 'stars': '4', 'times': '10:35a | 2:45p | 4:00p | 7:45p | 10:30p', 'format': 'Standard', 'synopsis': 'In early 1970s Harlem, daughter and wife-to-be Tish vividly recalls the passion, respect and trust that have connected her and her artist fiancé Alonzo Hunt, who goes by the nickname Fonny. Friends since childhood, the devoted couple dream of a future together, but their plans are derailed when Fonny is arrested for a crime he did not commit.', 'date': '2019-01-23', 'city': 'The Villages, FL'}, {'addy': '3101 SW 35th Blvd, Gainesville, FL 32608', 'theater': 'Regal Butler Town Center 14', 'title': 'Bumblebee', 'mpaa': 'PG-13', 'stars': '4.5', 'times': '4:00p | 7:00p', 'format': 'Standard', 'synopsis': 'On the run in the year 1987, Bumblebee the Autobot seeks refuge in a junkyard in a small California beach town. Charlie, on the brink of turning 18 years old and trying to find her place in the world, soon discovers the battle-scarred and broken Bumblebee. When Charlie revives him, she quickly learns that this is no ordinary yellow Volkswagen.', 'date': '2019-01-23', 'city': 'Gainesville, FL'}, {'addy': '2021 Silver Springs Blvd, Ocala, FL 34471', 'theater': 'Ocala Center 6', 'title': 'Aquaman', 'mpaa': 'PG-13', 'stars': '4.5', 'times': '1:00p | 4:00p | 7:00p', 'format': 'Standard', 'synopsis': 'Aquaman finds himself caught between a surface world that ravages the sea and the underwater Atlanteans who are ready to revolt.', 'date': '2019-01-23', 'city': 'Belleview, FL'}, {'addy': '2801 SW 27th Avenue, Ocala, FL 34474', 'theater': 'Regal Hollywood Stadium 16 & IMAX - Ocala', 'title': 'Escape Room (2019)', 'mpaa': 'PG-13', 'stars': '4', 'times': '2:45p | 5:15p | 7:50p | 10:35p', 'format': 'Standard', 'synopsis': 'Six strangers find themselves in circumstances beyond their control, and must use their wits to survive.', 'date': '2019-01-23', 'city': 'Belleview, FL'}, {'addy': '2830 Hwy 90 West, Lake City, FL 32055', 'theater': 'UA Cinema 90 6', 'title': \"A Dog's Way Home\", 'mpaa': 'PG', 'stars': '4.5', 'times': '1:10p | 4:15p | 7:25p', 'format': 'Standard', 'synopsis': 'As a puppy, Bella finds her way into the arms of Lucas, a young man who gives her a good home. When Bella becomes separated from Lucas, she soon finds herself on an epic 400-mile journey to reunite with her beloved owner. Along the way, the lost but spirited dog touches the lives of an orphaned mountain lion, a down-on-his-luck veteran and some friendly strangers who happen to cross her path.', 'date': '2019-01-23', 'city': 'Lake City, FL'}, {'addy': '1105 Alonzo Ave, Lady Lake, FL 32159', 'theater': 'Rialto Theatre Spanish Springs Town Square', 'title': 'On the Basis of Sex', 'mpaa': 'PG-13', 'stars': '4.5', 'times': '9:00a | 11:45a | 2:30p | 5:15p | 8:00p', 'format': 'Standard', 'synopsis': 'The film tells an inspiring and spirited true story that follows young lawyer Ruth Bader Ginsburg as she teams with her husband Marty to bring a groundbreaking case before the U.S. Court of Appeals and overturn a century of gender discrimination. The feature will premiere in 2018 in line with Justice Ginsburg’s 25th anniversary on the Supreme Court.', 'date': '2019-01-23', 'city': 'Belleview, FL'}, {'addy': 'University of Florida, Gainesville, FL 32611', 'theater': 'Reitz Union Cinema - U of Fl', 'title': '', 'mpaa': '', 'stars': '', 'times': '', 'format': '', 'synopsis': '', 'date': '2019-01-23', 'city': 'Gainesville, FL'}, {'addy': '50 S. Magnolia Ave., Ocala, FL 34471', 'theater': 'Marion Theatre', 'title': 'Escape Room (2019)', 'mpaa': 'PG-13', 'stars': '4', 'times': '1:00p | 4:00p | 7:00p', 'format': 'Standard', 'synopsis': 'Six strangers find themselves in circumstances beyond their control, and must use their wits to survive.', 'date': '2019-01-23', 'city': 'Ocala, FL'}, {'addy': '4901 SW 31st Place, Gainesville, FL 32608', 'theater': 'Celebration Pointe 10', 'title': 'Glass (2019)', 'mpaa': 'PG-13', 'stars': '4', 'times': '3:30p | 5:00p | 7:00p | 8:20p | 10:15p | 4:15p | 7:40p | 10:50p', 'format': 'Standard', 'synopsis': 'Security guard David Dunn uses his supernatural abilities to track Kevin Wendell Crumb, a disturbed man who has twenty-four personalities.', 'date': '2019-01-23', 'city': 'High Springs, FL'}, {'addy': '1000 Old Mill Run, The Villages, FL 32162', 'theater': 'Old Mill Playhouse', 'title': 'Spider-Man: Into the Spider-Verse', 'mpaa': 'PG', 'stars': '5', 'times': '9:35a | 12:15p | 3:00p | 6:45p | 9:30p', 'format': 'Standard', 'synopsis': 'Spider-Man mentors a teenager from Brooklyn, N.Y., to become the next web-slinging superhero.', 'date': '2019-01-23', 'city': 'Belleview, FL'}, {'addy': '3702 Newberry Road, Gainesville, FL 32607', 'theater': 'Regal Royal Park Stadium 16', 'title': 'Ralph Breaks the Internet', 'mpaa': 'PG', 'stars': '4.5', 'times': '3:25p', 'format': 'Standard', 'synopsis': 'Ralph and Vanellope embark on an adventure inside the internet to find a spare part to fix a video game.', 'date': '2019-01-23', 'city': 'Gainesville, FL'}, {'addy': '1000 Old Mill Run, The Villages, FL 32162', 'theater': 'Old Mill Playhouse', 'title': 'Sgt. Will Gardner', 'mpaa': '', 'stars': '5', 'times': '9:35a | 12:30p | 3:20p | 6:15p', 'format': 'Standard', 'synopsis': 'Sgt. Will Gardner tells the story about Iraq War veteran Will Gardner (Max Martini) who is suffering from a traumatic brain injury (TBI) he sustained during a bombing of him and his platoon while in combat. His injuries make it difficult for him to reintegrate into society. After a series of setbacks, he embarks on a spirited motorcycle journey across America with the goal to reunite with his son and along his journey, he tries to pick up the pieces of a life he’s lost since returning from combat. His PTSD causes frequent flashbacks to the Iraq War which he survives by having frequent conversations with Sam (Omari Hardwick),his best friend and war buddy.', 'date': '2019-01-23', 'city': 'Belleview, FL'}, {'addy': '50 S. Magnolia Ave., Ocala, FL 34471', 'theater': 'Marion Theatre', 'title': 'Escape Room (2019)', 'mpaa': 'PG-13', 'stars': '4', 'times': '1:00p | 4:00p | 7:00p', 'format': 'Standard', 'synopsis': 'Six strangers find themselves in circumstances beyond their control, and must use their wits to survive.', 'date': '2019-01-23', 'city': 'Belleview, FL'}, {'addy': '1105 Alonzo Ave, Lady Lake, FL 32159', 'theater': 'Rialto Theatre Spanish Springs Town Square', 'title': 'Welcome to Marwen', 'mpaa': 'PG-13', 'stars': '3.5', 'times': '8:20a | 1:20p', 'format': 'Standard', 'synopsis': 'No one expects Mark Hogancamp to recover from a devastating assault that wipes away all of his memories. Putting together pieces from the past and present, Mark meticulously creates a Belgian town and becomes a heroic World War II fighter pilot. His astonishing art installation soon comes to life with breathtakingly realistic dolls -- a testament to the most powerful women he knows. Through this fantasy world, Hogancamp finds the strength to triumph in the real world and face his attackers.', 'date': '2019-01-23', 'city': 'Belleview, FL'}, {'addy': '3702 Newberry Road, Gainesville, FL 32607', 'theater': 'Regal Royal Park Stadium 16', 'title': 'Spider-Man: Into the Spider-Verse', 'mpaa': 'PG', 'stars': '5', 'times': '1:25p | 4:15p | 7:00p | 9:50p', 'format': 'Standard', 'synopsis': 'Spider-Man mentors a teenager from Brooklyn, N.Y., to become the next web-slinging superhero.', 'date': '2019-01-23', 'city': 'High Springs, FL'}, {'addy': '1000 Old Mill Run, The Villages, FL 32162', 'theater': 'Old Mill Playhouse', 'title': 'Replicas', 'mpaa': 'PG-13', 'stars': '3.5', 'times': '10:00a | 1:00p | 3:30p | 6:00p | 8:30p', 'format': 'Standard', 'synopsis': 'William Foster is a brilliant neuroscientist who loses his wife, son and two daughters in a tragic car accident. Utilizing cutting-edge technology, William comes up with a daring and unprecedented plan to download their memories and clone their bodies. As the experiment begins to spiral out of control, Foster soon finds himself at odds with his dubious boss, a reluctant accomplice, a police task force and the physical laws of science.', 'date': '2019-01-23', 'city': 'The Villages, FL'}, {'addy': '3101 SW 35th Blvd, Gainesville, FL 32608', 'theater': 'Regal Butler Town Center 14', 'title': 'Bumblebee', 'mpaa': 'PG-13', 'stars': '4.5', 'times': '4:00p | 7:00p', 'format': 'Standard', 'synopsis': 'On the run in the year 1987, Bumblebee the Autobot seeks refuge in a junkyard in a small California beach town. Charlie, on the brink of turning 18 years old and trying to find her place in the world, soon discovers the battle-scarred and broken Bumblebee. When Charlie revives him, she quickly learns that this is no ordinary yellow Volkswagen.', 'date': '2019-01-23', 'city': 'High Springs, FL'}, {'addy': '4901 SW 31st Place, Gainesville, FL 32608', 'theater': 'Celebration Pointe 10', 'title': 'Bohemian Rhapsody', 'mpaa': 'PG-13', 'stars': '5', 'times': '5:30p | 9:15p', 'format': 'Standard', 'synopsis': \"Singer Freddie Mercury, guitarist Brian May, drummer Roger Taylor and bass guitarist John Deacon take the music world by storm when they form the rock 'n' roll band Queen in 1970. Surrounded by darker influences, Mercury decides to leave Queen years later to pursue a solo career. Diagnosed with AIDS in the 1980s, the flamboyant frontman reunites with the group for the benefit concert Live Aid -- leading the band in one of the greatest performances in rock history.\", 'date': '2019-01-23', 'city': 'Gainesville, FL'}, {'addy': '3702 Newberry Road, Gainesville, FL 32607', 'theater': 'Regal Royal Park Stadium 16', 'title': 'Glass (2019)', 'mpaa': 'PG-13', 'stars': '4', 'times': '3:50p | 7:00p | 9:55p', 'format': 'Standard', 'synopsis': 'Security guard David Dunn uses his supernatural abilities to track Kevin Wendell Crumb, a disturbed man who has twenty-four personalities.', 'date': '2019-01-23', 'city': 'High Springs, FL'}, {'addy': '1105 Alonzo Ave, Lady Lake, FL 32159', 'theater': 'Rialto Theatre Spanish Springs Town Square', 'title': 'Vice (2018)', 'mpaa': 'R', 'stars': '3.5', 'times': '9:40a | 12:35p | 3:30p | 6:30p | 9:25p', 'format': 'Standard', 'synopsis': \"Gov. George W. Bush of Texas picks Dick Cheney, the CEO of Halliburton Co., to be his Republican running mate in the 2000 presidential election. No stranger to politics, Cheney's impressive résumé includes stints as White House chief of staff, House Minority Whip and defense secretary. When Bush wins by a narrow margin, Cheney begins to use his newfound power to help reshape the country and the world.\", 'date': '2019-01-23', 'city': 'Belleview, FL'}, {'addy': '3101 SW 35th Blvd, Gainesville, FL 32608', 'theater': 'Regal Butler Town Center 14', 'title': 'Escape Room (2019)', 'mpaa': 'PG-13', 'stars': '4', 'times': '2:35p | 5:10p | 7:40p | 11:00p', 'format': 'Standard', 'synopsis': 'Six strangers find themselves in circumstances beyond their control, and must use their wits to survive.', 'date': '2019-01-23', 'city': 'High Springs, FL'}, {'addy': '3702 Newberry Road, Gainesville, FL 32607', 'theater': 'Regal Royal Park Stadium 16', 'title': 'Replicas', 'mpaa': 'PG-13', 'stars': '3.5', 'times': '4:35p | 6:35p | 10:15p', 'format': 'Standard', 'synopsis': 'William Foster is a brilliant neuroscientist who loses his wife, son and two daughters in a tragic car accident. Utilizing cutting-edge technology, William comes up with a daring and unprecedented plan to download their memories and clone their bodies. As the experiment begins to spiral out of control, Foster soon finds himself at odds with his dubious boss, a reluctant accomplice, a police task force and the physical laws of science.', 'date': '2019-01-23', 'city': 'High Springs, FL'}, {'addy': '2801 SW 27th Avenue, Ocala, FL 34474', 'theater': 'Regal Hollywood Stadium 16 & IMAX - Ocala', 'title': 'Spider-Man: Into the Spider-Verse', 'mpaa': 'PG', 'stars': '5', 'times': '1:40p | 4:20p', 'format': 'Standard', 'synopsis': 'Spider-Man mentors a teenager from Brooklyn, N.Y., to become the next web-slinging superhero.', 'date': '2019-01-23', 'city': 'Belleview, FL'}, {'addy': '4901 SW 31st Place, Gainesville, FL 32608', 'theater': 'Celebration Pointe 10', 'title': 'Aquaman', 'mpaa': 'PG-13', 'stars': '4.5', 'times': '3:45p | 7:30p | 10:55p', 'format': 'Standard', 'synopsis': 'Aquaman finds himself caught between a surface world that ravages the sea and the underwater Atlanteans who are ready to revolt.', 'date': '2019-01-23', 'city': 'Gainesville, FL'}, {'addy': '2021 Silver Springs Blvd, Ocala, FL 34471', 'theater': 'Ocala Center 6', 'title': 'The Upside', 'mpaa': 'PG-13', 'stars': '4.5', 'times': '1:00p | 4:00p | 7:00p', 'format': 'Standard', 'synopsis': \"Phillip is a wealthy quadriplegic who needs a caretaker to help him with his day-to-day routine in his New York penthouse. He decides to hire Dell, a struggling parolee who's trying to reconnect with his ex and his young son. Despite coming from two different worlds, an unlikely friendship starts to blossom as Dell and Phillip rediscover the joy of living life to the fullest.\", 'date': '2019-01-23', 'city': 'Belleview, FL'}, {'addy': '2720 Brownwood Blvd., The Villages, FL 32163', 'theater': 'Barnstorm Theater', 'title': 'Bohemian Rhapsody', 'mpaa': 'PG-13', 'stars': '5', 'times': '9:45a | 12:45p | 3:45p | 6:45p | 9:45p', 'format': 'Standard', 'synopsis': \"Singer Freddie Mercury, guitarist Brian May, drummer Roger Taylor and bass guitarist John Deacon take the music world by storm when they form the rock 'n' roll band Queen in 1970. Surrounded by darker influences, Mercury decides to leave Queen years later to pursue a solo career. Diagnosed with AIDS in the 1980s, the flamboyant frontman reunites with the group for the benefit concert Live Aid -- leading the band in one of the greatest performances in rock history.\", 'date': '2019-01-23', 'city': 'The Villages, FL'}, {'addy': '4850 S. Pine Ave., Ocala, FL 34480', 'theater': 'Ocala Drive-In', 'title': '', 'mpaa': '', 'stars': '', 'times': '', 'format': '', 'synopsis': '', 'date': '2019-01-23', 'city': 'Ocala, FL'}, {'addy': '3702 Newberry Road, Gainesville, FL 32607', 'theater': 'Regal Royal Park Stadium 16', 'title': 'Ralph Breaks the Internet', 'mpaa': 'PG', 'stars': '4.5', 'times': '3:25p', 'format': 'Standard', 'synopsis': 'Ralph and Vanellope embark on an adventure inside the internet to find a spare part to fix a video game.', 'date': '2019-01-23', 'city': 'High Springs, FL'}, {'addy': '10845 SE US Highway 441, Belleview, FL 34420', 'theater': 'Belleview Cinemas', 'title': 'Escape Room (2019)', 'mpaa': 'PG-13', 'stars': '4', 'times': '1:00p | 4:00p | 7:00p', 'format': 'Standard', 'synopsis': 'Six strangers find themselves in circumstances beyond their control, and must use their wits to survive.', 'date': '2019-01-23', 'city': 'Belleview, FL'}, {'addy': '2021 Silver Springs Blvd, Ocala, FL 34471', 'theater': 'Ocala Center 6', 'title': 'Aquaman', 'mpaa': 'PG-13', 'stars': '4.5', 'times': '1:00p | 4:00p | 7:00p', 'format': 'Standard', 'synopsis': 'Aquaman finds himself caught between a surface world that ravages the sea and the underwater Atlanteans who are ready to revolt.', 'date': '2019-01-23', 'city': 'Ocala, FL'}, {'addy': '2801 SW 27th Avenue, Ocala, FL 34474', 'theater': 'Regal Hollywood Stadium 16 & IMAX - Ocala', 'title': 'Mary Queen of Scots (2018)', 'mpaa': 'R', 'stars': '4', 'times': '3:20p | 7:00p | 10:00p', 'format': 'Standard', 'synopsis': '“Mary Queen of Scots” explores the turbulent life of the charismatic Mary Stuart (Ronan). Queen of France at 16 and widowed at 18, Mary defies pressure to remarry. Instead, she returns to her native Scotland to reclaim her rightful throne. But Scotland and England fall under the rule of the compelling Elizabeth I (Robbie). Each young Queen beholds her “sister” in fear and fascination. Rivals in power and in love, and female regents in a masculine world, the two must decide how to play the game of marriage versus independence. Determined to rule as much more than a figurehead, Mary asserts her claim to the English throne, threatening Elizabeth’s sovereignty. Betrayal, rebellion, and conspiracies within each court imperil both thrones – and change the course of history.', 'date': '2019-01-23', 'city': 'Belleview, FL'}, {'addy': '2801 SW 27th Avenue, Ocala, FL 34474', 'theater': 'Regal Hollywood Stadium 16 & IMAX - Ocala', 'title': 'Mary Queen of Scots (2018)', 'mpaa': 'R', 'stars': '4', 'times': '3:20p | 7:00p | 10:00p', 'format': 'Standard', 'synopsis': '“Mary Queen of Scots” explores the turbulent life of the charismatic Mary Stuart (Ronan). Queen of France at 16 and widowed at 18, Mary defies pressure to remarry. Instead, she returns to her native Scotland to reclaim her rightful throne. But Scotland and England fall under the rule of the compelling Elizabeth I (Robbie). Each young Queen beholds her “sister” in fear and fascination. Rivals in power and in love, and female regents in a masculine world, the two must decide how to play the game of marriage versus independence. Determined to rule as much more than a figurehead, Mary asserts her claim to the English throne, threatening Elizabeth’s sovereignty. Betrayal, rebellion, and conspiracies within each court imperil both thrones – and change the course of history.', 'date': '2019-01-23', 'city': 'Ocala, FL'}, {'addy': '1000 Old Mill Run, The Villages, FL 32162', 'theater': 'Old Mill Playhouse', 'title': 'The Upside', 'mpaa': 'PG-13', 'stars': '4.5', 'times': '9:45a | 12:35p | 3:30p | 6:45p | 9:30p', 'format': 'Standard', 'synopsis': \"Phillip is a wealthy quadriplegic who needs a caretaker to help him with his day-to-day routine in his New York penthouse. He decides to hire Dell, a struggling parolee who's trying to reconnect with his ex and his young son. Despite coming from two different worlds, an unlikely friendship starts to blossom as Dell and Phillip rediscover the joy of living life to the fullest.\", 'date': '2019-01-23', 'city': 'Belleview, FL'}, {'addy': '3101 SW 35th Blvd, Gainesville, FL 32608', 'theater': 'Regal Butler Town Center 14', 'title': 'Green Book', 'mpaa': 'PG-13', 'stars': '5', 'times': '3:55p | 7:55p | 10:00p', 'format': 'Standard', 'synopsis': \"Dr. Don Shirley is a world-class African-American pianist who's about to embark on a concert tour in the Deep South in 1962. In need of a driver and protection, Shirley recruits Tony Lip, a tough-talking bouncer from an Italian-American neighborhood in the Bronx. Despite their differences, the two men soon develop an unexpected bond while confronting racism and danger in an era of segregation.\", 'date': '2019-01-23', 'city': 'High Springs, FL'}, {'addy': '3101 SW 35th Blvd, Gainesville, FL 32608', 'theater': 'Regal Butler Town Center 14', 'title': 'Mary Poppins Returns (2018)', 'mpaa': 'PG', 'stars': '4.5', 'times': '3:50p | 7:05p | 10:05p', 'format': 'Standard', 'synopsis': 'Now an adult with three children, bank teller Michael Banks learns that his house will be repossessed in five days unless he can pay back a loan. His only hope is to find a missing certificate that shows proof of valuable shares that his father left him years earlier. Just as all seems lost, Michael and his sister receive the surprise of a lifetime when Mary Poppins -- the beloved nanny from their childhood -- arrives to save the day and take the Banks family on a magical, fun-filled adventure.', 'date': '2019-01-23', 'city': 'Gainesville, FL'}, {'addy': '2801 SW 27th Avenue, Ocala, FL 34474', 'theater': 'Regal Hollywood Stadium 16 & IMAX - Ocala', 'title': 'Vice (2018)', 'mpaa': 'R', 'stars': '3.5', 'times': '3:40p | 10:20p', 'format': 'Standard', 'synopsis': \"Gov. George W. Bush of Texas picks Dick Cheney, the CEO of Halliburton Co., to be his Republican running mate in the 2000 presidential election. No stranger to politics, Cheney's impressive résumé includes stints as White House chief of staff, House Minority Whip and defense secretary. When Bush wins by a narrow margin, Cheney begins to use his newfound power to help reshape the country and the world.\", 'date': '2019-01-23', 'city': 'Belleview, FL'}, {'addy': '10401-015 US Hwy. 441 South, Leesburg, FL 34788', 'theater': 'AMC Lake Square 12', 'title': 'Aquaman', 'mpaa': 'PG-13', 'stars': '4.5', 'times': '10:15a | 1:05p | 4:00p | 6:50p', 'format': 'Standard', 'synopsis': 'Aquaman finds himself caught between a surface world that ravages the sea and the underwater Atlanteans who are ready to revolt.', 'date': '2019-01-23', 'city': 'The Villages, FL'}, {'addy': '4901 SW 31st Place, Gainesville, FL 32608', 'theater': 'Celebration Pointe 10', 'title': 'Mary Poppins Returns (2018)', 'mpaa': 'PG', 'stars': '4.5', 'times': '3:50p | 6:50p | 10:00p', 'format': 'Standard', 'synopsis': 'Now an adult with three children, bank teller Michael Banks learns that his house will be repossessed in five days unless he can pay back a loan. His only hope is to find a missing certificate that shows proof of valuable shares that his father left him years earlier. Just as all seems lost, Michael and his sister receive the surprise of a lifetime when Mary Poppins -- the beloved nanny from their childhood -- arrives to save the day and take the Banks family on a magical, fun-filled adventure.', 'date': '2019-01-23', 'city': 'Gainesville, FL'}, {'addy': '10401-015 US Hwy. 441 South, Leesburg, FL 34788', 'theater': 'AMC Lake Square 12', 'title': 'Mary Poppins Returns (2018)', 'mpaa': 'PG', 'stars': '4.5', 'times': '10:20a | 1:40p | 4:05p | 7:20p', 'format': 'Standard', 'synopsis': 'Now an adult with three children, bank teller Michael Banks learns that his house will be repossessed in five days unless he can pay back a loan. His only hope is to find a missing certificate that shows proof of valuable shares that his father left him years earlier. Just as all seems lost, Michael and his sister receive the surprise of a lifetime when Mary Poppins -- the beloved nanny from their childhood -- arrives to save the day and take the Banks family on a magical, fun-filled adventure.', 'date': '2019-01-23', 'city': 'The Villages, FL'}, {'addy': '3101 SW 35th Blvd, Gainesville, FL 32608', 'theater': 'Regal Butler Town Center 14', 'title': 'On the Basis of Sex', 'mpaa': 'PG-13', 'stars': '4.5', 'times': '4:05p | 6:55p | 9:45p', 'format': 'Standard', 'synopsis': 'The film tells an inspiring and spirited true story that follows young lawyer Ruth Bader Ginsburg as she teams with her husband Marty to bring a groundbreaking case before the U.S. Court of Appeals and overturn a century of gender discrimination. The feature will premiere in 2018 in line with Justice Ginsburg’s 25th anniversary on the Supreme Court.', 'date': '2019-01-23', 'city': 'High Springs, FL'}, {'addy': '10401-015 US Hwy. 441 South, Leesburg, FL 34788', 'theater': 'AMC Lake Square 12', 'title': 'Replicas', 'mpaa': 'PG-13', 'stars': '3.5', 'times': '6:35p', 'format': 'Standard', 'synopsis': 'William Foster is a brilliant neuroscientist who loses his wife, son and two daughters in a tragic car accident. Utilizing cutting-edge technology, William comes up with a daring and unprecedented plan to download their memories and clone their bodies. As the experiment begins to spiral out of control, Foster soon finds himself at odds with his dubious boss, a reluctant accomplice, a police task force and the physical laws of science.', 'date': '2019-01-23', 'city': 'The Villages, FL'}, {'addy': '1000 Old Mill Run, The Villages, FL 32162', 'theater': 'Old Mill Playhouse', 'title': 'Aquaman', 'mpaa': 'PG-13', 'stars': '4.5', 'times': '9:30a | 12:35p | 3:40p | 5:45p | 7:30p | 9:00p', 'format': 'Standard', 'synopsis': 'Aquaman finds himself caught between a surface world that ravages the sea and the underwater Atlanteans who are ready to revolt.', 'date': '2019-01-23', 'city': 'Belleview, FL'}, {'addy': '25 SE 2nd Place Street, Gainesville, FL 32601', 'theater': 'Hippodrome State Theatre', 'title': '', 'mpaa': '', 'stars': '', 'times': '', 'format': '', 'synopsis': '', 'date': '2019-01-23', 'city': 'High Springs, FL'}, {'addy': '4901 SW 31st Place, Gainesville, FL 32608', 'theater': 'Celebration Pointe 10', 'title': 'Mary Poppins Returns (2018)', 'mpaa': 'PG', 'stars': '4.5', 'times': '3:50p | 6:50p | 10:00p', 'format': 'Standard', 'synopsis': 'Now an adult with three children, bank teller Michael Banks learns that his house will be repossessed in five days unless he can pay back a loan. His only hope is to find a missing certificate that shows proof of valuable shares that his father left him years earlier. Just as all seems lost, Michael and his sister receive the surprise of a lifetime when Mary Poppins -- the beloved nanny from their childhood -- arrives to save the day and take the Banks family on a magical, fun-filled adventure.', 'date': '2019-01-23', 'city': 'High Springs, FL'}, {'addy': '2720 Brownwood Blvd., The Villages, FL 32163', 'theater': 'Barnstorm Theater', 'title': 'Rust Creek', 'mpaa': 'R', 'stars': '4', 'times': '12:15p | 4:30p | 9:45p', 'format': 'Standard', 'synopsis': \"An ordinary woman must summon extraordinary courage to survive a nightmare odyssey in this harrowing survival thriller. Sawyer (Hermione Corfield) is an ambitious, overachieving college senior with a seemingly bright future. While on her way to a job interview, a wrong turn leaves her stranded deep in the frozen Kentucky woods. Suddenly, the young woman with everything to live for finds herself facing her own mortality as she's punished by the elements and pursued by a band of ruthless outlaws. With nowhere left to run, she is forced into an uneasy alliance with Lowell (Jay Paulson), an enigmatic loner with shadowy intentions. Though she's not sure she can trust him, Sawyer must take a chance if she hopes to escape Rust Creek alive.\", 'date': '2019-01-23', 'city': 'The Villages, FL'}, {'addy': '2801 SW 27th Avenue, Ocala, FL 34474', 'theater': 'Regal Hollywood Stadium 16 & IMAX - Ocala', 'title': 'Aquaman', 'mpaa': 'PG-13', 'stars': '4.5', 'times': '4:00p | 7:30p | 9:45p', 'format': 'Standard', 'synopsis': 'Aquaman finds himself caught between a surface world that ravages the sea and the underwater Atlanteans who are ready to revolt.', 'date': '2019-01-23', 'city': 'Ocala, FL'}, {'addy': '3702 Newberry Road, Gainesville, FL 32607', 'theater': 'Regal Royal Park Stadium 16', 'title': 'Bumblebee', 'mpaa': 'PG-13', 'stars': '4.5', 'times': '1:30p | 4:30p | 7:25p | 10:10p', 'format': 'Standard', 'synopsis': 'On the run in the year 1987, Bumblebee the Autobot seeks refuge in a junkyard in a small California beach town. Charlie, on the brink of turning 18 years old and trying to find her place in the world, soon discovers the battle-scarred and broken Bumblebee. When Charlie revives him, she quickly learns that this is no ordinary yellow Volkswagen.', 'date': '2019-01-23', 'city': 'High Springs, FL'}, {'addy': '3101 SW 35th Blvd, Gainesville, FL 32608', 'theater': 'Regal Butler Town Center 14', 'title': 'Ralph Breaks the Internet', 'mpaa': 'PG', 'stars': '4.5', 'times': '2:45p | 5:20p | 10:55p', 'format': 'Standard', 'synopsis': 'Ralph and Vanellope embark on an adventure inside the internet to find a spare part to fix a video game.', 'date': '2019-01-23', 'city': 'High Springs, FL'}, {'addy': '2801 SW 27th Avenue, Ocala, FL 34474', 'theater': 'Regal Hollywood Stadium 16 & IMAX - Ocala', 'title': 'Replicas', 'mpaa': 'PG-13', 'stars': '3.5', 'times': '2:10p | 5:20p | 8:00p | 10:40p', 'format': 'Standard', 'synopsis': 'William Foster is a brilliant neuroscientist who loses his wife, son and two daughters in a tragic car accident. Utilizing cutting-edge technology, William comes up with a daring and unprecedented plan to download their memories and clone their bodies. As the experiment begins to spiral out of control, Foster soon finds himself at odds with his dubious boss, a reluctant accomplice, a police task force and the physical laws of science.', 'date': '2019-01-23', 'city': 'Ocala, FL'}, {'addy': '10845 SE US Highway 441, Belleview, FL 34420', 'theater': 'Belleview Cinemas', 'title': 'Escape Room (2019)', 'mpaa': 'PG-13', 'stars': '4', 'times': '1:00p | 4:00p | 7:00p', 'format': 'Standard', 'synopsis': 'Six strangers find themselves in circumstances beyond their control, and must use their wits to survive.', 'date': '2019-01-23', 'city': 'The Villages, FL'}, {'addy': '1105 Alonzo Ave, Lady Lake, FL 32159', 'theater': 'Rialto Theatre Spanish Springs Town Square', 'title': 'Green Book', 'mpaa': 'PG-13', 'stars': '5', 'times': '8:45a | 11:35a | 2:30p | 5:20p | 8:10p', 'format': 'Standard', 'synopsis': \"Dr. Don Shirley is a world-class African-American pianist who's about to embark on a concert tour in the Deep South in 1962. In need of a driver and protection, Shirley recruits Tony Lip, a tough-talking bouncer from an Italian-American neighborhood in the Bronx. Despite their differences, the two men soon develop an unexpected bond while confronting racism and danger in an era of segregation.\", 'date': '2019-01-23', 'city': 'Belleview, FL'}, {'addy': '3702 Newberry Road, Gainesville, FL 32607', 'theater': 'Regal Royal Park Stadium 16', 'title': 'Bohemian Rhapsody', 'mpaa': 'PG-13', 'stars': '5', 'times': '3:15p | 6:15p | 9:15p', 'format': 'Standard', 'synopsis': \"Singer Freddie Mercury, guitarist Brian May, drummer Roger Taylor and bass guitarist John Deacon take the music world by storm when they form the rock 'n' roll band Queen in 1970. Surrounded by darker influences, Mercury decides to leave Queen years later to pursue a solo career. Diagnosed with AIDS in the 1980s, the flamboyant frontman reunites with the group for the benefit concert Live Aid -- leading the band in one of the greatest performances in rock history.\", 'date': '2019-01-23', 'city': 'High Springs, FL'}, {'addy': '2801 SW 27th Avenue, Ocala, FL 34474', 'theater': 'Regal Hollywood Stadium 16 & IMAX - Ocala', 'title': \"A Dog's Way Home\", 'mpaa': 'PG', 'stars': '4.5', 'times': '2:00p | 4:30p | 7:15p | 9:45p', 'format': 'Standard', 'synopsis': 'As a puppy, Bella finds her way into the arms of Lucas, a young man who gives her a good home. When Bella becomes separated from Lucas, she soon finds herself on an epic 400-mile journey to reunite with her beloved owner. Along the way, the lost but spirited dog touches the lives of an orphaned mountain lion, a down-on-his-luck veteran and some friendly strangers who happen to cross her path.', 'date': '2019-01-23', 'city': 'Ocala, FL'}, {'addy': '3101 SW 35th Blvd, Gainesville, FL 32608', 'theater': 'Regal Butler Town Center 14', 'title': 'Mary Queen of Scots (2018)', 'mpaa': 'R', 'stars': '4', 'times': '5:20p | 10:20p', 'format': 'Standard', 'synopsis': '“Mary Queen of Scots” explores the turbulent life of the charismatic Mary Stuart (Ronan). Queen of France at 16 and widowed at 18, Mary defies pressure to remarry. Instead, she returns to her native Scotland to reclaim her rightful throne. But Scotland and England fall under the rule of the compelling Elizabeth I (Robbie). Each young Queen beholds her “sister” in fear and fascination. Rivals in power and in love, and female regents in a masculine world, the two must decide how to play the game of marriage versus independence. Determined to rule as much more than a figurehead, Mary asserts her claim to the English throne, threatening Elizabeth’s sovereignty. Betrayal, rebellion, and conspiracies within each court imperil both thrones – and change the course of history.', 'date': '2019-01-23', 'city': 'High Springs, FL'}, {'addy': '2801 SW 27th Avenue, Ocala, FL 34474', 'theater': 'Regal Hollywood Stadium 16 & IMAX - Ocala', 'title': 'Mary Poppins Returns (2018)', 'mpaa': 'PG', 'stars': '4.5', 'times': '3:25p | 6:45p | 10:45p', 'format': 'Standard', 'synopsis': 'Now an adult with three children, bank teller Michael Banks learns that his house will be repossessed in five days unless he can pay back a loan. His only hope is to find a missing certificate that shows proof of valuable shares that his father left him years earlier. Just as all seems lost, Michael and his sister receive the surprise of a lifetime when Mary Poppins -- the beloved nanny from their childhood -- arrives to save the day and take the Banks family on a magical, fun-filled adventure.', 'date': '2019-01-23', 'city': 'Belleview, FL'}, {'addy': '4901 SW 31st Place, Gainesville, FL 32608', 'theater': 'Celebration Pointe 10', 'title': \"A Dog's Way Home\", 'mpaa': 'PG', 'stars': '4.5', 'times': '2:50p | 5:20p | 8:00p | 10:45p', 'format': 'Standard', 'synopsis': 'As a puppy, Bella finds her way into the arms of Lucas, a young man who gives her a good home. When Bella becomes separated from Lucas, she soon finds herself on an epic 400-mile journey to reunite with her beloved owner. Along the way, the lost but spirited dog touches the lives of an orphaned mountain lion, a down-on-his-luck veteran and some friendly strangers who happen to cross her path.', 'date': '2019-01-23', 'city': 'Gainesville, FL'}, {'addy': '3702 Newberry Road, Gainesville, FL 32607', 'theater': 'Regal Royal Park Stadium 16', 'title': 'Vice (2018)', 'mpaa': 'R', 'stars': '3.5', 'times': '1:10p | 4:05p | 6:25p | 9:25p', 'format': 'Standard', 'synopsis': \"Gov. George W. Bush of Texas picks Dick Cheney, the CEO of Halliburton Co., to be his Republican running mate in the 2000 presidential election. No stranger to politics, Cheney's impressive résumé includes stints as White House chief of staff, House Minority Whip and defense secretary. When Bush wins by a narrow margin, Cheney begins to use his newfound power to help reshape the country and the world.\", 'date': '2019-01-23', 'city': 'High Springs, FL'}, {'addy': '1105 Alonzo Ave, Lady Lake, FL 32159', 'theater': 'Rialto Theatre Spanish Springs Town Square', 'title': 'The Favourite', 'mpaa': 'R', 'stars': '3', 'times': '8:50a | 2:20p | 7:40p | 10:20p', 'format': 'Standard', 'synopsis': '', 'date': '2019-01-23', 'city': 'Belleview, FL'}, {'addy': '50 S. Magnolia Ave., Ocala, FL 34471', 'theater': 'Marion Theatre', 'title': 'On the Basis of Sex', 'mpaa': 'PG-13', 'stars': '4.5', 'times': '1:00p | 4:00p | 7:00p', 'format': 'Standard', 'synopsis': 'The film tells an inspiring and spirited true story that follows young lawyer Ruth Bader Ginsburg as she teams with her husband Marty to bring a groundbreaking case before the U.S. Court of Appeals and overturn a century of gender discrimination. The feature will premiere in 2018 in line with Justice Ginsburg’s 25th anniversary on the Supreme Court.', 'date': '2019-01-23', 'city': 'Belleview, FL'}, {'addy': '10401-015 US Hwy. 441 South, Leesburg, FL 34788', 'theater': 'AMC Lake Square 12', 'title': 'On the Basis of Sex', 'mpaa': 'PG-13', 'stars': '4.5', 'times': '10:55a | 1:45p | 4:35p | 7:30p', 'format': 'Standard', 'synopsis': 'The film tells an inspiring and spirited true story that follows young lawyer Ruth Bader Ginsburg as she teams with her husband Marty to bring a groundbreaking case before the U.S. Court of Appeals and overturn a century of gender discrimination. The feature will premiere in 2018 in line with Justice Ginsburg’s 25th anniversary on the Supreme Court.', 'date': '2019-01-23', 'city': 'The Villages, FL'}, {'addy': '2021 Silver Springs Blvd, Ocala, FL 34471', 'theater': 'Ocala Center 6', 'title': 'Glass (2019)', 'mpaa': 'PG-13', 'stars': '4', 'times': '1:00p | 4:00p | 7:00p | 7:15p', 'format': 'Standard', 'synopsis': 'Security guard David Dunn uses his supernatural abilities to track Kevin Wendell Crumb, a disturbed man who has twenty-four personalities.', 'date': '2019-01-23', 'city': 'Belleview, FL'}, {'addy': '3101 SW 35th Blvd, Gainesville, FL 32608', 'theater': 'Regal Butler Town Center 14', 'title': 'Dragon Ball Super: Broly', 'mpaa': 'PG', 'stars': '5', 'times': '7:30p | 10:05p', 'format': 'Standard', 'synopsis': 'A planet destroyed, a powerful race reduced to nothing. After the devastation of Planet Vegeta, three Saiyans were scattered among the stars, destined for different fates. While two found a home on Earth, the third was raised with a burning desire for vengeance and developed an unbelievable power. And the time for revenge has come. Destinies collide in a battle that will shake the universe to its very core! Goku is back to training hard so he can face the most powerful foes the universes have to offer, and Vegeta is keeping up right beside him. But when they suddenly find themselves against an unknown Saiyan, they discover a terrible, destructive force. Locked into battle with the formidable Broly, Goku and Vegeta face their most dangerous opponent yet!', 'date': '2019-01-23', 'city': 'Gainesville, FL'}, {'addy': '4901 SW 31st Place, Gainesville, FL 32608', 'theater': 'Celebration Pointe 10', 'title': 'Bohemian Rhapsody', 'mpaa': 'PG-13', 'stars': '5', 'times': '5:30p | 9:15p', 'format': 'Standard', 'synopsis': \"Singer Freddie Mercury, guitarist Brian May, drummer Roger Taylor and bass guitarist John Deacon take the music world by storm when they form the rock 'n' roll band Queen in 1970. Surrounded by darker influences, Mercury decides to leave Queen years later to pursue a solo career. Diagnosed with AIDS in the 1980s, the flamboyant frontman reunites with the group for the benefit concert Live Aid -- leading the band in one of the greatest performances in rock history.\", 'date': '2019-01-23', 'city': 'High Springs, FL'}, {'addy': '3101 SW 35th Blvd, Gainesville, FL 32608', 'theater': 'Regal Butler Town Center 14', 'title': 'Glass (2019)', 'mpaa': 'PG-13', 'stars': '4', 'times': '3:55p | 4:25p | 6:50p | 7:20p | 10:00p | 10:25p', 'format': 'Standard', 'synopsis': 'Security guard David Dunn uses his supernatural abilities to track Kevin Wendell Crumb, a disturbed man who has twenty-four personalities.', 'date': '2019-01-23', 'city': 'Gainesville, FL'}, {'addy': '2801 SW 27th Avenue, Ocala, FL 34474', 'theater': 'Regal Hollywood Stadium 16 & IMAX - Ocala', 'title': 'Ralph Breaks the Internet', 'mpaa': 'PG', 'stars': '4.5', 'times': '2:05p', 'format': 'Standard', 'synopsis': 'Ralph and Vanellope embark on an adventure inside the internet to find a spare part to fix a video game.', 'date': '2019-01-23', 'city': 'Ocala, FL'}, {'addy': '2830 Hwy 90 West, Lake City, FL 32055', 'theater': 'UA Cinema 90 6', 'title': 'Bumblebee', 'mpaa': 'PG-13', 'stars': '4.5', 'times': '1:20p | 4:10p', 'format': 'Standard', 'synopsis': 'On the run in the year 1987, Bumblebee the Autobot seeks refuge in a junkyard in a small California beach town. Charlie, on the brink of turning 18 years old and trying to find her place in the world, soon discovers the battle-scarred and broken Bumblebee. When Charlie revives him, she quickly learns that this is no ordinary yellow Volkswagen.', 'date': '2019-01-23', 'city': 'Lake City, FL'}, {'addy': '4901 SW 31st Place, Gainesville, FL 32608', 'theater': 'Celebration Pointe 10', 'title': 'Bumblebee', 'mpaa': 'PG-13', 'stars': '4.5', 'times': '4:25p | 7:50p | 10:35p', 'format': 'Standard', 'synopsis': 'On the run in the year 1987, Bumblebee the Autobot seeks refuge in a junkyard in a small California beach town. Charlie, on the brink of turning 18 years old and trying to find her place in the world, soon discovers the battle-scarred and broken Bumblebee. When Charlie revives him, she quickly learns that this is no ordinary yellow Volkswagen.', 'date': '2019-01-23', 'city': 'Gainesville, FL'}, {'addy': '1105 Alonzo Ave, Lady Lake, FL 32159', 'theater': 'Rialto Theatre Spanish Springs Town Square', 'title': 'Cyrano de Bergerac presented by Comédie-Française', 'mpaa': 'PG', 'stars': '3', 'times': '7:00p', 'format': 'Standard', 'synopsis': 'From award-winning director, stage and cinema actor Denis Podalydès, this classic tale of hijinx comes to cinemas nationwide from the renowned Comédie-Française stage on January 23 only. Cyrano de Bergerac, despite a deformed and enormous nose, proves to be a talented swordsman and a man of great wit. In a local pastry shop, the precious Roxane, with whom Cyrano is secretly in love, reveals to him that she loves a young nobleman named Christian. Blessed with all of life’s gifts except for romantic eloquence, Christian asks Cyrano to help him woo Roxane, secretly prompting him with romantic turns of phrase. She becomes enamored, but at the siege of Arras, Christian dies and asks Cyrano to reveal the truth to Roxane. Opera buffa, tragedy, romantic drama, symbolist poetry, slapstick comedy… all genres are called upon to give life to this staging of one of the most emblematic texts of the French repertoire!', 'date': '2019-01-23', 'city': 'Belleview, FL'}, {'addy': '10401-015 US Hwy. 441 South, Leesburg, FL 34788', 'theater': 'AMC Lake Square 12', 'title': \"A Dog's Way Home\", 'mpaa': 'PG', 'stars': '4.5', 'times': '10:35a | 1:30p | 4:15p | 7:10p', 'format': 'Standard', 'synopsis': 'As a puppy, Bella finds her way into the arms of Lucas, a young man who gives her a good home. When Bella becomes separated from Lucas, she soon finds herself on an epic 400-mile journey to reunite with her beloved owner. Along the way, the lost but spirited dog touches the lives of an orphaned mountain lion, a down-on-his-luck veteran and some friendly strangers who happen to cross her path.', 'date': '2019-01-23', 'city': 'The Villages, FL'}, {'addy': '4901 SW 31st Place, Gainesville, FL 32608', 'theater': 'Celebration Pointe 10', 'title': 'Glass (2019)', 'mpaa': 'PG-13', 'stars': '4', 'times': '3:30p | 5:00p | 7:00p | 8:20p | 10:15p | 4:15p | 7:40p | 10:50p', 'format': 'Standard', 'synopsis': 'Security guard David Dunn uses his supernatural abilities to track Kevin Wendell Crumb, a disturbed man who has twenty-four personalities.', 'date': '2019-01-23', 'city': 'Gainesville, FL'}, {'addy': '3702 Newberry Road, Gainesville, FL 32607', 'theater': 'Regal Royal Park Stadium 16', 'title': 'A Star Is Born (2018)', 'mpaa': 'R', 'stars': '4.5', 'times': '6:00p | 9:05p', 'format': 'Standard', 'synopsis': 'In this new take on the tragic love story, Bradley Cooper plays seasoned musician Jackson Maine, who discovers—and falls in love with—struggling artist Ally (Gaga). She has just about given up on her dream to make it big as a singer… until Jack coaxes her into the spotlight. But even as Ally’s career takes off, the personal side of their relationship is breaking down, as Jack fights an ongoing battle with his own internal demons.', 'date': '2019-01-23', 'city': 'Gainesville, FL'}, {'addy': '2021 Silver Springs Blvd, Ocala, FL 34471', 'theater': 'Ocala Center 6', 'title': 'The Upside', 'mpaa': 'PG-13', 'stars': '4.5', 'times': '1:00p | 4:00p | 7:00p', 'format': 'Standard', 'synopsis': \"Phillip is a wealthy quadriplegic who needs a caretaker to help him with his day-to-day routine in his New York penthouse. He decides to hire Dell, a struggling parolee who's trying to reconnect with his ex and his young son. Despite coming from two different worlds, an unlikely friendship starts to blossom as Dell and Phillip rediscover the joy of living life to the fullest.\", 'date': '2019-01-23', 'city': 'Ocala, FL'}]\n"
     ]
    }
   ],
   "source": [
    "print(listings)"
   ]
  },
  {
   "cell_type": "code",
   "execution_count": null,
   "metadata": {},
   "outputs": [],
   "source": [
    "# Finds next dictionary in list where a key is matched with a particular value\n",
    "next(item for item in listings if item['stars'] == '4.5')\n"
   ]
  },
  {
   "cell_type": "code",
   "execution_count": null,
   "metadata": {},
   "outputs": [],
   "source": [
    "# Function to find a dictionary listing with a particular key:value; similar to above\n",
    "def search(list, key, value):\n",
    "    for item in list:\n",
    "        if item[key] == value:\n",
    "            return item\n",
    "        \n",
    "search(listings, 'mpaa', 'R')\n",
    "       \n"
   ]
  },
  {
   "cell_type": "code",
   "execution_count": null,
   "metadata": {},
   "outputs": [],
   "source": [
    "# Effort to join showtimes if theater == one above. Not working\n",
    "listings = []\n",
    "scrape_file = '2781_Fandango_data_Movie_full.csv'\n",
    "with open(scrape_file, 'r') as f:\n",
    "    reader = csv.reader(f)\n",
    "    for row in reader:\n",
    "        layout_dct = {'addy': row[0], 'theater': row[1], 'title': row[2], 'mpaa': row[3], 'stars': row[4], 'times': row[5], 'format': row[6], 'synopsis': row[7], 'date': row[8], 'city': row[9]}\n",
    "        if row[1] == row[1]:\n",
    "            for 'times', row[5] in listings:\n",
    "                listings.append('times', row[5])\n",
    "        listings.append(layout_dct)\n",
    "        \n",
    "del listings[0] #remove header row"
   ]
  },
  {
   "cell_type": "code",
   "execution_count": null,
   "metadata": {},
   "outputs": [],
   "source": [
    "# This uses defaultdict to join items in a tuple as a list\n",
    "s = [('regal', (1, 2)), ('amc', (3, 5)), ('regal', (2, 4)), ('amc', (7, 9))]\n",
    "d = defaultdict(list)\n",
    "for k, v in s:\n",
    "    if k == k:\n",
    "        d[k].append(v)\n",
    "    \n",
    "sorted(d.items())"
   ]
  },
  {
   "cell_type": "code",
   "execution_count": null,
   "metadata": {},
   "outputs": [],
   "source": [
    "\n"
   ]
  },
  {
   "cell_type": "code",
   "execution_count": null,
   "metadata": {},
   "outputs": [],
   "source": [
    "# Creates a list of class objects for each row in the csv\n",
    "# Not working yet.\n",
    "# Try \"if 'title' already exists, append a dict for cinema: times, or object with same?\n",
    "\n",
    "class_list = []\n",
    "\n",
    "with open('2781_Fandango_data_Movie_sample_data.csv', 'r') as f:\n",
    "    reader = csv.reader(f)\n",
    "    for row in reader:\n",
    "        class_list.append(Movie(row[0], row[1]))"
   ]
  },
  {
   "cell_type": "code",
   "execution_count": null,
   "metadata": {},
   "outputs": [],
   "source": []
  },
  {
   "cell_type": "code",
   "execution_count": null,
   "metadata": {},
   "outputs": [],
   "source": [
    "# Creates a dictionary with name of the film as key, and value is a list of all info\n",
    "# Starts with second row to skip header row\n",
    "data = {}\n",
    "with open(filename, newline='') as csvfile:\n",
    "    reader = csv.reader(csvfile, delimiter=',')\n",
    "    headers = next(reader)\n",
    "    for row in reader:\n",
    "        data[row[2]]=row[1:]\n",
    "        \n",
    "print(data)\n",
    "        "
   ]
  },
  {
   "cell_type": "code",
   "execution_count": null,
   "metadata": {},
   "outputs": [],
   "source": []
  },
  {
   "cell_type": "code",
   "execution_count": null,
   "metadata": {},
   "outputs": [],
   "source": [
    "# structure and format for Friday listings\n",
    "# create a class for Friday movie\n",
    "class Movie:\n",
    "    \n",
    "    def __init__(self, title, stars, mpaa, runtime, genre, about):\n",
    "        self.title = title\n",
    "        self.stars = stars\n",
    "        self.mpaa = mpaa\n",
    "        self.runtime = runtime\n",
    "        self.genre = genre\n",
    "        self.about = about\n",
    "        \n",
    "    def LifeTag(self):\n",
    "        return self.title + \" (\" + self.mpaa + \") \"\n",
    "    \n",
    "    def SceneTag(self):\n",
    "        return \"\\\"\\\"\" + self.title + \"\\\"\\\"\\n\" + self.stars + \"\\n\" + self.mpaa + \": \" + self.about \n",
    "        \n",
    "class Screening(Movie):\n",
    "    \n",
    "    def __init__(self, title, cinema, showdate, showtime):\n",
    "        Movie.__init__(self, title)\n",
    "        Movie.__init__(self, mpaa)\n",
    "        self.cinema = cinema\n",
    "        self.showdate1 = showdate\n",
    "        self.showtime = showtime\n",
    "        \n",
    "    "
   ]
  },
  {
   "cell_type": "code",
   "execution_count": null,
   "metadata": {},
   "outputs": [],
   "source": [
    "Creed = Movie(\"Creed II\", \"3 1/2\", \"PG-13\", \"180 minutes\", \"Sports\", \"This sequel ...\")\n",
    "Ralph = Movie(\"Ralph Breaks the Internet\", \"\", \"PG\", \"60 minutes\", \"Animation\", \"Six years after ...\")"
   ]
  },
  {
   "cell_type": "code",
   "execution_count": null,
   "metadata": {},
   "outputs": [],
   "source": [
    "# )ne approach might be to create a class for a listing\n",
    "# that has subclasses for movies and theaters\n",
    "\n",
    "class Listing:\n",
    "    \n",
    "    '''Class for a movie listing that outputs the fully\n",
    "    formatted listing for publication.'''\n",
    "    \n",
    "    def __init__(self):\n",
    "        self.what = 'what should go here?'\n",
    "        \n",
    "    class Movie:\n",
    "        def __init__(self, title, stars, mpaa, runtime, genre, about):\n",
    "            self.title = title\n",
    "            self.stars = stars\n",
    "            self.mpaa = mpaa\n",
    "            self.runtime = runtime\n",
    "            self.genre = genre\n",
    "            self.about = about\n",
    "                return 'narrative common to'\n"
   ]
  },
  {
   "cell_type": "code",
   "execution_count": null,
   "metadata": {},
   "outputs": [],
   "source": [
    "class Cinema:\n",
    "\n",
    "    '''Class for area movie theatre'''\n",
    "    \n",
    "    def __init__(self, theater, addy, market, showtimes):\n",
    "        self.theater = theater\n",
    "        self.addy = addy\n",
    "        self.market = market\n",
    "        self.showtimes = showtimes\n",
    "            "
   ]
  },
  {
   "cell_type": "code",
   "execution_count": null,
   "metadata": {},
   "outputs": [],
   "source": [
    "regal8 = Cinema('Regal 8', '234 Main St.', 'Ocala', '1p, 2p, 3p')\n",
    "amc12 = Cinema('AMC 8', '123 First Ave.', 'Ocala', '3p, 5p, 6p')\n",
    "celeb = Cinema('Celeb', '157 Goose Blvd.', 'Ocala', '7p, 8p, 9p')"
   ]
  },
  {
   "cell_type": "code",
   "execution_count": null,
   "metadata": {},
   "outputs": [],
   "source": [
    "print(regal8.showtimes)"
   ]
  },
  {
   "cell_type": "code",
   "execution_count": null,
   "metadata": {},
   "outputs": [],
   "source": [
    "# structure and format for Saturday listings\n",
    "# create a class for a Saturday movie"
   ]
  },
  {
   "cell_type": "code",
   "execution_count": null,
   "metadata": {},
   "outputs": [],
   "source": [
    "# structure and format for Sunday listings\n",
    "# create a class for a Sunday movie"
   ]
  },
  {
   "cell_type": "code",
   "execution_count": 24,
   "metadata": {},
   "outputs": [
    {
     "name": "stdout",
     "output_type": "stream",
     "text": [
      "-- This parrot wouldn't VOOM if you put four million volts through it. E's bleedin' demised !\n"
     ]
    }
   ],
   "source": [
    "def parrot(voltage, state='a stiff', action='voom'):\n",
    "    print(\"-- This parrot wouldn't\", action, end=' ')\n",
    "    print(\"if you put\", voltage, \"volts through it.\", end=' ')\n",
    "    print(\"E's\", state, \"!\")\n",
    "\n",
    "d = {\"voltage\": \"four million\", \"state\": \"bleedin' demised\", \"action\": \"VOOM\"}\n",
    "parrot(**d)\n"
   ]
  },
  {
   "cell_type": "code",
   "execution_count": 25,
   "metadata": {},
   "outputs": [
    {
     "ename": "NameError",
     "evalue": "name 'defaultdict' is not defined",
     "output_type": "error",
     "traceback": [
      "\u001b[0;31m---------------------------------------------------------------------------\u001b[0m",
      "\u001b[0;31mNameError\u001b[0m                                 Traceback (most recent call last)",
      "\u001b[0;32m<ipython-input-25-b81460b0b2f6>\u001b[0m in \u001b[0;36m<module>\u001b[0;34m\u001b[0m\n\u001b[1;32m      1\u001b[0m \u001b[0;34m\u001b[0m\u001b[0m\n\u001b[1;32m      2\u001b[0m \u001b[0ms\u001b[0m \u001b[0;34m=\u001b[0m \u001b[0;34m[\u001b[0m\u001b[0;34m(\u001b[0m\u001b[0;34m'regal'\u001b[0m\u001b[0;34m,\u001b[0m \u001b[0;34m(\u001b[0m\u001b[0;36m1\u001b[0m\u001b[0;34m,\u001b[0m \u001b[0;36m2\u001b[0m\u001b[0;34m)\u001b[0m\u001b[0;34m)\u001b[0m\u001b[0;34m,\u001b[0m \u001b[0;34m(\u001b[0m\u001b[0;34m'amc'\u001b[0m\u001b[0;34m,\u001b[0m \u001b[0;34m(\u001b[0m\u001b[0;36m3\u001b[0m\u001b[0;34m,\u001b[0m \u001b[0;36m5\u001b[0m\u001b[0;34m)\u001b[0m\u001b[0;34m)\u001b[0m\u001b[0;34m,\u001b[0m \u001b[0;34m(\u001b[0m\u001b[0;34m'regal'\u001b[0m\u001b[0;34m,\u001b[0m \u001b[0;34m(\u001b[0m\u001b[0;36m2\u001b[0m\u001b[0;34m,\u001b[0m \u001b[0;36m4\u001b[0m\u001b[0;34m)\u001b[0m\u001b[0;34m)\u001b[0m\u001b[0;34m,\u001b[0m \u001b[0;34m(\u001b[0m\u001b[0;34m'amc'\u001b[0m\u001b[0;34m,\u001b[0m \u001b[0;34m(\u001b[0m\u001b[0;36m7\u001b[0m\u001b[0;34m,\u001b[0m \u001b[0;36m9\u001b[0m\u001b[0;34m)\u001b[0m\u001b[0;34m)\u001b[0m\u001b[0;34m]\u001b[0m\u001b[0;34m\u001b[0m\u001b[0;34m\u001b[0m\u001b[0m\n\u001b[0;32m----> 3\u001b[0;31m \u001b[0md\u001b[0m \u001b[0;34m=\u001b[0m \u001b[0mdefaultdict\u001b[0m\u001b[0;34m(\u001b[0m\u001b[0mlist\u001b[0m\u001b[0;34m)\u001b[0m\u001b[0;34m\u001b[0m\u001b[0;34m\u001b[0m\u001b[0m\n\u001b[0m\u001b[1;32m      4\u001b[0m \u001b[0;32mfor\u001b[0m \u001b[0mk\u001b[0m\u001b[0;34m,\u001b[0m \u001b[0mv\u001b[0m \u001b[0;32min\u001b[0m \u001b[0ms\u001b[0m\u001b[0;34m:\u001b[0m\u001b[0;34m\u001b[0m\u001b[0;34m\u001b[0m\u001b[0m\n\u001b[1;32m      5\u001b[0m     \u001b[0;32mif\u001b[0m \u001b[0mk\u001b[0m \u001b[0;34m==\u001b[0m \u001b[0mk\u001b[0m\u001b[0;34m:\u001b[0m\u001b[0;34m\u001b[0m\u001b[0;34m\u001b[0m\u001b[0m\n",
      "\u001b[0;31mNameError\u001b[0m: name 'defaultdict' is not defined"
     ]
    }
   ],
   "source": [
    "\n",
    "s = [('regal', (1, 2)), ('amc', (3, 5)), ('regal', (2, 4)), ('amc', (7, 9))]\n",
    "d = defaultdict(list)\n",
    "for k, v in s:\n",
    "    if k == k:\n",
    "        d[k].append(v)\n",
    "    \n",
    "sorted(d.items())"
   ]
  },
  {
   "cell_type": "code",
   "execution_count": null,
   "metadata": {},
   "outputs": [],
   "source": [
    "s = listings\n",
    "d = defaultdict(list)\n",
    "for k,v in s:\n",
    "    d[k].append(v)\n",
    "    \n"
   ]
  },
  {
   "cell_type": "code",
   "execution_count": null,
   "metadata": {},
   "outputs": [],
   "source": [
    "s = [('cane', regal8), ('brian', amc12), ('cane', celeb)]\n",
    "d = defaultdict(set)\n",
    "for k, v in s:\n",
    "    d[k].add(v)\n",
    "    \n",
    "sorted(d.items())"
   ]
  },
  {
   "cell_type": "code",
   "execution_count": null,
   "metadata": {},
   "outputs": [],
   "source": [
    "\"\"\" \n",
    "- read in csv\n",
    "- create dictionaries for each row\n",
    "- in each dictionary, set theater as a key with value as a list of showtimes\n",
    "- or not\n",
    "- group dictionaries into two lists based on cities searched\n",
    "- sort dictionaries based on value for movie title\n",
    "- loop through the dictionaries: if the movie name == the one prior,\n",
    "    append the k:v pair the one prior and delete the current dictionary\n",
    "- defs to write narrative for Scene, Go, Fri Oca, Fri Gnv, Sat Oca, Sat Gnv, Sun Oca, Sun Gnv\n",
    "- maybe have those defs in classes for each?\n",
    "\"\"\""
   ]
  },
  {
   "cell_type": "code",
   "execution_count": null,
   "metadata": {},
   "outputs": [],
   "source": [
    "next(item for item in listings if item['stars'] == '4.5')\n"
   ]
  },
  {
   "cell_type": "code",
   "execution_count": null,
   "metadata": {},
   "outputs": [],
   "source": [
    "# return value in dictionary from list\n",
    "[d['theater'] for d in listings]"
   ]
  },
  {
   "cell_type": "code",
   "execution_count": null,
   "metadata": {},
   "outputs": [],
   "source": [
    "# return a row by index\n",
    "show = listings[0]\n",
    "showdate = datetime.datetime.strptime(show.get('date'), '%Y-%m-%d')\n",
    "print(showdate)"
   ]
  },
  {
   "cell_type": "code",
   "execution_count": null,
   "metadata": {},
   "outputs": [],
   "source": [
    "# workon print narrative for Scene\n",
    "\n",
    "# CONVERTS datetime into AP style text; from Stucka\n",
    "def get_big_timestamp(date_object=None):\n",
    "    if not date_object:\n",
    "        date_object = datetime.datetime.now()\n",
    "    stamp = \"\"\n",
    "    # comment out below if you don't want \"Wednesday\" or similar in your string\n",
    "    #stamp += datetime.datetime.strftime(date_object, \"%A, \")\n",
    "    if date_object.month == 9:\n",
    "        stamp += \"Sept. \" +  datetimedatetime.strftime(date_object, \"%d, %Y\").lstrip(\"0\")\n",
    "    elif date_object.month < 3 or date_object.month > 7:\n",
    "        stamp += datetime.datetime.strftime(date_object, \"%b. \") \\\n",
    "        + datetime.datetime.strftime(date_object, \"%d\").lstrip(\"0\")\n",
    "    else:\n",
    "        stamp += datetime.datetime.strftime(date_object, \"%B \") \\\n",
    "        + datetime.datetime.strftime(date_object, \"%d\").lstrip(\"0\")\n",
    "    # uncomment out below if you want the year\n",
    "    #stamp += datetime.datetime.strftime(date_object, \", %Y\")\n",
    "    # uncomment below if you want the time\n",
    "    # stamp += \", at \"\n",
    "    # stamp += datetime.datetime.strftime(date_object, \"%I:%M %p\").lstrip(\"0\").replace(\"AM\", \"a.m.\").replace(\"PM\", \"p.m.\")\n",
    "    return(stamp)\n",
    "\n"
   ]
  },
  {
   "cell_type": "code",
   "execution_count": null,
   "metadata": {},
   "outputs": [],
   "source": [
    "def scene_pn(id):\n",
    "    showdate = \n"
   ]
  }
 ],
 "metadata": {
  "kernelspec": {
   "display_name": "Python 3",
   "language": "python",
   "name": "python3"
  },
  "language_info": {
   "codemirror_mode": {
    "name": "ipython",
    "version": 3
   },
   "file_extension": ".py",
   "mimetype": "text/x-python",
   "name": "python",
   "nbconvert_exporter": "python",
   "pygments_lexer": "ipython3",
   "version": "3.7.1"
  }
 },
 "nbformat": 4,
 "nbformat_minor": 2
}
