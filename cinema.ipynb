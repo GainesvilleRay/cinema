{
 "cells": [
  {
   "cell_type": "code",
   "execution_count": 1,
   "metadata": {},
   "outputs": [],
   "source": [
    "\"\"\"Code to format info on movies in a csv file for publication.\"\"\"\n",
    "\n",
    "# libraries\n",
    "import csv"
   ]
  },
  {
   "cell_type": "code",
   "execution_count": 2,
   "metadata": {},
   "outputs": [],
   "source": [
    "# read in csv file and prepare for work\n",
    "filename = \"2781_Fandango_data_Movie_sample_data.csv\"\n",
    "fieldnames = ['Location', 'Theatre', 'Movie', 'Movie_Rating', 'Show_Times', 'Movie_Format', 'Synopsis', 'Date', 'Searched_City']\n",
    "#rows = []   "
   ]
  },
  {
   "cell_type": "code",
   "execution_count": 20,
   "metadata": {},
   "outputs": [],
   "source": [
    "# Creats list of dictionaries for each row. This is working.\n",
    "\n",
    "listings = []\n",
    "scrape_file = '2781_Fandango_data_Movie_full.csv'\n",
    "with open(scrape_file, 'r') as f:\n",
    "    reader = csv.reader(f)\n",
    "    for row in reader:\n",
    "        layout_dct = {'addy': row[0], 'theater': row[1], 'title': row[2], 'mpaa': row[3], 'stars': row[4], 'times': row[5], 'format': row[6], 'synopsis': row[7], 'date': row[8], 'city': row[9]}\n",
    "        listings.append(layout_dct)\n",
    "        \n",
    "del listings[0] #remove header row\n",
    "        "
   ]
  },
  {
   "cell_type": "code",
   "execution_count": 37,
   "metadata": {},
   "outputs": [
    {
     "data": {
      "text/plain": [
       "False"
      ]
     },
     "execution_count": 37,
     "metadata": {},
     "output_type": "execute_result"
    }
   ],
   "source": [
    "next((item for item in listings if item['theater'] == 'Ocala Center 6'), True)"
   ]
  },
  {
   "cell_type": "code",
   "execution_count": 39,
   "metadata": {},
   "outputs": [
    {
     "data": {
      "text/plain": [
       "{'addy': '2021 Silver Springs Blvd, Ocala, FL 34471',\n",
       " 'theater': 'Ocala Center 6',\n",
       " 'title': 'Ralph Breaks the Internet',\n",
       " 'mpaa': 'PG',\n",
       " 'stars': '4.5',\n",
       " 'times': '1:00p | 4:00p | 7:00p',\n",
       " 'format': 'Standard',\n",
       " 'synopsis': 'Ralph and Vanellope embark on an adventure inside the internet to find a spare part to fix a video game.',\n",
       " 'date': '2018-11-29',\n",
       " 'city': 'Ocala, FL'}"
      ]
     },
     "execution_count": 39,
     "metadata": {},
     "output_type": "execute_result"
    }
   ],
   "source": [
    "def search(list, key, value):\n",
    "    for item in list:\n",
    "        if item[key] == value:\n",
    "            return item\n",
    "        \n",
    "search(listings, 'theater', 'Ocala Center 6')\n",
    "        \n"
   ]
  },
  {
   "cell_type": "code",
   "execution_count": 28,
   "metadata": {},
   "outputs": [
    {
     "ename": "SyntaxError",
     "evalue": "can't assign to literal (<ipython-input-28-0a9a989b310f>, line 10)",
     "output_type": "error",
     "traceback": [
      "\u001b[0;36m  File \u001b[0;32m\"<ipython-input-28-0a9a989b310f>\"\u001b[0;36m, line \u001b[0;32m10\u001b[0m\n\u001b[0;31m    for 'times', row[5] in listings:\u001b[0m\n\u001b[0m       ^\u001b[0m\n\u001b[0;31mSyntaxError\u001b[0m\u001b[0;31m:\u001b[0m can't assign to literal\n"
     ]
    }
   ],
   "source": [
    "# Creats list of dictionaries for each row. This is working.\n",
    "\n",
    "listings = []\n",
    "scrape_file = '2781_Fandango_data_Movie_full.csv'\n",
    "with open(scrape_file, 'r') as f:\n",
    "    reader = csv.reader(f)\n",
    "    for row in reader:\n",
    "        layout_dct = {'addy': row[0], 'theater': row[1], 'title': row[2], 'mpaa': row[3], 'stars': row[4], 'times': row[5], 'format': row[6], 'synopsis': row[7], 'date': row[8], 'city': row[9]}\n",
    "        if row[1] == row[1]:\n",
    "            for 'times', row[5] in listings:\n",
    "                listings.append('times', row[5])\n",
    "        listings.append(layout_dct)\n",
    "        \n",
    "del listings[0] #remove header row"
   ]
  },
  {
   "cell_type": "code",
   "execution_count": null,
   "metadata": {},
   "outputs": [],
   "source": [
    "from collections import defaultdict\n",
    "\n",
    "s = [('regal', (1, 2)), ('amc', (3, 5)), ('regal', (2, 4)), ('amc', (7, 9))]\n",
    "d = defaultdict(list)\n",
    "for k, v in s:\n",
    "    if k == k:\n",
    "        d[k].append(v)\n",
    "    \n",
    "sorted(d.items())"
   ]
  },
  {
   "cell_type": "code",
   "execution_count": null,
   "metadata": {},
   "outputs": [],
   "source": [
    "from itertools import chain\n",
    "\n"
   ]
  },
  {
   "cell_type": "code",
   "execution_count": null,
   "metadata": {},
   "outputs": [],
   "source": [
    "# Creates a list of class objects for each row in the csv\n",
    "# Not working yet.\n",
    "# Try \"if 'title' already exists, append a dict for cinema: times, or object with same?\n",
    "\n",
    "class_list = []\n",
    "\n",
    "with open('2781_Fandango_data_Movie_sample_data.csv', 'r') as f:\n",
    "    reader = csv.reader(f)\n",
    "    for row in reader:\n",
    "        class_list.append(Movie(row[0], row[1]))"
   ]
  },
  {
   "cell_type": "code",
   "execution_count": null,
   "metadata": {},
   "outputs": [],
   "source": []
  },
  {
   "cell_type": "code",
   "execution_count": null,
   "metadata": {},
   "outputs": [],
   "source": [
    "data = {}\n",
    "\n",
    "with open(filename, newline='') as csvfile:\n",
    "    reader = csv.reader(csvfile, delimiter=',')\n",
    "    headers = next(reader)\n",
    "    for row in reader:\n",
    "        data[row[2]]=row[1:]\n",
    "        \n",
    "print(data)\n",
    "        "
   ]
  },
  {
   "cell_type": "code",
   "execution_count": null,
   "metadata": {},
   "outputs": [],
   "source": []
  },
  {
   "cell_type": "code",
   "execution_count": null,
   "metadata": {},
   "outputs": [],
   "source": [
    "# structure and format for Friday listings\n",
    "# create a class for Friday movie\n",
    "class Movie:\n",
    "    \n",
    "    def __init__(self, title, stars, mpaa, runtime, genre, about):\n",
    "        self.title = title\n",
    "        self.stars = stars\n",
    "        self.mpaa = mpaa\n",
    "        self.runtime = runtime\n",
    "        self.genre = genre\n",
    "        self.about = about\n",
    "        \n",
    "    def LifeTag(self):\n",
    "        return self.title + \" (\" + self.mpaa + \") \"\n",
    "    \n",
    "    def SceneTag(self):\n",
    "        return \"\\\"\\\"\" + self.title + \"\\\"\\\"\\n\" + self.stars + \"\\n\" + self.mpaa + \": \" + self.about \n",
    "        \n",
    "class Screening(Movie):\n",
    "    \n",
    "    def __init__(self, title, cinema, showdate, showtime):\n",
    "        Movie.__init__(self, title)\n",
    "        Movie.__init__(self, mpaa)\n",
    "        self.cinema = cinema\n",
    "        self.showdate1 = showdate\n",
    "        self.showtime = showtime\n",
    "        \n",
    "    "
   ]
  },
  {
   "cell_type": "code",
   "execution_count": null,
   "metadata": {},
   "outputs": [],
   "source": [
    "Creed = Movie(\"Creed II\", \"3 1/2\", \"PG-13\", \"180 minutes\", \"Sports\", \"This sequel ...\")\n",
    "Ralph = Movie(\"Ralph Breaks the Internet\", \"\", \"PG\", \"60 minutes\", \"Animation\", \"Six years after ...\")"
   ]
  },
  {
   "cell_type": "code",
   "execution_count": null,
   "metadata": {},
   "outputs": [],
   "source": [
    "# )ne approach might be to create a class for a listing\n",
    "# that has subclasses for movies and theaters\n",
    "\n",
    "class Listing:\n",
    "    \n",
    "    '''Class for a movie listing that outputs the fully\n",
    "    formatted listing for publication.'''\n",
    "    \n",
    "    def __init__(self):\n",
    "        self.what = 'what should go here?'\n",
    "        \n",
    "    class Movie:\n",
    "        def __init__(self, title, stars, mpaa, runtime, genre, about):\n",
    "            self.title = title\n",
    "            self.stars = stars\n",
    "            self.mpaa = mpaa\n",
    "            self.runtime = runtime\n",
    "            self.genre = genre\n",
    "            self.about = about\n",
    "                return 'narrative common to'\n"
   ]
  },
  {
   "cell_type": "code",
   "execution_count": null,
   "metadata": {},
   "outputs": [],
   "source": [
    "class Cinema:\n",
    "\n",
    "    '''Class for area movie theatre'''\n",
    "    \n",
    "    def __init__(self, theater, addy, market, showtimes):\n",
    "        self.theater = theater\n",
    "        self.addy = addy\n",
    "        self.market = market\n",
    "        self.showtimes = showtimes\n",
    "            "
   ]
  },
  {
   "cell_type": "code",
   "execution_count": null,
   "metadata": {},
   "outputs": [],
   "source": [
    "regal8 = Cinema('Regal 8', '234 Main St.', 'Ocala', '1p, 2p, 3p')\n",
    "amc12 = Cinema('AMC 8', '123 First Ave.', 'Ocala', '3p, 5p, 6p')\n",
    "celeb = Cinema('Celeb', '157 Goose Blvd.', 'Ocala', '7p, 8p, 9p')"
   ]
  },
  {
   "cell_type": "code",
   "execution_count": null,
   "metadata": {},
   "outputs": [],
   "source": [
    "print(regal8.showtimes)"
   ]
  },
  {
   "cell_type": "code",
   "execution_count": null,
   "metadata": {},
   "outputs": [],
   "source": [
    "# structure and format for Saturday listings\n",
    "# create a class for a Saturday movie"
   ]
  },
  {
   "cell_type": "code",
   "execution_count": null,
   "metadata": {},
   "outputs": [],
   "source": [
    "# structure and format for Sunday listings\n",
    "# create a class for a Sunday movie"
   ]
  },
  {
   "cell_type": "code",
   "execution_count": null,
   "metadata": {},
   "outputs": [],
   "source": [
    "def parrot(voltage, state='a stiff', action='voom'):\n",
    "    print(\"-- This parrot wouldn't\", action, end=' ')\n",
    "    print(\"if you put\", voltage, \"volts through it.\", end=' ')\n",
    "    print(\"E's\", state, \"!\")\n",
    "\n",
    "d = {\"voltage\": \"four million\", \"state\": \"bleedin' demised\", \"action\": \"VOOM\"}\n",
    "parrot(**d)\n"
   ]
  },
  {
   "cell_type": "code",
   "execution_count": 10,
   "metadata": {},
   "outputs": [
    {
     "data": {
      "text/plain": [
       "[('amc', [(3, 5), (7, 9)]), ('regal', [(1, 2), (2, 4)])]"
      ]
     },
     "execution_count": 10,
     "metadata": {},
     "output_type": "execute_result"
    }
   ],
   "source": [
    "from collections import defaultdict\n",
    "\n",
    "s = [('regal', (1, 2)), ('amc', (3, 5)), ('regal', (2, 4)), ('amc', (7, 9))]\n",
    "d = defaultdict(list)\n",
    "for k, v in s:\n",
    "    if k == k:\n",
    "        d[k].append(v)\n",
    "    \n",
    "sorted(d.items())"
   ]
  },
  {
   "cell_type": "code",
   "execution_count": 12,
   "metadata": {},
   "outputs": [
    {
     "ename": "ValueError",
     "evalue": "too many values to unpack (expected 2)",
     "output_type": "error",
     "traceback": [
      "\u001b[0;31m---------------------------------------------------------------------------\u001b[0m",
      "\u001b[0;31mValueError\u001b[0m                                Traceback (most recent call last)",
      "\u001b[0;32m<ipython-input-12-ee499daa0478>\u001b[0m in \u001b[0;36m<module>\u001b[0;34m\u001b[0m\n\u001b[1;32m      1\u001b[0m \u001b[0ms\u001b[0m \u001b[0;34m=\u001b[0m \u001b[0mlistings\u001b[0m\u001b[0;34m\u001b[0m\u001b[0m\n\u001b[1;32m      2\u001b[0m \u001b[0md\u001b[0m \u001b[0;34m=\u001b[0m \u001b[0mdefaultdict\u001b[0m\u001b[0;34m(\u001b[0m\u001b[0mlist\u001b[0m\u001b[0;34m)\u001b[0m\u001b[0;34m\u001b[0m\u001b[0m\n\u001b[0;32m----> 3\u001b[0;31m \u001b[0;32mfor\u001b[0m \u001b[0mk\u001b[0m\u001b[0;34m,\u001b[0m\u001b[0mv\u001b[0m \u001b[0;32min\u001b[0m \u001b[0ms\u001b[0m\u001b[0;34m:\u001b[0m\u001b[0;34m\u001b[0m\u001b[0m\n\u001b[0m\u001b[1;32m      4\u001b[0m     \u001b[0md\u001b[0m\u001b[0;34m[\u001b[0m\u001b[0mk\u001b[0m\u001b[0;34m]\u001b[0m\u001b[0;34m.\u001b[0m\u001b[0mappend\u001b[0m\u001b[0;34m(\u001b[0m\u001b[0mv\u001b[0m\u001b[0;34m)\u001b[0m\u001b[0;34m\u001b[0m\u001b[0m\n\u001b[1;32m      5\u001b[0m \u001b[0;34m\u001b[0m\u001b[0m\n",
      "\u001b[0;31mValueError\u001b[0m: too many values to unpack (expected 2)"
     ]
    }
   ],
   "source": [
    "s = listings\n",
    "d = defaultdict(list)\n",
    "for k,v in s:\n",
    "    d[k].append(v)\n",
    "    \n"
   ]
  },
  {
   "cell_type": "code",
   "execution_count": null,
   "metadata": {},
   "outputs": [],
   "source": [
    "s = [('cane', regal8), ('brian', amc12), ('cane', celeb)]\n",
    "d = defaultdict(set)\n",
    "for k, v in s:\n",
    "    d[k].add(v)\n",
    "    \n",
    "sorted(d.items())"
   ]
  },
  {
   "cell_type": "code",
   "execution_count": null,
   "metadata": {},
   "outputs": [],
   "source": [
    "\"\"\" \n",
    "- read in csv\n",
    "- create dictionaries for each row\n",
    "- in each dictionary, set theater as a key with value as a list of showtimes\n",
    "- or not\n",
    "- group dictionaries into two lists based on cities searched\n",
    "- sort dictionaries based on value for movie title\n",
    "- loop through the dictionaries: if the movie name == the one prior,\n",
    "    append the k:v pair the one prior and delete the current dictionary\n",
    "- defs to write narrative for Scene, Go, Fri Oca, Fri Gnv, Sat Oca, Sat Gnv, Sun Oca, Sun Gnv\n",
    "- maybe have those defs in classes for each?\n",
    "\"\"\""
   ]
  }
 ],
 "metadata": {
  "kernelspec": {
   "display_name": "Python 3",
   "language": "python",
   "name": "python3"
  },
  "language_info": {
   "codemirror_mode": {
    "name": "ipython",
    "version": 3
   },
   "file_extension": ".py",
   "mimetype": "text/x-python",
   "name": "python",
   "nbconvert_exporter": "python",
   "pygments_lexer": "ipython3",
   "version": "3.6.0"
  }
 },
 "nbformat": 4,
 "nbformat_minor": 2
}
