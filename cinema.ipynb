{
 "cells": [
  {
   "cell_type": "code",
   "execution_count": 1,
   "metadata": {},
   "outputs": [],
   "source": [
    "\"\"\"Code to format info on movies in a csv file for publication.\"\"\"\n",
    "\n",
    "# libraries\n",
    "#from collections import defaultdict\n",
    "import csv\n",
    "import datetime\n",
    "from datetime import date\n",
    "import glob\n",
    "#from itertools import chain\n",
    "import os.path, time\n",
    "import shutil\n",
    "from tempfile import NamedTemporaryFile\n"
   ]
  },
  {
   "cell_type": "code",
   "execution_count": 2,
   "metadata": {},
   "outputs": [],
   "source": [
    "# Find newest csv file in the directory and use it.\n",
    "directory = '/Users/Doug/workspace/cinema/*.csv'\n",
    "list_of_files = glob.glob(directory)\n",
    "latest_file = max(list_of_files, key=os.path.getctime)\n",
    "newfile = latest_file.split('cinema/')[-1]"
   ]
  },
  {
   "cell_type": "code",
   "execution_count": 16,
   "metadata": {},
   "outputs": [],
   "source": [
    "# Edit problems in the newfile\n",
    "with open(newfile) as csv_file:\n",
    "    reader = csv.reader(csv_file, delimiter= ',', quotechar='\"')\n",
    "    \n",
    "    for row in reader:\n",
    "        row[0] = row[0].split(', FL')[0]\n",
    "        row[5] = row[5].replace('p | ', ' p.m., ')\n",
    "        row[5] = row[5].replace('a | ', ' a.m., ')\n",
    "        row[5] = row[5].replace('0p', '0 p.m.')\n",
    "        row[5] = row[5].replace('5p', '5 p.m.')\n",
    "        row[5] = row[5].replace(':00', '')\n",
    "        row[5] = row[5].replace(' p.m.,', ',')\n",
    "    \n",
    "ocala_market = ['Ocala, FL', 'Belleview, FL', 'The Villages, FL']\n",
    "gnv_market = ['Gainesville FL', 'High Springs, FL', 'Starke, FL']\n",
    "\n",
    "amc_lake = 'AmC Lake Square 12'\n",
    "barnstorm = 'Barnstorm Theater'\n",
    "celebration10 = 'Celebration Point 10'\n",
    "fla_twin = 'Florida Twin'\n",
    "hipp = 'Hippodrome State Theatre'\n",
    "marion_th = 'Marion Theatre'\n",
    "ocala6 = 'Ocala Center 6'\n",
    "old_mill = 'Old Mill Playhouse'\n",
    "butler = 'Regal Butler Town Center 14'\n",
    "imax_ocala = 'Regal Hollywood Stadium 16 & IMAX - Ocala'\n",
    "regal_royal = 'Regal Royal Park Stadium 16'\n",
    "reitz = 'Reitz Union Cinema - U of Fl'\n",
    "rialto = 'Rialto Theatre Spanish Springs Town Square'"
   ]
  },
  {
   "cell_type": "code",
   "execution_count": null,
   "metadata": {},
   "outputs": [],
   "source": [
    "def ocaladaily_pn():\n",
    "    \n",
    "    with open(newfile) as csv_file:\n",
    "        csv_reader = csv.reader(csv_file, delimiter=',')\n",
    "        headers = next(csv_reader)\n",
    "        for row in csv_reader:\n",
    "            if row[9] in gnv_market:\n",
    "                movie_stuff = f\"\\\"{row[2]}\\\", {row[3]}, {row[4]}, {row[6]}, {row[7]}\"\n",
    "                theater_stuff = f'{row[1]}, {row[0]}, {row[5]}'\n",
    "                listing = movie_stuff + theater_stuff\n",
    "                listings.append(listing)\n",
    "    return listings\n",
    "            \n",
    "scene_pn()\n",
    "\n"
   ]
  },
  {
   "cell_type": "code",
   "execution_count": null,
   "metadata": {},
   "outputs": [],
   "source": [
    "def go_pn():\n",
    "    listing = []\n",
    "    listings = []\n",
    "    f=open('golistings.txt', 'a')\n",
    "    f.write('MOVIE TIMES' + '\\n\\n')\n",
    "    ocala_market = ['Ocala, FL', 'Belleview, FL', 'The Villages, FL']\n",
    "    gnv_market = ['Gainesville FL', 'High Springs, FL', 'Starke, FL']\n",
    "    belleview = 'Belleview, FL'\n",
    "    hipp = 'Hippodrome State Theatre'\n",
    "    ocala = 'Ocala, FL'\n",
    "    \n",
    "    with open('2781_Fandango_data_Movie_full.csv') as csv_file:\n",
    "        csv_reader = csv.reader(csv_file, delimiter=',')\n",
    "        headers = next(csv_reader)\n",
    "        for row in csv_reader:\n",
    "            if row[9] in ocala_market:\n",
    "                row[0] = row[0].split(', FL')[0]\n",
    "                row[5] = row[5].replace('p | ', ' p.m., ')\n",
    "                row[5] = row[5].replace('a | ', ' a.m., ')\n",
    "                row[5] = row[5].replace('0p', '0 p.m.')\n",
    "                row[5] = row[5].replace('5p', '5 p.m.')\n",
    "                row[5] = row[5].replace(':00', '')\n",
    "                movie_stuff = f\"\\\"{row[2]}\\\", {row[3]}, {row[4]}, {row[6]}, {row[7]}\"\n",
    "                theater_stuff = f'{row[1]}, {row[0]}, {row[5]}'\n",
    "                listing = movie_stuff + theater_stuff\n",
    "                listings.append(listing)\n",
    "                \n",
    "                f.write(movie_stuff + )\n",
    "    return listings\n",
    "            \n",
    "go_pn()"
   ]
  },
  {
   "cell_type": "code",
   "execution_count": null,
   "metadata": {},
   "outputs": [],
   "source": [
    "def daily_pn():\n",
    "    listing = []\n",
    "    listings = []\n",
    "    ocala_market = ['Ocala, FL', 'Belleview, FL', 'The Villages, FL']\n",
    "    gnv_market = ['Gainesville FL', 'High Springs, FL', 'Starke, FL']\n",
    "    with open('2781_Fandango_data_Movie_full.csv') as csv_file:\n",
    "        csv_reader = csv.reader(csv_file, delimiter=',')\n",
    "        headers = next(csv_reader)\n",
    "        for row in csv_reader:\n",
    "            if row[9] in ocala_market:\n",
    "                row[0] = row[0].split(', FL')[0]\n",
    "                row[5] = row[5].replace('p | ', ' p.m., ')\n",
    "                row[5] = row[5].replace('a | ', ' a.m., ')\n",
    "                row[5] = row[5].replace('0p', '0 p.m.')\n",
    "                row[5] = row[5].replace('5p', '5 p.m.')\n",
    "                row[5] = row[5].replace(':00', '')\n",
    "                movie_stuff = f\"\\\"{row[2]}\\\", {row[3]}, {row[4]}, {row[6]}\"\n",
    "                theater_stuff = f'{row[1]}, {row[0]}, {row[5]}'\n",
    "                listing = movie_stuff + theater_stuff\n",
    "                listings.append(listing)\n",
    "    return listings\n",
    "            \n",
    "daily_pn()"
   ]
  },
  {
   "cell_type": "code",
   "execution_count": null,
   "metadata": {},
   "outputs": [],
   "source": [
    "# read in csv file and prepare for work\n",
    "filename = \"2781_Fandango_data_Movie_sample_data.csv\"\n",
    "fieldnames = ['Location', 'Theatre', 'Movie', 'Movie_Rating', 'Show_Times', 'Movie_Format', 'Synopsis', 'Date', 'Searched_City']\n",
    "#rows = []   "
   ]
  },
  {
   "cell_type": "code",
   "execution_count": null,
   "metadata": {},
   "outputs": [],
   "source": [
    "# Creates list of dictionaries for each row, assigns field name for key in all pairs. This is working.\n",
    "listings = []\n",
    "scrape_file = '2781_Fandango_data_Movie_full.csv'\n",
    "with open(scrape_file, 'r') as f:\n",
    "    reader = csv.reader(f)\n",
    "    for row in reader:\n",
    "        layout_dct = {'addy': row[0], 'theater': row[1], 'title': row[2], 'mpaa': row[3], 'stars': row[4], 'times': row[5], 'format': row[6], 'synopsis': row[7], 'date': row[8], 'city': row[9]}\n",
    "        listings.append(layout_dct)\n",
    "    \n",
    "del listings[0] #remove header row\n",
    "        "
   ]
  },
  {
   "cell_type": "code",
   "execution_count": null,
   "metadata": {},
   "outputs": [],
   "source": [
    "print(listings)"
   ]
  },
  {
   "cell_type": "code",
   "execution_count": null,
   "metadata": {},
   "outputs": [],
   "source": [
    "# Finds next dictionary in list where a key is matched with a particular value\n",
    "next(item for item in listings if item['stars'] == '4.5')\n"
   ]
  },
  {
   "cell_type": "code",
   "execution_count": null,
   "metadata": {},
   "outputs": [],
   "source": [
    "# Function to find a dictionary listing with a particular key:value; similar to above\n",
    "def search(list, key, value):\n",
    "    for item in list:\n",
    "        if item[key] == value:\n",
    "            return item\n",
    "        \n",
    "search(listings, 'mpaa', 'R')\n",
    "       \n"
   ]
  },
  {
   "cell_type": "code",
   "execution_count": null,
   "metadata": {},
   "outputs": [],
   "source": [
    "# Effort to join showtimes if theater == one above. Not working\n",
    "listings = []\n",
    "scrape_file = '2781_Fandango_data_Movie_full.csv'\n",
    "with open(scrape_file, 'r') as f:\n",
    "    reader = csv.reader(f)\n",
    "    for row in reader:\n",
    "        layout_dct = {'addy': row[0], 'theater': row[1], 'title': row[2], 'mpaa': row[3], 'stars': row[4], 'times': row[5], 'format': row[6], 'synopsis': row[7], 'date': row[8], 'city': row[9]}\n",
    "        if row[1] == row[1]:\n",
    "            for 'times', row[5] in listings:\n",
    "                listings.append('times', row[5])\n",
    "        listings.append(layout_dct)\n",
    "        \n",
    "del listings[0] #remove header row"
   ]
  },
  {
   "cell_type": "code",
   "execution_count": null,
   "metadata": {},
   "outputs": [],
   "source": [
    "# This uses defaultdict to join items in a tuple as a list\n",
    "s = [('regal', (1, 2)), ('amc', (3, 5)), ('regal', (2, 4)), ('amc', (7, 9))]\n",
    "d = defaultdict(list)\n",
    "for k, v in s:\n",
    "    if k == k:\n",
    "        d[k].append(v)\n",
    "    \n",
    "sorted(d.items())"
   ]
  },
  {
   "cell_type": "code",
   "execution_count": null,
   "metadata": {},
   "outputs": [],
   "source": [
    "\n"
   ]
  },
  {
   "cell_type": "code",
   "execution_count": null,
   "metadata": {},
   "outputs": [],
   "source": [
    "# Creates a list of class objects for each row in the csv\n",
    "# Not working yet.\n",
    "# Try \"if 'title' already exists, append a dict for cinema: times, or object with same?\n",
    "\n",
    "class_list = []\n",
    "\n",
    "with open('2781_Fandango_data_Movie_sample_data.csv', 'r') as f:\n",
    "    reader = csv.reader(f)\n",
    "    for row in reader:\n",
    "        class_list.append(Movie(row[0], row[1]))"
   ]
  },
  {
   "cell_type": "code",
   "execution_count": null,
   "metadata": {},
   "outputs": [],
   "source": []
  },
  {
   "cell_type": "code",
   "execution_count": null,
   "metadata": {},
   "outputs": [],
   "source": [
    "# Creates a dictionary with name of the film as key, and value is a list of all info\n",
    "# Starts with second row to skip header row\n",
    "data = {}\n",
    "with open(filename, newline='') as csvfile:\n",
    "    reader = csv.reader(csvfile, delimiter=',')\n",
    "    headers = next(reader)\n",
    "    for row in reader:\n",
    "        data[row[2]]=row[1:]\n",
    "        \n",
    "print(data)\n",
    "        "
   ]
  },
  {
   "cell_type": "code",
   "execution_count": null,
   "metadata": {},
   "outputs": [],
   "source": []
  },
  {
   "cell_type": "code",
   "execution_count": null,
   "metadata": {},
   "outputs": [],
   "source": [
    "# structure and format for Friday listings\n",
    "# create a class for Friday movie\n",
    "class Movie:\n",
    "    \n",
    "    def __init__(self, title, stars, mpaa, runtime, genre, about):\n",
    "        self.title = title\n",
    "        self.stars = stars\n",
    "        self.mpaa = mpaa\n",
    "        self.runtime = runtime\n",
    "        self.genre = genre\n",
    "        self.about = about\n",
    "        \n",
    "    def LifeTag(self):\n",
    "        return self.title + \" (\" + self.mpaa + \") \"\n",
    "    \n",
    "    def SceneTag(self):\n",
    "        return \"\\\"\\\"\" + self.title + \"\\\"\\\"\\n\" + self.stars + \"\\n\" + self.mpaa + \": \" + self.about \n",
    "        \n",
    "class Screening(Movie):\n",
    "    \n",
    "    def __init__(self, title, cinema, showdate, showtime):\n",
    "        Movie.__init__(self, title)\n",
    "        Movie.__init__(self, mpaa)\n",
    "        self.cinema = cinema\n",
    "        self.showdate1 = showdate\n",
    "        self.showtime = showtime\n",
    "        \n",
    "    "
   ]
  },
  {
   "cell_type": "code",
   "execution_count": null,
   "metadata": {},
   "outputs": [],
   "source": [
    "Creed = Movie(\"Creed II\", \"3 1/2\", \"PG-13\", \"180 minutes\", \"Sports\", \"This sequel ...\")\n",
    "Ralph = Movie(\"Ralph Breaks the Internet\", \"\", \"PG\", \"60 minutes\", \"Animation\", \"Six years after ...\")"
   ]
  },
  {
   "cell_type": "code",
   "execution_count": null,
   "metadata": {},
   "outputs": [],
   "source": [
    "# )ne approach might be to create a class for a listing\n",
    "# that has subclasses for movies and theaters\n",
    "\n",
    "class Listing:\n",
    "    \n",
    "    '''Class for a movie listing that outputs the fully\n",
    "    formatted listing for publication.'''\n",
    "    \n",
    "    def __init__(self):\n",
    "        self.what = 'what should go here?'\n",
    "        \n",
    "    class Movie:\n",
    "        def __init__(self, title, stars, mpaa, runtime, genre, about):\n",
    "            self.title = title\n",
    "            self.stars = stars\n",
    "            self.mpaa = mpaa\n",
    "            self.runtime = runtime\n",
    "            self.genre = genre\n",
    "            self.about = about\n",
    "                return 'narrative common to'\n"
   ]
  },
  {
   "cell_type": "code",
   "execution_count": null,
   "metadata": {},
   "outputs": [],
   "source": [
    "class Cinema:\n",
    "\n",
    "    '''Class for area movie theatre'''\n",
    "    \n",
    "    def __init__(self, theater, addy, market, showtimes):\n",
    "        self.theater = theater\n",
    "        self.addy = addy\n",
    "        self.market = market\n",
    "        self.showtimes = showtimes\n",
    "            "
   ]
  },
  {
   "cell_type": "code",
   "execution_count": null,
   "metadata": {},
   "outputs": [],
   "source": [
    "regal8 = Cinema('Regal 8', '234 Main St.', 'Ocala', '1p, 2p, 3p')\n",
    "amc12 = Cinema('AMC 8', '123 First Ave.', 'Ocala', '3p, 5p, 6p')\n",
    "celeb = Cinema('Celeb', '157 Goose Blvd.', 'Ocala', '7p, 8p, 9p')"
   ]
  },
  {
   "cell_type": "code",
   "execution_count": null,
   "metadata": {},
   "outputs": [],
   "source": [
    "print(regal8.showtimes)"
   ]
  },
  {
   "cell_type": "code",
   "execution_count": null,
   "metadata": {},
   "outputs": [],
   "source": [
    "# structure and format for Saturday listings\n",
    "# create a class for a Saturday movie"
   ]
  },
  {
   "cell_type": "code",
   "execution_count": null,
   "metadata": {},
   "outputs": [],
   "source": [
    "# structure and format for Sunday listings\n",
    "# create a class for a Sunday movie"
   ]
  },
  {
   "cell_type": "code",
   "execution_count": null,
   "metadata": {},
   "outputs": [],
   "source": [
    "def parrot(voltage, state='a stiff', action='voom'):\n",
    "    print(\"-- This parrot wouldn't\", action, end=' ')\n",
    "    print(\"if you put\", voltage, \"volts through it.\", end=' ')\n",
    "    print(\"E's\", state, \"!\")\n",
    "\n",
    "d = {\"voltage\": \"four million\", \"state\": \"bleedin' demised\", \"action\": \"VOOM\"}\n",
    "parrot(**d)\n"
   ]
  },
  {
   "cell_type": "code",
   "execution_count": null,
   "metadata": {},
   "outputs": [],
   "source": [
    "\n",
    "s = [('regal', (1, 2)), ('amc', (3, 5)), ('regal', (2, 4)), ('amc', (7, 9))]\n",
    "d = defaultdict(list)\n",
    "for k, v in s:\n",
    "    if k == k:\n",
    "        d[k].append(v)\n",
    "    \n",
    "sorted(d.items())"
   ]
  },
  {
   "cell_type": "code",
   "execution_count": null,
   "metadata": {},
   "outputs": [],
   "source": [
    "s = listings\n",
    "d = defaultdict(list)\n",
    "for k,v in s:\n",
    "    d[k].append(v)\n",
    "    \n"
   ]
  },
  {
   "cell_type": "code",
   "execution_count": null,
   "metadata": {},
   "outputs": [],
   "source": [
    "s = [('cane', regal8), ('brian', amc12), ('cane', celeb)]\n",
    "d = defaultdict(set)\n",
    "for k, v in s:\n",
    "    d[k].add(v)\n",
    "    \n",
    "sorted(d.items())"
   ]
  },
  {
   "cell_type": "code",
   "execution_count": null,
   "metadata": {},
   "outputs": [],
   "source": [
    "\"\"\" \n",
    "- read in csv\n",
    "- create dictionaries for each row\n",
    "- in each dictionary, set theater as a key with value as a list of showtimes\n",
    "- or not\n",
    "- group dictionaries into two lists based on cities searched\n",
    "- sort dictionaries based on value for movie title\n",
    "- loop through the dictionaries: if the movie name == the one prior,\n",
    "    append the k:v pair the one prior and delete the current dictionary\n",
    "- defs to write narrative for Scene, Go, Fri Oca, Fri Gnv, Sat Oca, Sat Gnv, Sun Oca, Sun Gnv\n",
    "- maybe have those defs in classes for each?\n",
    "\"\"\""
   ]
  },
  {
   "cell_type": "code",
   "execution_count": null,
   "metadata": {},
   "outputs": [],
   "source": [
    "next(item for item in listings if item['stars'] == '4.5')\n"
   ]
  },
  {
   "cell_type": "code",
   "execution_count": null,
   "metadata": {},
   "outputs": [],
   "source": [
    "# return value in dictionary from list\n",
    "[d['theater'] for d in listings]"
   ]
  },
  {
   "cell_type": "code",
   "execution_count": null,
   "metadata": {},
   "outputs": [],
   "source": [
    "# return a row by index\n",
    "show = listings[0]\n",
    "showdate = datetime.datetime.strptime(show.get('date'), '%Y-%m-%d')\n",
    "print(showdate)"
   ]
  },
  {
   "cell_type": "code",
   "execution_count": null,
   "metadata": {},
   "outputs": [],
   "source": [
    "# workon print narrative for Scene\n",
    "\n",
    "# CONVERTS datetime into AP style text; from Stucka\n",
    "def get_big_timestamp(date_object=None):\n",
    "    if not date_object:\n",
    "        date_object = datetime.datetime.now()\n",
    "    stamp = \"\"\n",
    "    # comment out below if you don't want \"Wednesday\" or similar in your string\n",
    "    #stamp += datetime.datetime.strftime(date_object, \"%A, \")\n",
    "    if date_object.month == 9:\n",
    "        stamp += \"Sept. \" +  datetimedatetime.strftime(date_object, \"%d, %Y\").lstrip(\"0\")\n",
    "    elif date_object.month < 3 or date_object.month > 7:\n",
    "        stamp += datetime.datetime.strftime(date_object, \"%b. \") \\\n",
    "        + datetime.datetime.strftime(date_object, \"%d\").lstrip(\"0\")\n",
    "    else:\n",
    "        stamp += datetime.datetime.strftime(date_object, \"%B \") \\\n",
    "        + datetime.datetime.strftime(date_object, \"%d\").lstrip(\"0\")\n",
    "    # uncomment out below if you want the year\n",
    "    #stamp += datetime.datetime.strftime(date_object, \", %Y\")\n",
    "    # uncomment below if you want the time\n",
    "    # stamp += \", at \"\n",
    "    # stamp += datetime.datetime.strftime(date_object, \"%I:%M %p\").lstrip(\"0\").replace(\"AM\", \"a.m.\").replace(\"PM\", \"p.m.\")\n",
    "    return(stamp)\n",
    "\n"
   ]
  },
  {
   "cell_type": "code",
   "execution_count": null,
   "metadata": {},
   "outputs": [],
   "source": [
    "def scene_pn(id):\n",
    "    showdate = \n"
   ]
  }
 ],
 "metadata": {
  "kernelspec": {
   "display_name": "Python 3",
   "language": "python",
   "name": "python3"
  },
  "language_info": {
   "codemirror_mode": {
    "name": "ipython",
    "version": 3
   },
   "file_extension": ".py",
   "mimetype": "text/x-python",
   "name": "python",
   "nbconvert_exporter": "python",
   "pygments_lexer": "ipython3",
   "version": "3.6.0"
  }
 },
 "nbformat": 4,
 "nbformat_minor": 2
}
