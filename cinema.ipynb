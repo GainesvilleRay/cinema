{
 "cells": [
  {
   "cell_type": "code",
   "execution_count": 1,
   "metadata": {},
   "outputs": [],
   "source": [
    "\"\"\"Code to format info on movies in a csv file for publication.\"\"\"\n",
    "\n",
    "# libraries\n",
    "#from collections import defaultdict\n",
    "import csv\n",
    "import datetime\n",
    "from datetime import date\n",
    "import glob\n",
    "#from itertools import chain\n",
    "import os.path, time"
   ]
  },
  {
   "cell_type": "code",
   "execution_count": 2,
   "metadata": {},
   "outputs": [],
   "source": [
    "# Find newest csv file in the directory and use it.\n",
    "directory = '/Users/Doug/workspace/cinema/*.csv'\n",
    "list_of_files = glob.glob(directory)\n",
    "latest_file = max(list_of_files, key=os.path.getctime)\n",
    "newfile = latest_file.split('cinema/')[-1]"
   ]
  },
  {
   "cell_type": "code",
   "execution_count": 16,
   "metadata": {},
   "outputs": [
    {
     "name": "stdout",
     "output_type": "stream",
     "text": [
      "\"Dr. Seuss' The Grinch (2018)\", PG, 4.5, Standard, Academy Award® nominee Benedict Cumberbatch lends his voice to the infamous Grinch, who lives a solitary life inside a cave on Mt. Crumpet with only his loyal dog, Max, for company. With a cave rigged with inventions and contraptions for his day-to-day needs, the Grinch only sees his neighbors in Who-ville when he runs out of food. Each year at Christmas they disrupt his tranquil solitude with their increasingly bigger, brighter and louder celebrations. When the Whos declare they are going to make Christmas three times bigger this year, the Grinch realizes there is only one way for him to gain some peace and quiet: he must steal Christmas. To do so, he decides he will pose as Santa Claus on Christmas Eve, even going so far as to trap a lackadaisical misfit reindeer to pull his sleigh.Regal Royal Park Stadium 16, 3702 Newberry Road, Gainesville, 12:05, 2:10, 4:25, 6:50, 9:10 p.m.\n",
      "\"Dr. Seuss' The Grinch (2018)\", PG, 4.5, Standard, Academy Award® nominee Benedict Cumberbatch lends his voice to the infamous Grinch, who lives a solitary life inside a cave on Mt. Crumpet with only his loyal dog, Max, for company. With a cave rigged with inventions and contraptions for his day-to-day needs, the Grinch only sees his neighbors in Who-ville when he runs out of food. Each year at Christmas they disrupt his tranquil solitude with their increasingly bigger, brighter and louder celebrations. When the Whos declare they are going to make Christmas three times bigger this year, the Grinch realizes there is only one way for him to gain some peace and quiet: he must steal Christmas. To do so, he decides he will pose as Santa Claus on Christmas Eve, even going so far as to trap a lackadaisical misfit reindeer to pull his sleigh.Celebration Pointe 10, 4901 SW 31st Place, Gainesville, 1:15, 4:30, 7:10, 9:30 p.m.\n",
      "\"Ralph Breaks the Internet\", PG, 4.5, Standard, Ralph and Vanellope embark on an adventure inside the internet to find a spare part to fix a video game.Florida Twin, 101 W. Call St., Starke, 7:30 p.m.\n",
      "\"The Nutcracker and the Four Realms\", PG, 4, Standard, Young Clara needs a magical, one-of-a-kind key to unlock a box that contains a priceless gift. A golden thread leads her to the coveted key, but it soon disappears into a strange and mysterious parallel world. In that world, she meets a soldier named Phillip, a group of mice and the regents who preside over three realms. Clara and Phillip must now enter a fourth realm to retrieve the key and restore harmony to the unstable land.Regal Butler Town Center 14, 3101 SW 35th Blvd, Gainesville, 12:15, 2:45, 7:45, 10:15 p.m.\n",
      "\"Robin Hood (2018)\", PG-13, 4, Standard, A war-hardened Crusader and his Moorish commander mount an audacious revolt against the corrupt English crown in a thrilling action-adventure packed with gritty battlefield exploits, mind-blowing fight choreography, and a timeless romance.Regal Royal Park Stadium 16, 3702 Newberry Road, Gainesville, 1:40, 4:40, 7:30, 10:25 p.m.\n",
      "\"Fantastic Beasts: The Crimes of Grindelwald\", PG-13, 4.5, Digital 3D, In an effort to thwart Grindelwald's plans of raising pure-blood wizards to rule over all non-magical beings, Albus Dumbledore enlists his former student Newt Scamander, who agrees to help, unaware of the dangers that lie ahead. Lines are drawn as love and loyalty are tested, even among the truest friends and family, in an increasingly divided world.Regal Butler Town Center 14, 3101 SW 35th Blvd, Gainesville, 3:35, 10:15 p.m.\n",
      "\"Dr. Seuss' The Grinch (2018)\", PG, 4.5, Standard, Academy Award® nominee Benedict Cumberbatch lends his voice to the infamous Grinch, who lives a solitary life inside a cave on Mt. Crumpet with only his loyal dog, Max, for company. With a cave rigged with inventions and contraptions for his day-to-day needs, the Grinch only sees his neighbors in Who-ville when he runs out of food. Each year at Christmas they disrupt his tranquil solitude with their increasingly bigger, brighter and louder celebrations. When the Whos declare they are going to make Christmas three times bigger this year, the Grinch realizes there is only one way for him to gain some peace and quiet: he must steal Christmas. To do so, he decides he will pose as Santa Claus on Christmas Eve, even going so far as to trap a lackadaisical misfit reindeer to pull his sleigh.Regal Butler Town Center 14, 3101 SW 35th Blvd, Gainesville, 12:05, 2:30, 4:50, 10:45, 7:15 p.m.\n",
      "\"Bohemian Rhapsody\", PG-13, 5, Standard, Singer Freddie Mercury, guitarist Brian May, drummer Roger Taylor and bass guitarist John Deacon take the music world by storm when they form the rock 'n' roll band Queen in 1970. Surrounded by darker influences, Mercury decides to leave Queen years later to pursue a solo career. Diagnosed with AIDS in the 1980s, the flamboyant frontman reunites with the group for the benefit concert Live Aid -- leading the band in one of the greatest performances in rock history.Regal Royal Park Stadium 16, 3702 Newberry Road, Gainesville, 12:15, 3:20, 6:20, 9:30 p.m.\n",
      "\"Ralph Breaks the Internet\", PG, 4.5, Digital 3D, Ralph and Vanellope embark on an adventure inside the internet to find a spare part to fix a video game.Regal Royal Park Stadium 16, 3702 Newberry Road, Gainesville, 12, 3, 6, 9 p.m.\n",
      "\"Fantastic Beasts: The Crimes of Grindelwald\", PG-13, 4.5, Standard, In an effort to thwart Grindelwald's plans of raising pure-blood wizards to rule over all non-magical beings, Albus Dumbledore enlists his former student Newt Scamander, who agrees to help, unaware of the dangers that lie ahead. Lines are drawn as love and loyalty are tested, even among the truest friends and family, in an increasingly divided world.Florida Twin, 101 W. Call St., Starke, 7:15 p.m.\n",
      "\"Boy Erased\", R, 4, Standard, “Boy Erased” tells the story of Jared (Hedges), the son of a Baptist pastor in a small American town, who is outed to his parents (Kidman and Crowe) at age 19. Jared is faced with an ultimatum: attend a conversion therapy program – or be permanently exiled and shunned by his family, friends, and faith. Boy Erased is the true story of one young man’s struggle to find himself while being forced to question every aspect of his identity.Regal Royal Park Stadium 16, 3702 Newberry Road, Gainesville, 1:10, 4:10, 10:30 p.m.\n",
      "\"Fantastic Beasts: The Crimes of Grindelwald\", PG-13, 4.5, Standard, In an effort to thwart Grindelwald's plans of raising pure-blood wizards to rule over all non-magical beings, Albus Dumbledore enlists his former student Newt Scamander, who agrees to help, unaware of the dangers that lie ahead. Lines are drawn as love and loyalty are tested, even among the truest friends and family, in an increasingly divided world.Regal Butler Town Center 14, 3101 SW 35th Blvd, Gainesville, 12, 12:40, 4:10, 7, 9:55 p.m.\n",
      "\"Instant Family (2018)\", PG-13, 4.5, Standard, When Pete and Ellie decide to start a family, they stumble into the world of foster care adoption. They hope to take in one small child, but when they meet three siblings, including a rebellious 15-year-old girl, they find themselves speeding from zero to three kids overnight. Now, Pete and Ellie must try to learn the ropes of instant parenthood in the hope of becoming a family.Regal Butler Town Center 14, 3101 SW 35th Blvd, Gainesville, 1, 4:05, 7:05, 10:35 p.m.\n",
      "\"2.0\", , 5, Digital 3D, Regal Butler Town Center 14, 3101 SW 35th Blvd, Gainesville, 3:30, 6:50, 10:10 p.m.\n",
      "\"The King And I: From The London Palladium\", , , Standard, The multi-award winning and critically acclaimed Lincoln Center Theater’s production of Rodgers and Hammerstein’s The King And I comes to cinemas in this unmissable event recorded live from London’s iconic Palladium. Reprising her Tony Award-winning role, ‘Broadway musical’s undisputed Queen’ (The Sunday Times) Kelli O’Hara (Anna) takes to the stage alongside Tony and Oscar nominee Ken Watanabe (The King) in a \"powerhouse\" (The Times) performance. Also returning to her Tony Award winning role as Lady Thiang is Ruthie Ann Miles. Set in 1860s Bangkok, the musical tells the story of the unconventional and tempestuous relationship that develops between the King of Siam and Anna, a British schoolteacher whom the modernist King, in an imperialistic world, brings to Siam to teach his many wives and children.Regal Royal Park Stadium 16, 3702 Newberry Road, Gainesville, 7 p.m.\n",
      "\"Fantastic Beasts: The Crimes of Grindelwald\", PG-13, 4.5, Standard, In an effort to thwart Grindelwald's plans of raising pure-blood wizards to rule over all non-magical beings, Albus Dumbledore enlists his former student Newt Scamander, who agrees to help, unaware of the dangers that lie ahead. Lines are drawn as love and loyalty are tested, even among the truest friends and family, in an increasingly divided world.Regal Royal Park Stadium 16, 3702 Newberry Road, Gainesville, 12:40, 3, 3:55, 6:10, 7:10, 9:15, 10:20 p.m.\n",
      "\"Beautiful Boy (2018)\", R, 4.5, Standard, Based on the best-selling pair of memoirs from father and son David and Nic Sheff, Beautiful Boy chronicles the heartbreaking and inspiring experience of survival, relapse, and recovery in a family coping with addiction over many years.Regal Royal Park Stadium 16, 3702 Newberry Road, Gainesville, 4:45 p.m.\n",
      "\"Widows (2018)\", R, 4, Standard, \"Widows\" is the story of four women with nothing in common except a debt left behind by their dead husbands' criminal activities. Set in contemporary Chicago, amid a time of turmoil, tensions build when Veronica (Oscar® winner Viola Davis), Linda (Michelle Rodriguez), Alice (Elizabeth Debicki) and Belle (Cynthia Erivo) take their fate into their own hands and conspire to forge a future on their own terms. \"Widows\" also stars Liam Neeson, Colin Farrell, Robert Duvall, Daniel Kaluuya, Lukas Haas and Brian Tyree Henry.Regal Butler Town Center 14, 3101 SW 35th Blvd, Gainesville, 12:20, 3:40, 10:30 p.m.\n",
      "\"Ralph Breaks the Internet\", PG, 4.5, Standard, Ralph and Vanellope embark on an adventure inside the internet to find a spare part to fix a video game.Regal Butler Town Center 14, 3101 SW 35th Blvd, Gainesville, 12:35, 6:50, 9:40 p.m.\n",
      "\"The Nutcracker and the Four Realms\", PG, 4, Standard, Young Clara needs a magical, one-of-a-kind key to unlock a box that contains a priceless gift. A golden thread leads her to the coveted key, but it soon disappears into a strange and mysterious parallel world. In that world, she meets a soldier named Phillip, a group of mice and the regents who preside over three realms. Clara and Phillip must now enter a fourth realm to retrieve the key and restore harmony to the unstable land.Regal Royal Park Stadium 16, 3702 Newberry Road, Gainesville, 1:40, 4:25, 6:55, 9:30 p.m.\n",
      "\"Ralph Breaks the Internet\", PG, 4.5, Digital 3D, Ralph and Vanellope embark on an adventure inside the internet to find a spare part to fix a video game.Regal Butler Town Center 14, 3101 SW 35th Blvd, Gainesville, 3:50 p.m.\n",
      "\"Instant Family (2018)\", PG-13, 4.5, Standard, When Pete and Ellie decide to start a family, they stumble into the world of foster care adoption. They hope to take in one small child, but when they meet three siblings, including a rebellious 15-year-old girl, they find themselves speeding from zero to three kids overnight. Now, Pete and Ellie must try to learn the ropes of instant parenthood in the hope of becoming a family.Regal Royal Park Stadium 16, 3702 Newberry Road, Gainesville, 12:25, 3:30, 6:25, 9:25 p.m.\n",
      "\"The Possession of Hannah Grace\", R, , Standard, A shocking exorcism spirals out of control, claiming the life of a young woman. Months later, morgue worker Megan Reed takes delivery of a disfigured cadaver during the graveyard shift. Locked inside the basement corridors, Megan's horrifying visions soon lead her to believe that the body is possessed by a demonic force.Regal Royal Park Stadium 16, 3702 Newberry Road, Gainesville, 7:30, 9:55 p.m.\n",
      "\"Creed II\", PG-13, 4.5, Standard, Life has become a balancing act for Adonis Creed. Between personal obligations and training for his next big fight, he is up against the challenge of his life. Facing an opponent with ties to his family's past only intensifies his impending battle in the ring. Rocky Balboa is there by his side through it all and, together, Rocky and Adonis will confront their shared legacy, question what's worth fighting for, and discover that nothing's more important than family. Creed II is about going back to basics to rediscover what made you a champion in the first place, and remembering that, no matter where you go, you can't escape your history.Regal Butler Town Center 14, 3101 SW 35th Blvd, Gainesville, 12:50, 3:55, 6:55, 10:10 p.m.\n",
      "\"Ralph Breaks the Internet\", PG, 4.5, Digital 3D, Ralph and Vanellope embark on an adventure inside the internet to find a spare part to fix a video game.Celebration Pointe 10, 4901 SW 31st Place, Gainesville, 9:45 p.m.\n",
      "\"The Front Runner\", R, 3, Standard, Oscar® nominee Hugh Jackman stars as the charismatic politician Gary Hart for Academy Award®-nominated director Jason Reitman in the new thrilling drama The Front Runner. The film follows the rise and fall of Senator Hart, who captured the imagination of young voters and was considered the overwhelming front runner for the 1988 Democratic presidential nomination when his campaign was sidelined by the story of an extramarital relationship with Donna Rice. As tabloid journalism and political journalism merged for the first time, Senator Hart was forced to drop out of the race – events that left a profound and lasting impact on American politics and the world stage.Regal Butler Town Center 14, 3101 SW 35th Blvd, Gainesville, 12:30, 3:45, 6:45, 9:55 p.m.\n",
      "\"The King And I: From The London Palladium\", , , Standard, The multi-award winning and critically acclaimed Lincoln Center Theater’s production of Rodgers and Hammerstein’s The King And I comes to cinemas in this unmissable event recorded live from London’s iconic Palladium. Reprising her Tony Award-winning role, ‘Broadway musical’s undisputed Queen’ (The Sunday Times) Kelli O’Hara (Anna) takes to the stage alongside Tony and Oscar nominee Ken Watanabe (The King) in a \"powerhouse\" (The Times) performance. Also returning to her Tony Award winning role as Lady Thiang is Ruthie Ann Miles. Set in 1860s Bangkok, the musical tells the story of the unconventional and tempestuous relationship that develops between the King of Siam and Anna, a British schoolteacher whom the modernist King, in an imperialistic world, brings to Siam to teach his many wives and children.Regal Butler Town Center 14, 3101 SW 35th Blvd, Gainesville, 7 p.m.\n",
      "\"Creed II\", PG-13, 4.5, Standard, Life has become a balancing act for Adonis Creed. Between personal obligations and training for his next big fight, he is up against the challenge of his life. Facing an opponent with ties to his family's past only intensifies his impending battle in the ring. Rocky Balboa is there by his side through it all and, together, Rocky and Adonis will confront their shared legacy, question what's worth fighting for, and discover that nothing's more important than family. Creed II is about going back to basics to rediscover what made you a champion in the first place, and remembering that, no matter where you go, you can't escape your history.Regal Royal Park Stadium 16, 3702 Newberry Road, Gainesville, 1, 4:10, 7:10, 10:15 p.m.\n",
      "\"Nobody's Fool\", R, 4.5, Standard, After serving five years in prison, wild child Tanya looks to her buttoned-up, by-the-book sister Danica to help her get back on her feet. The feisty ex-con becomes suspicious and concerned when Danica tells her that she's in a long-distance, online relationship with a mysterious man she's never seen. As the polar opposites start to collide, Tanya soon discovers that her sibling's picture-perfect life may not be what it seems.Regal Royal Park Stadium 16, 3702 Newberry Road, Gainesville, 1:15, 4:15, 7:15, 10:15 p.m.\n",
      "\"Robin Hood (2018)\", PG-13, 4, Standard, A war-hardened Crusader and his Moorish commander mount an audacious revolt against the corrupt English crown in a thrilling action-adventure packed with gritty battlefield exploits, mind-blowing fight choreography, and a timeless romance.Celebration Pointe 10, 4901 SW 31st Place, Gainesville, 12:45, 4, 10:15 p.m.\n",
      "\"A Star Is Born (2018)\", R, 4.5, Standard, In this new take on the tragic love story, Bradley Cooper plays seasoned musician Jackson Maine, who discovers—and falls in love with—struggling artist Ally (Gaga). She has just about given up on her dream to make it big as a singer… until Jack coaxes her into the spotlight. But even as Ally’s career takes off, the personal side of their relationship is breaking down, as Jack fights an ongoing battle with his own internal demons.Regal Royal Park Stadium 16, 3702 Newberry Road, Gainesville, 12:55, 4, 10:05 p.m.\n",
      "\"Venom (2018)\", PG-13, 4.5, Standard, Reporter Eddie Brock develops superpowers after becoming a host to an alien parasite.Regal Royal Park Stadium 16, 3702 Newberry Road, Gainesville, 1:45, 10:25 p.m.\n",
      "\"\", , , , Hippodrome State Theatre, 25 SE 2nd Place Street, Gainesville, \n",
      "\"Fantastic Beasts: The Crimes of Grindelwald\", PG-13, 4.5, Standard, In an effort to thwart Grindelwald's plans of raising pure-blood wizards to rule over all non-magical beings, Albus Dumbledore enlists his former student Newt Scamander, who agrees to help, unaware of the dangers that lie ahead. Lines are drawn as love and loyalty are tested, even among the truest friends and family, in an increasingly divided world.Celebration Pointe 10, 4901 SW 31st Place, Gainesville, 12, 3:15, 7, 1, 4:15, 7:30 p.m.\n",
      "\"Green Book\", PG-13, 4.5, Standard, Dr. Don Shirley is a world-class African-American pianist who's about to embark on a concert tour in the Deep South in 1962. In need of a driver and protection, Shirley recruits Tony Lip, a tough-talking bouncer from an Italian-American neighborhood in the Bronx. Despite their differences, the two men soon develop an unexpected bond while confronting racism and danger in an era of segregation.Celebration Pointe 10, 4901 SW 31st Place, Gainesville, 1:30, 4:45, 8, 11 p.m.\n",
      "\"Creed II\", PG-13, 4.5, Standard, Life has become a balancing act for Adonis Creed. Between personal obligations and training for his next big fight, he is up against the challenge of his life. Facing an opponent with ties to his family's past only intensifies his impending battle in the ring. Rocky Balboa is there by his side through it all and, together, Rocky and Adonis will confront their shared legacy, question what's worth fighting for, and discover that nothing's more important than family. Creed II is about going back to basics to rediscover what made you a champion in the first place, and remembering that, no matter where you go, you can't escape your history.Celebration Pointe 10, 4901 SW 31st Place, Gainesville, 12:15, 3:45, 7:15, 10:30 p.m.\n",
      "\"Fantastic Beasts: The Crimes of Grindelwald\", PG-13, 4.5, Digital 3D, In an effort to thwart Grindelwald's plans of raising pure-blood wizards to rule over all non-magical beings, Albus Dumbledore enlists his former student Newt Scamander, who agrees to help, unaware of the dangers that lie ahead. Lines are drawn as love and loyalty are tested, even among the truest friends and family, in an increasingly divided world.Regal Royal Park Stadium 16, 3702 Newberry Road, Gainesville, 11:55a\n",
      "\"Overlord (2018)\", R, 4, Standard, On the eve of D-Day, American paratroopers drop behind enemy lines to penetrate the walls of a fortified church and destroy a radio transmitter. As the soldiers approach their target, they soon begin to realize that there's more going on in the Nazi-occupied village than a simple military operation. Making their way to an underground lab, the outnumbered men stumble upon a sinister experiment that forces them into a vicious battle against an army of the undead.Regal Butler Town Center 14, 3101 SW 35th Blvd, Gainesville, 12:55, 4:20, 10:25 p.m.\n",
      "\"Fantastic Beasts: The Crimes of Grindelwald\", PG-13, 4.5, Digital 3D, In an effort to thwart Grindelwald's plans of raising pure-blood wizards to rule over all non-magical beings, Albus Dumbledore enlists his former student Newt Scamander, who agrees to help, unaware of the dangers that lie ahead. Lines are drawn as love and loyalty are tested, even among the truest friends and family, in an increasingly divided world.Celebration Pointe 10, 4901 SW 31st Place, Gainesville, 10:45, 10:30 p.m.\n",
      "\"Widows (2018)\", R, 4, Standard, \"Widows\" is the story of four women with nothing in common except a debt left behind by their dead husbands' criminal activities. Set in contemporary Chicago, amid a time of turmoil, tensions build when Veronica (Oscar® winner Viola Davis), Linda (Michelle Rodriguez), Alice (Elizabeth Debicki) and Belle (Cynthia Erivo) take their fate into their own hands and conspire to forge a future on their own terms. \"Widows\" also stars Liam Neeson, Colin Farrell, Robert Duvall, Daniel Kaluuya, Lukas Haas and Brian Tyree Henry.Celebration Pointe 10, 4901 SW 31st Place, Gainesville, 1:05, 4:20, 7:45, 10:50 p.m.\n",
      "\"Robin Hood (2018)\", PG-13, 4, Standard, A war-hardened Crusader and his Moorish commander mount an audacious revolt against the corrupt English crown in a thrilling action-adventure packed with gritty battlefield exploits, mind-blowing fight choreography, and a timeless romance.Regal Butler Town Center 14, 3101 SW 35th Blvd, Gainesville, 12:45, 4, 7:10, 10 p.m.\n",
      "\"Bohemian Rhapsody\", PG-13, 5, Standard, Singer Freddie Mercury, guitarist Brian May, drummer Roger Taylor and bass guitarist John Deacon take the music world by storm when they form the rock 'n' roll band Queen in 1970. Surrounded by darker influences, Mercury decides to leave Queen years later to pursue a solo career. Diagnosed with AIDS in the 1980s, the flamboyant frontman reunites with the group for the benefit concert Live Aid -- leading the band in one of the greatest performances in rock history.Celebration Pointe 10, 4901 SW 31st Place, Gainesville, 12:05, 3:50, 7:25, 10:40 p.m.\n",
      "\"Ralph Breaks the Internet\", PG, 4.5, Standard, Ralph and Vanellope embark on an adventure inside the internet to find a spare part to fix a video game.Celebration Pointe 10, 4901 SW 31st Place, Gainesville, 12:30, 3:30, 6:45 p.m.\n",
      "\"Mirai (Premiere Event)\", PG, , Standard, Fathom Events and GKIDS bring MIRAI, a daringly original story of love passed down through generations from acclaimed director Mamoru Hosoda and Japan’s Studio Chizu, to select theaters on November 29, December 5 and 8. When four-year-old Kun meets his new baby sister, his world is turned upside down. Named Mirai (meaning “future”), the baby quickly wins the hearts of Kun’s entire family. As his mother returns to work, and his father struggles to run the household, Kun becomes increasingly jealous of baby Mirai... until one day he storms off into the garden, where he encounters strange guests from the past and future – including his sister Mirai, as a teenager. Together, Kun and teenage Mirai go on a journey through time and space, uncovering their family’s incredible story. The epic capstone of director Mamoru Hosoda’s career, Mirai is a sumptuous, magical, and emotionally soaring adventure about the ties that bring families together and make us who we are.Regal Butler Town Center 14, 3101 SW 35th Blvd, Gainesville, 7, 8 p.m.\n",
      "\"Meow Wolf: Origin Story\", PG-13, , Standard, A group of artists in Santa Fe, NM, frustrated by the lack of access to the art world, decide to form their own collective and name themselves Meow Wolf. Their immersive, large-scale exhibitions crack open a profitable niche in the arts industry, and they spark the interest of George R. R. Martin (creator of “Game of Thrones,”) who comes on board as an investor and supporter. With their wild success obtained on their own terms, Meow Wolf tells its own story and inspires the DIY spirit in creatives, entrepreneurs, and dreamers the world over – in cinemas for one night on Thursday, November 29 only at 7:30 p.m. local time.Regal Butler Town Center 14, 3101 SW 35th Blvd, Gainesville, 7:30 p.m.\n",
      "\"Instant Family (2018)\", PG-13, 4.5, Standard, When Pete and Ellie decide to start a family, they stumble into the world of foster care adoption. They hope to take in one small child, but when they meet three siblings, including a rebellious 15-year-old girl, they find themselves speeding from zero to three kids overnight. Now, Pete and Ellie must try to learn the ropes of instant parenthood in the hope of becoming a family.Celebration Pointe 10, 4901 SW 31st Place, Gainesville, 1:35, 4:40, 7:40, 10:40 p.m.\n",
      "\"Widows (2018)\", R, 4, Standard, \"Widows\" is the story of four women with nothing in common except a debt left behind by their dead husbands' criminal activities. Set in contemporary Chicago, amid a time of turmoil, tensions build when Veronica (Oscar® winner Viola Davis), Linda (Michelle Rodriguez), Alice (Elizabeth Debicki) and Belle (Cynthia Erivo) take their fate into their own hands and conspire to forge a future on their own terms. \"Widows\" also stars Liam Neeson, Colin Farrell, Robert Duvall, Daniel Kaluuya, Lukas Haas and Brian Tyree Henry.Regal Royal Park Stadium 16, 3702 Newberry Road, Gainesville, 12:30, 3:35, 6:45, 9:45 p.m.\n",
      "\"Ralph Breaks the Internet\", PG, 4.5, Standard, Ralph and Vanellope embark on an adventure inside the internet to find a spare part to fix a video game.Regal Royal Park Stadium 16, 3702 Newberry Road, Gainesville, 12:40, 3:40, 6:40, 9:40 p.m.\n",
      "\"2.0\", , 5, Standard, Regal Butler Town Center 14, 3101 SW 35th Blvd, Gainesville, 12 p.m.\n",
      "\"The Girl in the Spider's Web\", R, 4, Standard, Fired from the National Security Agency, Frans Balder recruits hacker Lisbeth Salander to steal FireWall, a computer program that can access codes for nuclear weapons worldwide. The download soon draws attention from an NSA agent who traces the activity to Stockholm. Further problems arise when Russian thugs take Lisbeth's laptop and kidnap a math whiz who can make FireWall work. Now, Lisbeth and an unlikely ally must race against time to save the boy and recover the codes to avert disaster.Regal Royal Park Stadium 16, 3702 Newberry Road, Gainesville, 1:20, 4:20 p.m.\n",
      "\"Bohemian Rhapsody\", PG-13, 5, Standard, Singer Freddie Mercury, guitarist Brian May, drummer Roger Taylor and bass guitarist John Deacon take the music world by storm when they form the rock 'n' roll band Queen in 1970. Surrounded by darker influences, Mercury decides to leave Queen years later to pursue a solo career. Diagnosed with AIDS in the 1980s, the flamboyant frontman reunites with the group for the benefit concert Live Aid -- leading the band in one of the greatest performances in rock history.Regal Butler Town Center 14, 3101 SW 35th Blvd, Gainesville, 12:25, 3:30, 10:05 p.m.\n",
      "\"Mirai (Premiere Event)\", PG, , Standard, Fathom Events and GKIDS bring MIRAI, a daringly original story of love passed down through generations from acclaimed director Mamoru Hosoda and Japan’s Studio Chizu, to select theaters on November 29, December 5 and 8. When four-year-old Kun meets his new baby sister, his world is turned upside down. Named Mirai (meaning “future”), the baby quickly wins the hearts of Kun’s entire family. As his mother returns to work, and his father struggles to run the household, Kun becomes increasingly jealous of baby Mirai... until one day he storms off into the garden, where he encounters strange guests from the past and future – including his sister Mirai, as a teenager. Together, Kun and teenage Mirai go on a journey through time and space, uncovering their family’s incredible story. The epic capstone of director Mamoru Hosoda’s career, Mirai is a sumptuous, magical, and emotionally soaring adventure about the ties that bring families together and make us who we are.Regal Royal Park Stadium 16, 3702 Newberry Road, Gainesville, 7, 8 p.m.\n"
     ]
    }
   ],
   "source": [
    "def scene_pn():\n",
    "    #listing = []\n",
    "    ocala_market = ['Ocala, FL', 'Belleview, FL', 'The Villages, FL']\n",
    "    gnv_market = ['Gainesville FL', 'High Springs, FL', 'Starke, FL']\n",
    "    with open(newfile) as csv_file:\n",
    "        csv_reader = csv.reader(csv_file, delimiter=',')\n",
    "        headers = next(csv_reader)\n",
    "        for row in csv_reader:\n",
    "            if row[9] in gnv_market:\n",
    "                row[0] = row[0].split(', FL')[0]\n",
    "                row[5] = row[5].replace('p | ', ' p.m., ')\n",
    "                row[5] = row[5].replace('a | ', ' a.m., ')\n",
    "                row[5] = row[5].replace('0p', '0 p.m.')\n",
    "                row[5] = row[5].replace('5p', '5 p.m.')\n",
    "                row[5] = row[5].replace(':00', '')\n",
    "                row[5] = row[5].replace(' p.m.,', ',')\n",
    "                movie_stuff = f\"\\\"{row[2]}\\\", {row[3]}, {row[4]}, {row[6]}, {row[7]}\"\n",
    "                theater_stuff = f'{row[1]}, {row[0]}, {row[5]}'\n",
    "                listing = movie_stuff + theater_stuff\n",
    "                print(listing)\n",
    "            \n",
    "scene_pn()\n"
   ]
  },
  {
   "cell_type": "code",
   "execution_count": null,
   "metadata": {},
   "outputs": [],
   "source": [
    "def go_pn():\n",
    "    #listing = []\n",
    "    ocala_market = ['Ocala, FL', 'Belleview, FL', 'The Villages, FL']\n",
    "    gnv_market = ['Gainesville FL', 'High Springs, FL', 'Starke, FL']\n",
    "    with open('2781_Fandango_data_Movie_full.csv') as csv_file:\n",
    "        csv_reader = csv.reader(csv_file, delimiter=',')\n",
    "        headers = next(csv_reader)\n",
    "        for row in csv_reader:\n",
    "            if row[9] in ocala_market:\n",
    "                row[0] = row[0].split(', FL')[0]\n",
    "                row[5] = row[5].replace('p | ', ' p.m., ')\n",
    "                row[5] = row[5].replace('a | ', ' a.m., ')\n",
    "                row[5] = row[5].replace('0p', '0 p.m.')\n",
    "                row[5] = row[5].replace('5p', '5 p.m.')\n",
    "                row[5] = row[5].replace(':00', '')\n",
    "                movie_stuff = f\"\\\"{row[2]}\\\", {row[3]}, {row[4]}, {row[6]}, {row[7]}\"\n",
    "                theater_stuff = f'{row[1]}, {row[0]}, {row[5]}'\n",
    "                listing = movie_stuff + theater_stuff\n",
    "                print(listing)\n",
    "    #return listing\n",
    "            \n",
    "go_pn()"
   ]
  },
  {
   "cell_type": "code",
   "execution_count": null,
   "metadata": {},
   "outputs": [],
   "source": [
    "def daily_pn():\n",
    "    #listing = []\n",
    "    ocala_market = ['Ocala, FL', 'Belleview, FL', 'The Villages, FL']\n",
    "    gnv_market = ['Gainesville FL', 'High Springs, FL', 'Starke, FL']\n",
    "    with open('2781_Fandango_data_Movie_full.csv') as csv_file:\n",
    "        csv_reader = csv.reader(csv_file, delimiter=',')\n",
    "        headers = next(csv_reader)\n",
    "        for row in csv_reader:\n",
    "            if row[9] in ocala_market:\n",
    "                row[0] = row[0].split(', FL')[0]\n",
    "                row[5] = row[5].replace('p | ', ' p.m., ')\n",
    "                row[5] = row[5].replace('a | ', ' a.m., ')\n",
    "                row[5] = row[5].replace('0p', '0 p.m.')\n",
    "                row[5] = row[5].replace('5p', '5 p.m.')\n",
    "                row[5] = row[5].replace(':00', '')\n",
    "                movie_stuff = f\"{row[2]}, {row[3]}, {row[4]}, {row[6]}\"\n",
    "                theater_stuff = f'{row[1]}, {row[0]}, {row[5]}'\n",
    "                listing = movie_stuff + theater_stuff\n",
    "                print(listing)\n",
    "    #return listing\n",
    "            \n",
    "daily_pn()"
   ]
  },
  {
   "cell_type": "code",
   "execution_count": null,
   "metadata": {},
   "outputs": [],
   "source": [
    "# read in csv file and prepare for work\n",
    "filename = \"2781_Fandango_data_Movie_sample_data.csv\"\n",
    "fieldnames = ['Location', 'Theatre', 'Movie', 'Movie_Rating', 'Show_Times', 'Movie_Format', 'Synopsis', 'Date', 'Searched_City']\n",
    "#rows = []   "
   ]
  },
  {
   "cell_type": "code",
   "execution_count": null,
   "metadata": {},
   "outputs": [],
   "source": [
    "# Creates list of dictionaries for each row, assigns field name for key in all pairs. This is working.\n",
    "listings = []\n",
    "scrape_file = '2781_Fandango_data_Movie_full.csv'\n",
    "with open(scrape_file, 'r') as f:\n",
    "    reader = csv.reader(f)\n",
    "    for row in reader:\n",
    "        layout_dct = {'addy': row[0], 'theater': row[1], 'title': row[2], 'mpaa': row[3], 'stars': row[4], 'times': row[5], 'format': row[6], 'synopsis': row[7], 'date': row[8], 'city': row[9]}\n",
    "        listings.append(layout_dct)\n",
    "    \n",
    "del listings[0] #remove header row\n",
    "        "
   ]
  },
  {
   "cell_type": "code",
   "execution_count": null,
   "metadata": {},
   "outputs": [],
   "source": [
    "print(listings)"
   ]
  },
  {
   "cell_type": "code",
   "execution_count": null,
   "metadata": {},
   "outputs": [],
   "source": [
    "# Finds next dictionary in list where a key is matched with a particular value\n",
    "next(item for item in listings if item['stars'] == '4.5')\n"
   ]
  },
  {
   "cell_type": "code",
   "execution_count": null,
   "metadata": {},
   "outputs": [],
   "source": [
    "# Function to find a dictionary listing with a particular key:value; similar to above\n",
    "def search(list, key, value):\n",
    "    for item in list:\n",
    "        if item[key] == value:\n",
    "            return item\n",
    "        \n",
    "search(listings, 'mpaa', 'R')\n",
    "       \n"
   ]
  },
  {
   "cell_type": "code",
   "execution_count": null,
   "metadata": {},
   "outputs": [],
   "source": [
    "# Effort to join showtimes if theater == one above. Not working\n",
    "listings = []\n",
    "scrape_file = '2781_Fandango_data_Movie_full.csv'\n",
    "with open(scrape_file, 'r') as f:\n",
    "    reader = csv.reader(f)\n",
    "    for row in reader:\n",
    "        layout_dct = {'addy': row[0], 'theater': row[1], 'title': row[2], 'mpaa': row[3], 'stars': row[4], 'times': row[5], 'format': row[6], 'synopsis': row[7], 'date': row[8], 'city': row[9]}\n",
    "        if row[1] == row[1]:\n",
    "            for 'times', row[5] in listings:\n",
    "                listings.append('times', row[5])\n",
    "        listings.append(layout_dct)\n",
    "        \n",
    "del listings[0] #remove header row"
   ]
  },
  {
   "cell_type": "code",
   "execution_count": null,
   "metadata": {},
   "outputs": [],
   "source": [
    "# This uses defaultdict to join items in a tuple as a list\n",
    "s = [('regal', (1, 2)), ('amc', (3, 5)), ('regal', (2, 4)), ('amc', (7, 9))]\n",
    "d = defaultdict(list)\n",
    "for k, v in s:\n",
    "    if k == k:\n",
    "        d[k].append(v)\n",
    "    \n",
    "sorted(d.items())"
   ]
  },
  {
   "cell_type": "code",
   "execution_count": null,
   "metadata": {},
   "outputs": [],
   "source": [
    "\n"
   ]
  },
  {
   "cell_type": "code",
   "execution_count": null,
   "metadata": {},
   "outputs": [],
   "source": [
    "# Creates a list of class objects for each row in the csv\n",
    "# Not working yet.\n",
    "# Try \"if 'title' already exists, append a dict for cinema: times, or object with same?\n",
    "\n",
    "class_list = []\n",
    "\n",
    "with open('2781_Fandango_data_Movie_sample_data.csv', 'r') as f:\n",
    "    reader = csv.reader(f)\n",
    "    for row in reader:\n",
    "        class_list.append(Movie(row[0], row[1]))"
   ]
  },
  {
   "cell_type": "code",
   "execution_count": null,
   "metadata": {},
   "outputs": [],
   "source": []
  },
  {
   "cell_type": "code",
   "execution_count": null,
   "metadata": {},
   "outputs": [],
   "source": [
    "# Creates a dictionary with name of the film as key, and value is a list of all info\n",
    "# Starts with second row to skip header row\n",
    "data = {}\n",
    "with open(filename, newline='') as csvfile:\n",
    "    reader = csv.reader(csvfile, delimiter=',')\n",
    "    headers = next(reader)\n",
    "    for row in reader:\n",
    "        data[row[2]]=row[1:]\n",
    "        \n",
    "print(data)\n",
    "        "
   ]
  },
  {
   "cell_type": "code",
   "execution_count": null,
   "metadata": {},
   "outputs": [],
   "source": []
  },
  {
   "cell_type": "code",
   "execution_count": null,
   "metadata": {},
   "outputs": [],
   "source": [
    "# structure and format for Friday listings\n",
    "# create a class for Friday movie\n",
    "class Movie:\n",
    "    \n",
    "    def __init__(self, title, stars, mpaa, runtime, genre, about):\n",
    "        self.title = title\n",
    "        self.stars = stars\n",
    "        self.mpaa = mpaa\n",
    "        self.runtime = runtime\n",
    "        self.genre = genre\n",
    "        self.about = about\n",
    "        \n",
    "    def LifeTag(self):\n",
    "        return self.title + \" (\" + self.mpaa + \") \"\n",
    "    \n",
    "    def SceneTag(self):\n",
    "        return \"\\\"\\\"\" + self.title + \"\\\"\\\"\\n\" + self.stars + \"\\n\" + self.mpaa + \": \" + self.about \n",
    "        \n",
    "class Screening(Movie):\n",
    "    \n",
    "    def __init__(self, title, cinema, showdate, showtime):\n",
    "        Movie.__init__(self, title)\n",
    "        Movie.__init__(self, mpaa)\n",
    "        self.cinema = cinema\n",
    "        self.showdate1 = showdate\n",
    "        self.showtime = showtime\n",
    "        \n",
    "    "
   ]
  },
  {
   "cell_type": "code",
   "execution_count": null,
   "metadata": {},
   "outputs": [],
   "source": [
    "Creed = Movie(\"Creed II\", \"3 1/2\", \"PG-13\", \"180 minutes\", \"Sports\", \"This sequel ...\")\n",
    "Ralph = Movie(\"Ralph Breaks the Internet\", \"\", \"PG\", \"60 minutes\", \"Animation\", \"Six years after ...\")"
   ]
  },
  {
   "cell_type": "code",
   "execution_count": null,
   "metadata": {},
   "outputs": [],
   "source": [
    "# )ne approach might be to create a class for a listing\n",
    "# that has subclasses for movies and theaters\n",
    "\n",
    "class Listing:\n",
    "    \n",
    "    '''Class for a movie listing that outputs the fully\n",
    "    formatted listing for publication.'''\n",
    "    \n",
    "    def __init__(self):\n",
    "        self.what = 'what should go here?'\n",
    "        \n",
    "    class Movie:\n",
    "        def __init__(self, title, stars, mpaa, runtime, genre, about):\n",
    "            self.title = title\n",
    "            self.stars = stars\n",
    "            self.mpaa = mpaa\n",
    "            self.runtime = runtime\n",
    "            self.genre = genre\n",
    "            self.about = about\n",
    "                return 'narrative common to'\n"
   ]
  },
  {
   "cell_type": "code",
   "execution_count": null,
   "metadata": {},
   "outputs": [],
   "source": [
    "class Cinema:\n",
    "\n",
    "    '''Class for area movie theatre'''\n",
    "    \n",
    "    def __init__(self, theater, addy, market, showtimes):\n",
    "        self.theater = theater\n",
    "        self.addy = addy\n",
    "        self.market = market\n",
    "        self.showtimes = showtimes\n",
    "            "
   ]
  },
  {
   "cell_type": "code",
   "execution_count": null,
   "metadata": {},
   "outputs": [],
   "source": [
    "regal8 = Cinema('Regal 8', '234 Main St.', 'Ocala', '1p, 2p, 3p')\n",
    "amc12 = Cinema('AMC 8', '123 First Ave.', 'Ocala', '3p, 5p, 6p')\n",
    "celeb = Cinema('Celeb', '157 Goose Blvd.', 'Ocala', '7p, 8p, 9p')"
   ]
  },
  {
   "cell_type": "code",
   "execution_count": null,
   "metadata": {},
   "outputs": [],
   "source": [
    "print(regal8.showtimes)"
   ]
  },
  {
   "cell_type": "code",
   "execution_count": null,
   "metadata": {},
   "outputs": [],
   "source": [
    "# structure and format for Saturday listings\n",
    "# create a class for a Saturday movie"
   ]
  },
  {
   "cell_type": "code",
   "execution_count": null,
   "metadata": {},
   "outputs": [],
   "source": [
    "# structure and format for Sunday listings\n",
    "# create a class for a Sunday movie"
   ]
  },
  {
   "cell_type": "code",
   "execution_count": null,
   "metadata": {},
   "outputs": [],
   "source": [
    "def parrot(voltage, state='a stiff', action='voom'):\n",
    "    print(\"-- This parrot wouldn't\", action, end=' ')\n",
    "    print(\"if you put\", voltage, \"volts through it.\", end=' ')\n",
    "    print(\"E's\", state, \"!\")\n",
    "\n",
    "d = {\"voltage\": \"four million\", \"state\": \"bleedin' demised\", \"action\": \"VOOM\"}\n",
    "parrot(**d)\n"
   ]
  },
  {
   "cell_type": "code",
   "execution_count": null,
   "metadata": {},
   "outputs": [],
   "source": [
    "\n",
    "s = [('regal', (1, 2)), ('amc', (3, 5)), ('regal', (2, 4)), ('amc', (7, 9))]\n",
    "d = defaultdict(list)\n",
    "for k, v in s:\n",
    "    if k == k:\n",
    "        d[k].append(v)\n",
    "    \n",
    "sorted(d.items())"
   ]
  },
  {
   "cell_type": "code",
   "execution_count": null,
   "metadata": {},
   "outputs": [],
   "source": [
    "s = listings\n",
    "d = defaultdict(list)\n",
    "for k,v in s:\n",
    "    d[k].append(v)\n",
    "    \n"
   ]
  },
  {
   "cell_type": "code",
   "execution_count": null,
   "metadata": {},
   "outputs": [],
   "source": [
    "s = [('cane', regal8), ('brian', amc12), ('cane', celeb)]\n",
    "d = defaultdict(set)\n",
    "for k, v in s:\n",
    "    d[k].add(v)\n",
    "    \n",
    "sorted(d.items())"
   ]
  },
  {
   "cell_type": "code",
   "execution_count": null,
   "metadata": {},
   "outputs": [],
   "source": [
    "\"\"\" \n",
    "- read in csv\n",
    "- create dictionaries for each row\n",
    "- in each dictionary, set theater as a key with value as a list of showtimes\n",
    "- or not\n",
    "- group dictionaries into two lists based on cities searched\n",
    "- sort dictionaries based on value for movie title\n",
    "- loop through the dictionaries: if the movie name == the one prior,\n",
    "    append the k:v pair the one prior and delete the current dictionary\n",
    "- defs to write narrative for Scene, Go, Fri Oca, Fri Gnv, Sat Oca, Sat Gnv, Sun Oca, Sun Gnv\n",
    "- maybe have those defs in classes for each?\n",
    "\"\"\""
   ]
  },
  {
   "cell_type": "code",
   "execution_count": null,
   "metadata": {},
   "outputs": [],
   "source": [
    "next(item for item in listings if item['stars'] == '4.5')\n"
   ]
  },
  {
   "cell_type": "code",
   "execution_count": null,
   "metadata": {},
   "outputs": [],
   "source": [
    "# return value in dictionary from list\n",
    "[d['theater'] for d in listings]"
   ]
  },
  {
   "cell_type": "code",
   "execution_count": null,
   "metadata": {},
   "outputs": [],
   "source": [
    "# return a row by index\n",
    "show = listings[0]\n",
    "showdate = datetime.datetime.strptime(show.get('date'), '%Y-%m-%d')\n",
    "print(showdate)"
   ]
  },
  {
   "cell_type": "code",
   "execution_count": null,
   "metadata": {},
   "outputs": [],
   "source": [
    "# workon print narrative for Scene\n",
    "\n",
    "# CONVERTS datetime into AP style text; from Stucka\n",
    "def get_big_timestamp(date_object=None):\n",
    "    if not date_object:\n",
    "        date_object = datetime.datetime.now()\n",
    "    stamp = \"\"\n",
    "    # comment out below if you don't want \"Wednesday\" or similar in your string\n",
    "    #stamp += datetime.datetime.strftime(date_object, \"%A, \")\n",
    "    if date_object.month == 9:\n",
    "        stamp += \"Sept. \" +  datetimedatetime.strftime(date_object, \"%d, %Y\").lstrip(\"0\")\n",
    "    elif date_object.month < 3 or date_object.month > 7:\n",
    "        stamp += datetime.datetime.strftime(date_object, \"%b. \") \\\n",
    "        + datetime.datetime.strftime(date_object, \"%d\").lstrip(\"0\")\n",
    "    else:\n",
    "        stamp += datetime.datetime.strftime(date_object, \"%B \") \\\n",
    "        + datetime.datetime.strftime(date_object, \"%d\").lstrip(\"0\")\n",
    "    # uncomment out below if you want the year\n",
    "    #stamp += datetime.datetime.strftime(date_object, \", %Y\")\n",
    "    # uncomment below if you want the time\n",
    "    # stamp += \", at \"\n",
    "    # stamp += datetime.datetime.strftime(date_object, \"%I:%M %p\").lstrip(\"0\").replace(\"AM\", \"a.m.\").replace(\"PM\", \"p.m.\")\n",
    "    return(stamp)\n",
    "\n"
   ]
  },
  {
   "cell_type": "code",
   "execution_count": null,
   "metadata": {},
   "outputs": [],
   "source": [
    "def scene_pn(id):\n",
    "    showdate = \n"
   ]
  }
 ],
 "metadata": {
  "kernelspec": {
   "display_name": "Python 3",
   "language": "python",
   "name": "python3"
  },
  "language_info": {
   "codemirror_mode": {
    "name": "ipython",
    "version": 3
   },
   "file_extension": ".py",
   "mimetype": "text/x-python",
   "name": "python",
   "nbconvert_exporter": "python",
   "pygments_lexer": "ipython3",
   "version": "3.6.0"
  }
 },
 "nbformat": 4,
 "nbformat_minor": 2
}
