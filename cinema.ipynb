{
 "cells": [
  {
   "cell_type": "code",
   "execution_count": 5,
   "metadata": {},
   "outputs": [],
   "source": [
    "\"\"\"Code to format info on movies in a csv file for publication.\"\"\"\n",
    "\n",
    "# libraries\n",
    "import csv"
   ]
  },
  {
   "cell_type": "code",
   "execution_count": 3,
   "metadata": {},
   "outputs": [
    {
     "ename": "AttributeError",
     "evalue": "'_csv.reader' object has no attribute 'next'",
     "output_type": "error",
     "traceback": [
      "\u001b[0;31m---------------------------------------------------------------------------\u001b[0m",
      "\u001b[0;31mAttributeError\u001b[0m                            Traceback (most recent call last)",
      "\u001b[0;32m<ipython-input-3-7e14cca412c6>\u001b[0m in \u001b[0;36m<module>\u001b[0;34m\u001b[0m\n\u001b[1;32m      5\u001b[0m \u001b[0;32mwith\u001b[0m \u001b[0mopen\u001b[0m\u001b[0;34m(\u001b[0m\u001b[0mfilename\u001b[0m\u001b[0;34m,\u001b[0m \u001b[0;34m'r'\u001b[0m\u001b[0;34m)\u001b[0m \u001b[0;32mas\u001b[0m \u001b[0mcsvfile\u001b[0m\u001b[0;34m:\u001b[0m\u001b[0;34m\u001b[0m\u001b[0m\n\u001b[1;32m      6\u001b[0m     \u001b[0mcsvreader\u001b[0m \u001b[0;34m=\u001b[0m \u001b[0mcsv\u001b[0m\u001b[0;34m.\u001b[0m\u001b[0mreader\u001b[0m\u001b[0;34m(\u001b[0m\u001b[0mcsvfile\u001b[0m\u001b[0;34m)\u001b[0m\u001b[0;34m\u001b[0m\u001b[0m\n\u001b[0;32m----> 7\u001b[0;31m     \u001b[0mfields\u001b[0m \u001b[0;34m=\u001b[0m \u001b[0mcsvreader\u001b[0m\u001b[0;34m.\u001b[0m\u001b[0mnext\u001b[0m\u001b[0;34m(\u001b[0m\u001b[0;34m)\u001b[0m \u001b[0;31m# get field names in first row\u001b[0m\u001b[0;34m\u001b[0m\u001b[0m\n\u001b[0m\u001b[1;32m      8\u001b[0m     \u001b[0;32mfor\u001b[0m \u001b[0mrow\u001b[0m \u001b[0;32min\u001b[0m \u001b[0mcsvreader\u001b[0m\u001b[0;34m:\u001b[0m\u001b[0;34m\u001b[0m\u001b[0m\n\u001b[1;32m      9\u001b[0m         \u001b[0mrows\u001b[0m\u001b[0;34m.\u001b[0m\u001b[0mappend\u001b[0m\u001b[0;34m(\u001b[0m\u001b[0mrow\u001b[0m\u001b[0;34m)\u001b[0m \u001b[0;31m# get data row by row\u001b[0m\u001b[0;34m\u001b[0m\u001b[0m\n",
      "\u001b[0;31mAttributeError\u001b[0m: '_csv.reader' object has no attribute 'next'"
     ]
    }
   ],
   "source": [
    "# read in csv file and prepare for work\n",
    "filename = \"2781_Fandango_data_Movie_sample_data.csv\"\n",
    "fieldnames = ['Location', 'Theatre', 'Movie', 'Movie_Rating', 'Show_Times', 'Movie_Format', 'Synopsis', 'Date', 'Searched_City']\n",
    "#rows = []   "
   ]
  },
  {
   "cell_type": "code",
   "execution_count": 18,
   "metadata": {},
   "outputs": [],
   "source": [
    "# Creats list of dictionaries for each row. This is working.\n",
    "\n",
    "listings = []\n",
    "scrape_file = '2781_Fandango_data_Movie_full.csv'\n",
    "with open(scrape_file, 'r') as f:\n",
    "    reader = csv.reader(f)\n",
    "    for row in reader:\n",
    "        layout_dct = {'addy': row[0], 'theater': row[1], 'title': row[2], 'mpaa': row[3], 'stars': row[4], 'times': row[5], 'format': row[6], 'synopsis': row[7], 'date': row[8], 'city': row[9]}\n",
    "        listings.append(layout_dct)\n",
    "        \n",
    "del listings[0] #remove header row\n",
    "        "
   ]
  },
  {
   "cell_type": "code",
   "execution_count": 19,
   "metadata": {},
   "outputs": [
    {
     "name": "stdout",
     "output_type": "stream",
     "text": [
      "{'addy': '2021 Silver Springs Blvd, Ocala, FL 34471', 'theater': 'Ocala Center 6', 'title': 'Ralph Breaks the Internet', 'mpaa': 'PG', 'stars': '4.5', 'times': '1:00p | 4:00p | 7:00p', 'format': 'Standard', 'synopsis': 'Ralph and Vanellope embark on an adventure inside the internet to find a spare part to fix a video game.', 'date': '2018-11-29', 'city': 'Ocala, FL'}\n"
     ]
    }
   ],
   "source": [
    "print(listings[0])"
   ]
  },
  {
   "cell_type": "code",
   "execution_count": null,
   "metadata": {},
   "outputs": [],
   "source": [
    "# Creates a list of class objects for each row in the csv\n",
    "# Not working yet.\n",
    "# Try \"if 'title' already exists, append a dict for cinema: times, or object with same?\n",
    "\n",
    "class_list = []\n",
    "\n",
    "with open('2781_Fandango_data_Movie_sample_data.csv', 'r') as f:\n",
    "    reader = csv.reader(f)\n",
    "    for row in reader:\n",
    "        class_list.append(Movie(row[0], row[1]))"
   ]
  },
  {
   "cell_type": "code",
   "execution_count": null,
   "metadata": {},
   "outputs": [],
   "source": []
  },
  {
   "cell_type": "code",
   "execution_count": 39,
   "metadata": {},
   "outputs": [
    {
     "name": "stdout",
     "output_type": "stream",
     "text": [
      "{'Fantastic Beasts: The Crimes of Grindelwald': ['Celebration Pointe 10', 'Fantastic Beasts: The Crimes of Grindelwald', '4.5', '12:00p | 3:15p | 10:15p | 1:00p | 4:15p | 7:30p', 'Standard', \"In an effort to thwart Grindelwald's plans of raising pure-blood wizards to rule over all non-magical beings, Albus Dumbledore enlists his former student Newt Scamander, who agrees to help, unaware of the dangers that lie ahead. Lines are drawn as love and loyalty are tested, even among the truest friends and family, in an increasingly divided world.\", '2018-11-27', 'High Springs, FL'], 'Instant Family (2018)': ['UA Cinema 90 6', 'Instant Family (2018)', '4.5', '1:10p | 4:20p | 7:20p', 'Standard', 'When Pete and Ellie decide to start a family, they stumble into the world of foster care adoption. They hope to take in one small child, but when they meet three siblings, including a rebellious 15-year-old girl, they find themselves speeding from zero to three kids overnight. Now, Pete and Ellie must try to learn the ropes of instant parenthood in the hope of becoming a family.', '2018-11-27', 'Lake City, FL'], 'Ralph Breaks the Internet': ['Regal Hollywood Stadium 16 & IMAX - Ocala', 'Ralph Breaks the Internet', '4.5', '10:00p', 'Digital 3D', 'Ralph and Vanellope embark on an adventure inside the internet to find a spare part to fix a video game.', '2018-11-27', 'Belleview, FL'], 'Superman 40th Anniversary': ['Regal Hollywood Stadium 16 & IMAX - Ocala', 'Superman 40th Anniversary', '5', '3:00p | 7:00p', 'Standard', 'Fathom Events and Warner Bros. are bringing Superman the Movie 40th Anniversary to select cinemas nationwide for a special three-day event including the 1941 Max Fleischer Superman animated short “The Mechanical Monsters”! From the doomed planet of Krypton, two parents launch a spaceship carrying their infant son to earth. Here he grows up to become Clark Kent, mild-mannered reporter for the Metropolis Daily Planet. But with powers and abilities far beyond those of mortal men, he battles for truth and justice as Superman.', '2018-11-27', 'Ocala, FL'], 'Robin Hood (2018)': ['Celebration Pointe 10', 'Robin Hood (2018)', '4', '12:45p | 4:00p | 7:00p | 10:00p', 'Standard', 'A war-hardened Crusader and his Moorish commander mount an audacious revolt against the corrupt English crown in a thrilling action-adventure packed with gritty battlefield exploits, mind-blowing fight choreography, and a timeless romance.', '2018-11-27', 'High Springs, FL'], 'Boy Erased': ['Regal Royal Park Stadium 16', 'Boy Erased', '4', '12:00p | 3:00p | 6:00p | 8:55p', 'Standard', '“Boy Erased” tells the story of Jared (Hedges), the son of a Baptist pastor in a small American town, who is outed to his parents (Kidman and Crowe) at age 19. Jared is faced with an ultimatum: attend a conversion therapy program – or be permanently exiled and shunned by his family, friends, and faith. Boy Erased is the true story of one young man’s struggle to find himself while being forced to question every aspect of his identity.', '2018-11-27', 'High Springs, FL'], 'Creed II': ['Regal Royal Park Stadium 16', 'Creed II', '4.5', '12:55p | 3:55p | 6:55p | 9:55p', 'Standard', \"Life has become a balancing act for Adonis Creed. Between personal obligations and training for his next big fight, he is up against the challenge of his life. Facing an opponent with ties to his family's past only intensifies his impending battle in the ring. Rocky Balboa is there by his side through it all and, together, Rocky and Adonis will confront their shared legacy, question what's worth fighting for, and discover that nothing's more important than family. Creed II is about going back to basics to rediscover what made you a champion in the first place, and remembering that, no matter where you go, you can't escape your history.\", '2018-11-27', 'High Springs, FL'], 'Widows (2018)': ['UA Cinema 90 6', 'Widows (2018)', '4', '12:45p | 3:50p | 6:50p', 'Standard', '\"Widows\" is the story of four women with nothing in common except a debt left behind by their dead husbands\\' criminal activities. Set in contemporary Chicago, amid a time of turmoil, tensions build when Veronica (Oscar® winner Viola Davis), Linda (Michelle Rodriguez), Alice (Elizabeth Debicki) and Belle (Cynthia Erivo) take their fate into their own hands and conspire to forge a future on their own terms. \"Widows\" also stars Liam Neeson, Colin Farrell, Robert Duvall, Daniel Kaluuya, Lukas Haas and Brian Tyree Henry.', '2018-11-27', 'Lake City, FL'], 'Green Book': ['Celebration Pointe 10', 'Green Book', '4.5', '1:30p | 4:45p | 8:00p | 11:00p', 'Standard', \"Dr. Don Shirley is a world-class African-American pianist who's about to embark on a concert tour in the Deep South in 1962. In need of a driver and protection, Shirley recruits Tony Lip, a tough-talking bouncer from an Italian-American neighborhood in the Bronx. Despite their differences, the two men soon develop an unexpected bond while confronting racism and danger in an era of segregation.\", '2018-11-27', 'High Springs, FL'], \"Dr. Seuss' The Grinch (2018)\": ['Rialto Theatre Spanish Springs Town Square', \"Dr. Seuss' The Grinch (2018)\", '4.5', '8:30a | 10:45a | 1:00p | 3:15p | 5:45p | 8:00p', 'Standard', 'Academy Award® nominee Benedict Cumberbatch lends his voice to the infamous Grinch, who lives a solitary life inside a cave on Mt. Crumpet with only his loyal dog, Max, for company. With a cave rigged with inventions and contraptions for his day-to-day needs, the Grinch only sees his neighbors in Who-ville when he runs out of food. Each year at Christmas they disrupt his tranquil solitude with their increasingly bigger, brighter and louder celebrations. When the Whos declare they are going to make Christmas three times bigger this year, the Grinch realizes there is only one way for him to gain some peace and quiet: he must steal Christmas. To do so, he decides he will pose as Santa Claus on Christmas Eve, even going so far as to trap a lackadaisical misfit reindeer to pull his sleigh.', '2018-11-27', 'The Villages, FL']}\n"
     ]
    }
   ],
   "source": [
    "data = {}\n",
    "\n",
    "with open(filename, newline='') as csvfile:\n",
    "    reader = csv.reader(csvfile, delimiter=',')\n",
    "    headers = next(reader)\n",
    "    for row in reader:\n",
    "        data[row[2]]=row[1:]\n",
    "        \n",
    "print(data)\n",
    "        "
   ]
  },
  {
   "cell_type": "code",
   "execution_count": null,
   "metadata": {},
   "outputs": [],
   "source": []
  },
  {
   "cell_type": "code",
   "execution_count": 9,
   "metadata": {},
   "outputs": [],
   "source": [
    "# structure and format for Friday listings\n",
    "# create a class for Friday movie\n",
    "class Movie:\n",
    "    \n",
    "    def __init__(self, title, stars, mpaa, runtime, genre, about):\n",
    "        self.title = title\n",
    "        self.stars = stars\n",
    "        self.mpaa = mpaa\n",
    "        self.runtime = runtime\n",
    "        self.genre = genre\n",
    "        self.about = about\n",
    "        \n",
    "    def LifeTag(self):\n",
    "        return self.title + \" (\" + self.mpaa + \") \"\n",
    "    \n",
    "    def SceneTag(self):\n",
    "        return \"\\\"\\\"\" + self.title + \"\\\"\\\"\\n\" + self.stars + \"\\n\" + self.mpaa + \": \" + self.about \n",
    "        \n",
    "class Screening(Movie):\n",
    "    \n",
    "    def __init__(self, title, cinema, showdate, showtime):\n",
    "        Movie.__init__(self, title)\n",
    "        Movie.__init__(self, mpaa)\n",
    "        self.cinema = cinema\n",
    "        self.showdate1 = showdate\n",
    "        self.showtime = showtime\n",
    "        \n",
    "    "
   ]
  },
  {
   "cell_type": "code",
   "execution_count": 10,
   "metadata": {},
   "outputs": [],
   "source": [
    "Creed = Movie(\"Creed II\", \"3 1/2\", \"PG-13\", \"180 minutes\", \"Sports\", \"This sequel ...\")\n",
    "Ralph = Movie(\"Ralph Breaks the Internet\", \"\", \"PG\", \"60 minutes\", \"Animation\", \"Six years after ...\")"
   ]
  },
  {
   "cell_type": "code",
   "execution_count": 1,
   "metadata": {},
   "outputs": [
    {
     "ename": "NameError",
     "evalue": "name 'Ralph' is not defined",
     "output_type": "error",
     "traceback": [
      "\u001b[0;31m---------------------------------------------------------------------------\u001b[0m",
      "\u001b[0;31mNameError\u001b[0m                                 Traceback (most recent call last)",
      "\u001b[0;32m<ipython-input-1-6aeb1b10e9a9>\u001b[0m in \u001b[0;36m<module>\u001b[0;34m\u001b[0m\n\u001b[0;32m----> 1\u001b[0;31m \u001b[0mprint\u001b[0m\u001b[0;34m(\u001b[0m\u001b[0mRalph\u001b[0m\u001b[0;34m.\u001b[0m\u001b[0mgenre\u001b[0m\u001b[0;34m)\u001b[0m\u001b[0;34m\u001b[0m\u001b[0m\n\u001b[0m",
      "\u001b[0;31mNameError\u001b[0m: name 'Ralph' is not defined"
     ]
    }
   ],
   "source": [
    "# )ne approach might be to create a class for a listing\n",
    "# that has subclasses for movies and theaters\n",
    "\n",
    "class Listing:\n",
    "    \n",
    "    '''Class for a movie listing that outputs the fully\n",
    "    formatted listing for publication.'''\n",
    "    \n",
    "    def __init__(self):\n",
    "        self.what = 'what should go here?'\n",
    "        \n",
    "    class Movie:\n",
    "        def __init__(self, title, stars, mpaa, runtime, genre, about):\n",
    "            self.title = title\n",
    "            self.stars = stars\n",
    "            self.mpaa = mpaa\n",
    "            self.runtime = runtime\n",
    "            self.genre = genre\n",
    "            self.about = about\n",
    "                return 'narrative common to'\n"
   ]
  },
  {
   "cell_type": "code",
   "execution_count": 17,
   "metadata": {},
   "outputs": [],
   "source": [
    "class Cinema:\n",
    "\n",
    "    '''Class for area movie theatre'''\n",
    "    \n",
    "    def __init__(self, theater, addy, market, showtimes):\n",
    "        self.theater = theater\n",
    "        self.addy = addy\n",
    "        self.market = market\n",
    "        self.showtimes = showtimes\n",
    "            "
   ]
  },
  {
   "cell_type": "code",
   "execution_count": 14,
   "metadata": {},
   "outputs": [],
   "source": [
    "regal8 = Cinema('Regal 8', '234 Main St.', 'Ocala', '1p, 2p, 3p')\n",
    "amc12 = Cinema('AMC 8', '123 First Ave.', 'Ocala', '3p, 5p, 6p')\n",
    "celeb = Cinema('Celeb', '157 Goose Blvd.', 'Ocala', '7p, 8p, 9p')"
   ]
  },
  {
   "cell_type": "code",
   "execution_count": 13,
   "metadata": {},
   "outputs": [
    {
     "name": "stdout",
     "output_type": "stream",
     "text": [
      "1p, 2p, 3p\n"
     ]
    }
   ],
   "source": [
    "print(regal8.showtimes)"
   ]
  },
  {
   "cell_type": "code",
   "execution_count": null,
   "metadata": {},
   "outputs": [],
   "source": [
    "# structure and format for Saturday listings\n",
    "# create a class for a Saturday movie"
   ]
  },
  {
   "cell_type": "code",
   "execution_count": null,
   "metadata": {},
   "outputs": [],
   "source": [
    "# structure and format for Sunday listings\n",
    "# create a class for a Sunday movie"
   ]
  },
  {
   "cell_type": "code",
   "execution_count": null,
   "metadata": {},
   "outputs": [],
   "source": [
    "def parrot(voltage, state='a stiff', action='voom'):\n",
    "    print(\"-- This parrot wouldn't\", action, end=' ')\n",
    "    print(\"if you put\", voltage, \"volts through it.\", end=' ')\n",
    "    print(\"E's\", state, \"!\")\n",
    "\n",
    "d = {\"voltage\": \"four million\", \"state\": \"bleedin' demised\", \"action\": \"VOOM\"}\n",
    "parrot(**d)\n"
   ]
  },
  {
   "cell_type": "code",
   "execution_count": 3,
   "metadata": {},
   "outputs": [
    {
     "data": {
      "text/plain": [
       "[('amc', [(3, 5)]), ('regal', [(1, 2), (2, 4)])]"
      ]
     },
     "execution_count": 3,
     "metadata": {},
     "output_type": "execute_result"
    }
   ],
   "source": [
    "from collections import defaultdict\n",
    "\n",
    "s = [('regal', (1, 2)), ('amc', (3, 5)), ('regal', (2, 4))]\n",
    "d = defaultdict(list)\n",
    "for k, v in s:\n",
    "    d[k].append(v)\n",
    "    \n",
    "sorted(d.items())"
   ]
  },
  {
   "cell_type": "code",
   "execution_count": 15,
   "metadata": {},
   "outputs": [
    {
     "data": {
      "text/plain": [
       "[('brian', {<__main__.Cinema at 0x111d3d438>}),\n",
       " ('cane',\n",
       "  {<__main__.Cinema at 0x111d3dd30>, <__main__.Cinema at 0x111d51358>})]"
      ]
     },
     "execution_count": 15,
     "metadata": {},
     "output_type": "execute_result"
    }
   ],
   "source": [
    "s = [('cane', regal8), ('brian', amc12), ('cane', celeb)]\n",
    "d = defaultdict(set)\n",
    "for k, v in s:\n",
    "    d[k].add(v)\n",
    "    \n",
    "sorted(d.items())"
   ]
  },
  {
   "cell_type": "code",
   "execution_count": null,
   "metadata": {},
   "outputs": [],
   "source": []
  }
 ],
 "metadata": {
  "kernelspec": {
   "display_name": "Python 3",
   "language": "python",
   "name": "python3"
  },
  "language_info": {
   "codemirror_mode": {
    "name": "ipython",
    "version": 3
   },
   "file_extension": ".py",
   "mimetype": "text/x-python",
   "name": "python",
   "nbconvert_exporter": "python",
   "pygments_lexer": "ipython3",
   "version": "3.6.5"
  }
 },
 "nbformat": 4,
 "nbformat_minor": 2
}
