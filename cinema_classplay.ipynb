{
 "cells": [
  {
   "cell_type": "code",
   "execution_count": 1,
   "metadata": {},
   "outputs": [],
   "source": [
    "class objectview(object):\n",
    "    def __init_(self, c):\n",
    "        self.__dict__ = c"
   ]
  },
  {
   "cell_type": "code",
   "execution_count": 9,
   "metadata": {},
   "outputs": [],
   "source": [
    "# cinema\n",
    "c = {\n",
    "    'addy': '2021 Silver Springs Blvd, Ocala, FL 34471',\n",
    "    'theater': 'Ocala Center 6',\n",
    "    'city': 'Ocala, FL'\n",
    "}"
   ]
  },
  {
   "cell_type": "code",
   "execution_count": 10,
   "metadata": {},
   "outputs": [],
   "source": [
    "class objectview(object):\n",
    "    def __init__(self, c):\n",
    "        self.__dict__ = c\n",
    "        \n",
    "o = objectview(c)\n"
   ]
  },
  {
   "cell_type": "code",
   "execution_count": 12,
   "metadata": {},
   "outputs": [
    {
     "data": {
      "text/plain": [
       "'2021 Silver Springs Blvd, Ocala, FL 34471'"
      ]
     },
     "execution_count": 12,
     "metadata": {},
     "output_type": "execute_result"
    }
   ],
   "source": [
    "o.addy"
   ]
  },
  {
   "cell_type": "code",
   "execution_count": null,
   "metadata": {},
   "outputs": [],
   "source": [
    "my_list = []\n",
    "\n",
    "with open('file.csv', 'r') as f:\n",
    "    reader = csv.reader(f)\n",
    "    for row in reader:\n",
    "        my_list.apend(myClass(row[0], row[1], row[2:]\n",
    "                              \n",
    "    "
   ]
  },
  {
   "cell_type": "code",
   "execution_count": null,
   "metadata": {},
   "outputs": [],
   "source": [
    "# movie\n",
    "m = {\n",
    "    'title': 'Ralph Breaks the Internet',\n",
    "    'mpaa': 'PG',\n",
    "    'stars': '4.5',\n",
    "    'synopsis': 'Ralph and Vanellope embark on an adventure inside the internet.',\n",
    "}"
   ]
  },
  {
   "cell_type": "code",
   "execution_count": null,
   "metadata": {},
   "outputs": [],
   "source": [
    "# show\n",
    "show = {\n",
    "    'theater' : 'Ocala Center 6',\n",
    "    'title' : 'Ralph Breaks the Internet',\n",
    "    'form': 'Standard',\n",
    "    'date': '2018-11-29',\n",
    "    'times': '1:00p | 4:00p | 7:00p',\n",
    "}"
   ]
  },
  {
   "cell_type": "code",
   "execution_count": null,
   "metadata": {},
   "outputs": [],
   "source": [
    "class show:\n",
    "    \n",
    "    def __init__(self):\n",
    "        self.theater = theater\n",
    "        self.title = title\n",
    "        self.form = form\n",
    "        self.date = date\n",
    "        self.times = times\n",
    "        \n",
    "    def scene\n",
    "    \n",
    "           \n",
    "    "
   ]
  },
  {
   "cell_type": "code",
   "execution_count": null,
   "metadata": {},
   "outputs": [],
   "source": [
    "# Scene\n",
    "Scene = {\n",
    "    \n",
    "}"
   ]
  },
  {
   "cell_type": "code",
   "execution_count": 7,
   "metadata": {},
   "outputs": [],
   "source": [
    "class objectview(object):\n",
    "    def __init__(self, d):\n",
    "        self.__dict__ = d\n",
    "        \n",
    "d = {'a': 1, 'b': 2}\n",
    "o = objectview(d)\n",
    "assert o.a == 1\n",
    "assert o.b == 2\n",
    "d['c'] = 3\n",
    "assert o.c == 3\n",
    "del o.c\n",
    "assert 'c' not in d\n"
   ]
  },
  {
   "cell_type": "code",
   "execution_count": 8,
   "metadata": {},
   "outputs": [
    {
     "data": {
      "text/plain": [
       "1"
      ]
     },
     "execution_count": 8,
     "metadata": {},
     "output_type": "execute_result"
    }
   ],
   "source": [
    "o.a"
   ]
  },
  {
   "cell_type": "code",
   "execution_count": null,
   "metadata": {},
   "outputs": [],
   "source": []
  }
 ],
 "metadata": {
  "kernelspec": {
   "display_name": "Python 3",
   "language": "python",
   "name": "python3"
  },
  "language_info": {
   "codemirror_mode": {
    "name": "ipython",
    "version": 3
   },
   "file_extension": ".py",
   "mimetype": "text/x-python",
   "name": "python",
   "nbconvert_exporter": "python",
   "pygments_lexer": "ipython3",
   "version": "3.6.0"
  }
 },
 "nbformat": 4,
 "nbformat_minor": 2
}
