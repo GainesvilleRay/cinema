{
 "cells": [
  {
   "cell_type": "code",
   "execution_count": 1,
   "metadata": {},
   "outputs": [],
   "source": [
    "\"\"\"Code to format info on movies in a csv file for publication.\"\"\"\n",
    "\n",
    "# built-in libraries\n",
    "import csv\n",
    "import datetime\n",
    "from email.message import EmailMessage\n",
    "import os.path\n",
    "import re\n",
    "import smtplib\n",
    "import sqlite3\n",
    "import sys\n",
    "\n",
    "# installed with pip\n",
    "import pandas as pd\n",
    "#from sqlalchemy import create_engine\n",
    "\n"
   ]
  },
  {
   "cell_type": "code",
   "execution_count": 3,
   "metadata": {},
   "outputs": [],
   "source": [
    "# Create list of dictionaries for each row.\n",
    "listings = []\n",
    "scrapedir = '/Users/Doug/workspace/cinema/scrapes/'\n",
    "scrapefile = 'fandango-2019-06-13.csv'\n",
    "scrape_path = scrapedir + scrapefile\n",
    "with open(scrape_path, 'r') as f:\n",
    "    reader = csv.reader(f)\n",
    "    for row in reader:\n",
    "        layout_dct = {\n",
    "            'addy': row[0],\n",
    "            'theater': row[1],\n",
    "            'title': row[2],\n",
    "            'mpaa': row[3],\n",
    "            'stars': row[4],\n",
    "            'times': row[5],\n",
    "            'format': row[6],\n",
    "            'synopsis': row[7],\n",
    "            'date': row[8],\n",
    "            'city': row[9]\n",
    "        }\n",
    "        listings.append(layout_dct)\n",
    "        \n",
    "del listings[0] #remove header row   "
   ]
  },
  {
   "cell_type": "code",
   "execution_count": 4,
   "metadata": {},
   "outputs": [],
   "source": [
    "# Create Pandas dataframe for listings\n",
    "df = pd.DataFrame(listings)\n",
    "# Remove some duplicate listings\n",
    "df = df[df.city != \"Belleview, FL\"]\n",
    "df = df[df.city != \"High Springs, FL\"]\n",
    "df = df[(df.city != \"The Villages, FL\") & (df.theater != \"Belleview Cinemas\")]\n",
    "df = df[(df.city != \"The Villages, FL\") & (df.theater != \"Old Mill Playhouse\")]\n",
    "df = df[(df.city != \"The Villages, FL\") & (df.theater != \"Old Mill Playhouse\")]\n",
    "times = (df.times.str.split('|', expand=True).rename(columns=lambda x: f\"time_{x+1}\"))\n",
    "times = times.apply(lambda x: x.str.strip() if x.dtype == \"object\" else x)\n",
    "times = times.apply(lambda x: x.str.replace('p', ' p.m.') if x.dtype == \"object\" else x)\n",
    "times = times.apply(lambda x: x.str.replace('a', ' a.m.') if x.dtype == \"object\" else x)\n",
    "times = times.apply(lambda x: x.str.replace(':00', '') if x.dtype == \"object\" else x)\n",
    "df = df.drop('times', axis=1)\n",
    "df = pd.concat([df, times], axis=1, join_axes=[df.index])\n",
    "df['streetaddy'] = df.addy.str.split(',').str[0]\n",
    "df.streetaddy = df.streetaddy.str.replace('Blvd', 'Blvd.')\n",
    "df.streetaddy = df.streetaddy.str.replace('Blvd..', 'Blvd.')\n",
    "df.streetaddy = df.streetaddy.str.replace('Avenue', 'Ave')\n",
    "df.streetaddy = df.streetaddy.str.replace('Ave', 'Ave.')\n",
    "df.streetaddy = df.streetaddy.str.replace('Ave..', 'Ave.')\n",
    "df['date'] = pd.to_datetime(df['date'], errors='coerce')\n",
    "df['movieday'] = df['date'].dt.weekday_name\n",
    "df = df.drop('city', axis=1)\n",
    "df['cityaddy'] = df.addy.str.split(',').str[1]\n",
    "df = df.apply(lambda x: x.str.strip() if x.dtype == \"object\" else x)\n",
    "df = df.drop('addy', axis=1)"
   ]
  },
  {
   "cell_type": "code",
   "execution_count": 5,
   "metadata": {},
   "outputs": [],
   "source": [
    "# Ocala market\n",
    "oc6_df = df.loc[df['theater'] == 'Ocala Center 6']\n",
    "ocd_dr = df.loc[df['theater'] == 'Ocala Drive-In']\n",
    "bv_df = df.loc[df['theater'] == 'Belleview Cinemas']\n",
    "mt_df = df.loc[df['theater'] == 'Marion Theatre']\n",
    "omp_df = df.loc[df['theater'] == 'Old Mill Playhouse']\n",
    "regaloca_df = df.loc[df['theater'] == 'Regal Hollywood Stadium 16 & IMAX - Ocala']\n",
    "rialto_df = df.loc[df['theater'] == 'Rialto Theatre Spanish Springs Town Square']\n",
    "amc_df = df.loc[df['theater'] == 'AMC Lake Square 12']\n",
    "barn_df = df.loc[df['theater'] == 'Barnstorm Theater']\n",
    "\n",
    "# Gainesville market\n",
    "celeb_df = df.loc[df['theater'] == 'Celebration Pointe 10']\n",
    "hipp_df = df.loc[df['theater'] == 'Hippodrome State Theatre']\n",
    "butler_df = df.loc[df['theater'] == 'Regal Butler Town Center 14']\n",
    "regalgnv_df = df.loc[df['theater'] == 'Regal Royal Park Stadium 16']\n",
    "uac_df = df.loc[df['theater'] == 'UA Cinema 90 6']\n",
    "starke_df = df.loc[df['theater'] == 'Florida Twin']\n",
    "uac_df = df.loc[df['theater'] == 'UA Cinema 90 6']"
   ]
  },
  {
   "cell_type": "code",
   "execution_count": null,
   "metadata": {},
   "outputs": [],
   "source": [
    "\n"
   ]
  },
  {
   "cell_type": "code",
   "execution_count": null,
   "metadata": {},
   "outputs": [],
   "source": [
    "\"\"\"\n",
    "This would be an approach using a database\n",
    "\"\"\"\n",
    "# Put new cinema scrape data into db\n",
    "#db_directory = os.path.dirname(os.path.abspath(__file__))\n",
    "#db_file = os.path.join(db_directory, \"rinspect.sqlite\")\n",
    "db_file = \"cinema_db.sqlite\"\n",
    "movie_table = 'movies' # table for movie data\n",
    "conn = sqlite3.connect(db_file)\n",
    "cur = conn.cursor()\n",
    "df.to_sql('movies', conn, if_exists='replace')\n",
    "\n",
    "# Build narrative by accessing database\n"
   ]
  },
  {
   "cell_type": "code",
   "execution_count": null,
   "metadata": {},
   "outputs": [],
   "source": []
  },
  {
   "cell_type": "code",
   "execution_count": null,
   "metadata": {},
   "outputs": [],
   "source": [
    "\"\"\"This would be an approach using named tuples\"\"\""
   ]
  },
  {
   "cell_type": "code",
   "execution_count": null,
   "metadata": {},
   "outputs": [],
   "source": [
    "\n",
    "    "
   ]
  },
  {
   "cell_type": "code",
   "execution_count": null,
   "metadata": {},
   "outputs": [],
   "source": [
    "\"\"\"This would be an approach using a dict of dicts\"\"\""
   ]
  },
  {
   "cell_type": "code",
   "execution_count": null,
   "metadata": {},
   "outputs": [],
   "source": [
    "\n"
   ]
  },
  {
   "cell_type": "code",
   "execution_count": null,
   "metadata": {},
   "outputs": [],
   "source": []
  },
  {
   "cell_type": "code",
   "execution_count": null,
   "metadata": {},
   "outputs": [],
   "source": []
  },
  {
   "cell_type": "code",
   "execution_count": null,
   "metadata": {},
   "outputs": [],
   "source": [
    "\"\"\"Useful functions, if needed\"\"\"\n",
    "\n",
    "# Convert datetime object into day of the week; But this is accomplished in the df work already.\n",
    "def get_day(date_object=None):\n",
    "    if not date_object:\n",
    "        date_object = datetime.datetime.now()\n",
    "    stamp = \"\"\n",
    "    stamp += datetime.datetime.strftime(date_object, \"%A\")\n",
    "    return(stamp)"
   ]
  },
  {
   "cell_type": "code",
   "execution_count": null,
   "metadata": {},
   "outputs": [],
   "source": [
    "oc6_df.head()\n"
   ]
  },
  {
   "cell_type": "code",
   "execution_count": null,
   "metadata": {},
   "outputs": [],
   "source": [
    "for row in oc6_df.itertuples():\n",
    "    if row[17] == 'Thursday':\n",
    "        print(row[8], row[9], row[10], row[11], row[12], row[13], row[14], row[15])"
   ]
  },
  {
   "cell_type": "code",
   "execution_count": null,
   "metadata": {},
   "outputs": [],
   "source": [
    "for row in oc6_df.itertuples():\n",
    "    print(row[Index=22])"
   ]
  },
  {
   "cell_type": "code",
   "execution_count": null,
   "metadata": {},
   "outputs": [],
   "source": []
  }
 ],
 "metadata": {
  "kernelspec": {
   "display_name": "Python 3",
   "language": "python",
   "name": "python3"
  },
  "language_info": {
   "codemirror_mode": {
    "name": "ipython",
    "version": 3
   },
   "file_extension": ".py",
   "mimetype": "text/x-python",
   "name": "python",
   "nbconvert_exporter": "python",
   "pygments_lexer": "ipython3",
   "version": "3.7.1"
  }
 },
 "nbformat": 4,
 "nbformat_minor": 2
}
