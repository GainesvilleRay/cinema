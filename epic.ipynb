{
 "cells": [
  {
   "cell_type": "code",
   "execution_count": null,
   "metadata": {},
   "outputs": [],
   "source": [
    "import csv\n",
    "from datetime import datetime\n",
    "from datetime import date\n"
   ]
  },
  {
   "cell_type": "code",
   "execution_count": null,
   "metadata": {},
   "outputs": [],
   "source": [
    "date = \"3/7/2020\"\n",
    "url = f\"http://www.exhibitorads.com/csentry/print.asp?house_id=49457&date={date}\""
   ]
  },
  {
   "cell_type": "code",
   "execution_count": null,
   "metadata": {},
   "outputs": [],
   "source": [
    "today = datetime.today()\n",
    "weekday = today.weekday()"
   ]
  },
  {
   "cell_type": "code",
   "execution_count": null,
   "metadata": {},
   "outputs": [],
   "source": [
    "# Get date in 1/2/2020 format from file\n",
    "def getDate():\n",
    "    f = open(\"epic_fri.text\")\n",
    "    lines = f.readlines()\n",
    "    f.close()\n",
    "    myday= lines[5][22:29]\n",
    "    year = ', 2020'\n",
    "    friyear = myday + year\n",
    "    mydate = datetime.strptime(friyear, '%B %d, %Y')\n",
    "    friyear = mydate.strftime(\"%-m/%d/%y\")\n",
    "    return(friyear)\n",
    "\n",
    "getDate()"
   ]
  },
  {
   "cell_type": "code",
   "execution_count": null,
   "metadata": {},
   "outputs": [],
   "source": [
    "with open(\"epic_fri.text\") as reader:\n",
    "    lines = reader.readlines()\n",
    "    movies = lines[7:]\n",
    "    "
   ]
  },
  {
   "cell_type": "code",
   "execution_count": null,
   "metadata": {},
   "outputs": [],
   "source": [
    "import re \n",
    "\n",
    "def fixTimes(input_str: str) -> str:\n",
    "    r_str = input_str.replace('(:\\d\\d)pm, ', '$1p | ')\n",
    "    return r_str\n",
    "\n",
    "if __name__ == \"__main__\":\n",
    "    "
   ]
  },
  {
   "cell_type": "code",
   "execution_count": null,
   "metadata": {},
   "outputs": [],
   "source": []
  },
  {
   "cell_type": "code",
   "execution_count": 28,
   "metadata": {},
   "outputs": [
    {
     "name": "stdout",
     "output_type": "stream",
     "text": [
      "Epic Theatres of Ocala\n",
      "4414 SW College Road\n",
      "Ocala, FL 34474\n",
      "(386)736-6830\n",
      "\n",
      "Showtimes for Friday, March 6\n",
      "\n",
      "Onward ,PG,12:00p | , 12:40p | , 2:40p | , 3:15p | , 5:20p | , 8:00p | , 10:40p,\n",
      "Standard,synopsis,date,Ocala\n",
      "\n",
      "Onward ,PG,11:00a | , 1:40p | , 4:20p | , 7:00p | , 9:40p,\n",
      "XL,synopsis,date,Ocala\n",
      "\n",
      "The Way Back ,R,11:30a | , 2:05p | , 4:40p | , 7:15p | , 9:50p,\n",
      "Standard,synopsis,date,Ocala\n",
      "\n",
      "The Invisible Man ,R,11:25a | , 1:25p | , 4:15p | , 7:05p | , 9:55p,\n",
      "Standard,synopsis,date,Ocala\n",
      "\n",
      "The Invisible Man ,R,7:55p | , 10:45p,\n",
      "XL,synopsis,date,Ocala\n",
      "\n",
      "Brahms: The Boy II ,PG-13,5:55p | , 8:10p | , 10:25p,\n",
      "Standard,synopsis,date,Ocala\n",
      "\n",
      "The Call of The Wild ,PG,11:00a | , 1:35p | , 4:10p | , 6:55p | , 9:30p,\n",
      "Standard,synopsis,date,Ocala\n",
      "\n",
      "The Call of The Wild ,PG,12:10p | , 2:45p | , 5:20p,\n",
      "XL,synopsis,date,Ocala\n",
      "\n",
      "Emma. ,PG,11:00a | , 1:45p | , 4:30p | , 7:20p | , 10:05p,\n",
      "Standard,synopsis,date,Ocala\n",
      "\n",
      "Fantasy Island ,PG-13,12:40p | , 3:15p | , 5:50p | , 8:25p | , 11:00p,\n",
      "Standard,synopsis,date,Ocala\n",
      "\n",
      "Sonic The Hedgehog ,PG,11:00a | , 2:15p | , 4:40p | , 7:25p | , 9:50p,\n",
      "Standard,synopsis,date,Ocala\n",
      "\n",
      "Harley Quinn: Birds of Prey ,R,11:50a | , 2:30p | , 5:05p | , 7:40p | , 10:15p,\n",
      "Standard,synopsis,date,Ocala\n",
      "\n",
      "Bad Boys For Life ,R,11:00a | , 1:50p | , 4:40p | , 7:30p | , 10:20p,\n",
      "Standard,synopsis,date,Ocala\n",
      "\n"
     ]
    }
   ],
   "source": [
    "# The following code will search 'mm/dd/yyyy' (e.g. NOV/30/2016 ),\n",
    "# and replace with 'mm-dd-yyyy' in multi-line mode.\n",
    "import re\n",
    "\n",
    "with open ('epic_fri.text', 'r' ) as f:\n",
    "    content = f.read()\n",
    "    \n",
    "#content_new = re.sub(' - \\d hr. \\d(\\d)? mins.\\n', r',', content, flags = re.M)\n",
    "#content_new = re.sub('(:\\d\\d)am', r'\\1a | ', content_new, flags = re.M)\n",
    "#content_new = re.sub('(:\\d\\d)pm,', r'\\1p | ,', content_new, flags = re.M)\n",
    "#content_new = re.sub('(:\\d\\d)pm', r'\\1p,', content_new, flags = re.M)\n",
    "#movie_format1 = \"Closed Captioning; Descriptive Narration; Hearing Impaired; Luxury Recliner; Reserved Seating; XL\"\n",
    "#movie_format2 = \"Closed Captioning; Descriptive Narration; Hearing Impaired; Luxury Recliner; Reserved Seating\"\n",
    "#content_new = re.sub(movie_format1, r'XL,synopsis,date,Ocala',content, flags = re.M)\n",
    "#content_new = re.sub(movie_format2, r'Standard,synopsis,date,Ocala',content, flags = re.M)\n",
    "#content_new = re.sub('(:\\d\\d)pm', r'\\1p | ', content, flags = re.M)\n",
    "#content_new = re.sub('\\(PG\\)', r'PG', content, flags = re.M)\n",
    "#content_new = re.sub('\\(PG-13\\)', r'PG-13', content, flags = re.M)\n",
    "#content_new = re.sub('\\(R\\)', r'R', content, flags = re.M)\n",
    "#content_new = re.sub('\\(G\\)', r'G', content, flags = re.M)\n",
    "#content_new = re.sub('\\(NR\\)', r'NR', content, flags = re.M)\n",
    "#content_new = re.sub(' \\(', r',', content, flags = re.M)\n",
    "a = re.compile(' - \\d hr. \\d(\\d)? mins.\\n')\n",
    "content_new = a.sub(',', content)\n",
    "b = re.compile('(:\\d\\d)am')\n",
    "content_new = b.sub(r'\\1a | ', content_new)\n",
    "c = re.compile('(:\\d\\d)pm,')\n",
    "content_new = c.sub(r'\\1p | ,', content_new)\n",
    "d = re.compile('(:\\d\\d)pm')\n",
    "content_new = d.sub(r'\\1p,', content_new)\n",
    "e = re.compile(\"Closed Captioning; Descriptive Narration; Hearing Impaired; Luxury Recliner; Reserved Seating; XL\")\n",
    "f = re.compile(\"Closed Captioning; Descriptive Narration; Hearing Impaired; Luxury Recliner; Reserved Seating\")\n",
    "content_new = e.sub('XL,synopsis,date,Ocala', content_new)\n",
    "content_new = f.sub('Standard,synopsis,date,Ocala',content_new)\n",
    "g = re.compile(r'\\((\\D\\D?)\\)')\n",
    "content_new = g.sub(r',\\1', content_new)\n",
    "h = re.compile(r'\\(PG-13\\)')\n",
    "content_new = h.sub(',PG-13', content_new)\n",
    "\n",
    "print(content_new)"
   ]
  },
  {
   "cell_type": "code",
   "execution_count": null,
   "metadata": {},
   "outputs": [],
   "source": [
    "import re\n",
    "\n",
    "input_file = open(\"epic_fri.text\", \"r\")\n",
    "output_file = open(\"epic_fri_out.txt\", \"w\")\n",
    "br = 0\n",
    "ot = 0\n",
    "\n",
    "for line in input_file:\n",
    "    match_br = re.match(r'(:\\d\\d)am, ', line) # should be your regular expression\n",
    "    match_ot = re.match(r'(:\\d\\d)pm, ', line) # second regular expression\n",
    "\n",
    "if match_br:\n",
    "    br = match_br.group(1)\n",
    "    # do something    \n",
    "\n",
    "elif match_ot:\n",
    "    ot = match_ot.group(2)    \n",
    "    # do your replacement\n",
    "\n",
    "else:\n",
    "    output_file.write(line)"
   ]
  }
 ],
 "metadata": {
  "kernelspec": {
   "display_name": "Python 3",
   "language": "python",
   "name": "python3"
  },
  "language_info": {
   "codemirror_mode": {
    "name": "ipython",
    "version": 3
   },
   "file_extension": ".py",
   "mimetype": "text/x-python",
   "name": "python",
   "nbconvert_exporter": "python",
   "pygments_lexer": "ipython3",
   "version": "3.7.1"
  }
 },
 "nbformat": 4,
 "nbformat_minor": 2
}
