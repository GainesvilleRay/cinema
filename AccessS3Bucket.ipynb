{
 "cells": [
  {
   "cell_type": "code",
   "execution_count": 1,
   "metadata": {},
   "outputs": [],
   "source": [
    "import boto3\n",
    "import botocore\n",
    "from datetime import tzinfo, timedelta, datetime\n",
    "import datetime"
   ]
  },
  {
   "cell_type": "code",
   "execution_count": 2,
   "metadata": {},
   "outputs": [],
   "source": [
    "# Download most recent cinema scrape from AWS S3\n",
    "s3c = boto3.client('s3')\n",
    "s3r = boto3.resource('s3')\n",
    "\n",
    "Bucket = 'cinemascrape'\n",
    "newscrape_file = 'newscrape.csv'\n",
    "\n",
    "today = datetime.date.today()\n",
    "\n",
    "get_last_modified = lambda obj: int(obj['LastModified'].strftime('%s'))\n",
    "objs = s3c.list_objects_v2(Bucket='cinemascrape')['Contents'] \n",
    "[obj['Key'] for obj in sorted(objs, key=get_last_modified)] \n",
    "scrapedate = objs[0]['LastModified'].date()\n",
    "key = objs[0]['Key']\n",
    "\n",
    "if scrapedate == today:\n",
    "    try:\n",
    "        s3r.Bucket(Bucket).download_file(key, newscrape_file)\n",
    "    except botocore.exceptions.ClientError as e:\n",
    "        if e.response['Error']['Code'] == \"404\":\n",
    "            msg = \"The scrape file does not exist in our S3 bucket.\"\n",
    "    else:\n",
    "        raise\n",
    "else:\n",
    "    msg = \"No new cinemascrape file today\"\n"
   ]
  },
  {
   "cell_type": "code",
   "execution_count": null,
   "metadata": {},
   "outputs": [],
   "source": []
  },
  {
   "cell_type": "code",
   "execution_count": 3,
   "metadata": {},
   "outputs": [
    {
     "name": "stdout",
     "output_type": "stream",
     "text": [
      "No new cinemascrape file today\n"
     ]
    }
   ],
   "source": [
    "print(msg)"
   ]
  },
  {
   "cell_type": "code",
   "execution_count": null,
   "metadata": {},
   "outputs": [],
   "source": []
  }
 ],
 "metadata": {
  "kernelspec": {
   "display_name": "Python 3",
   "language": "python",
   "name": "python3"
  },
  "language_info": {
   "codemirror_mode": {
    "name": "ipython",
    "version": 3
   },
   "file_extension": ".py",
   "mimetype": "text/x-python",
   "name": "python",
   "nbconvert_exporter": "python",
   "pygments_lexer": "ipython3",
   "version": "3.6.0"
  }
 },
 "nbformat": 4,
 "nbformat_minor": 2
}
