{
 "cells": [
  {
   "cell_type": "code",
   "execution_count": 1,
   "metadata": {},
   "outputs": [],
   "source": [
    "import boto3\n",
    "import botocore\n",
    "import csv\n",
    "from datetime import tzinfo, timedelta, datetime, date\n",
    "import datetime\n",
    "import glob\n",
    "from email.message import EmailMessage\n",
    "import os.path, time\n",
    "import smtplib"
   ]
  },
  {
   "cell_type": "code",
   "execution_count": null,
   "metadata": {},
   "outputs": [],
   "source": [
    "# Who gets the email\n",
    "receiver = ['doug.ray@starbanner.com']\n",
    "\n",
    "# Which market is reported\n",
    "market = 'Gainesville and Ocala, for now'"
   ]
  },
  {
   "cell_type": "code",
   "execution_count": 2,
   "metadata": {},
   "outputs": [],
   "source": [
    "# Download most recent cinema scrape from AWS S3\n",
    "s3c = boto3.client('s3')\n",
    "s3r = boto3.resource('s3')\n",
    "\n",
    "Bucket = 'cinemascrape'\n",
    "newscrape_file = 'newscrape.csv'\n",
    "\n",
    "today = datetime.date.today()\n",
    "\n",
    "get_last_modified = lambda obj: int(obj['LastModified'].strftime('%s'))\n",
    "objs = s3c.list_objects_v2(Bucket='cinemascrape')['Contents'] \n",
    "[obj['Key'] for obj in sorted(objs, key=get_last_modified)] \n",
    "scrapedate = objs[0]['LastModified'].date()\n",
    "key = objs[0]['Key']\n",
    "\n",
    "if scrapedate == today:\n",
    "    try:\n",
    "        s3r.Bucket(Bucket).download_file(key, newscrape_file)\n",
    "        msg = \"We got a newscrape.csv file!\"\n",
    "    except botocore.exceptions.ClientError as e:\n",
    "        if e.response['Error']['Code'] == \"404\":\n",
    "            msg = \"The scrape file does not exist in our S3 bucket.\"\n",
    "    else:\n",
    "        raise\n",
    "else:\n",
    "    msg = \"No new cinemascrape file today\"\n"
   ]
  },
  {
   "cell_type": "code",
   "execution_count": null,
   "metadata": {},
   "outputs": [],
   "source": []
  },
  {
   "cell_type": "code",
   "execution_count": 3,
   "metadata": {},
   "outputs": [
    {
     "name": "stdout",
     "output_type": "stream",
     "text": [
      "No new cinemascrape file today\n"
     ]
    }
   ],
   "source": []
  },
  {
   "cell_type": "code",
   "execution_count": null,
   "metadata": {},
   "outputs": [],
   "source": [
    "# SEND REPORT to recipient(s).\n",
    "#with open(bigreport) as fp:\n",
    "# Create a text/plain message\n",
    "msg = EmailMessage()\n",
    "msg.set_content(\"No content yet\")\n",
    "\n",
    "sender = 'data@sunwriters.com'\n",
    "gmail_password = '%WatchingTheDetectives'\n",
    "msg['Subject'] = f'Latest cinema scrape for {market}'\n",
    "msg['from'] = sender\n",
    "msg['To'] = receiver\n",
    "\n",
    "# Send the message via our own SMTP server.\n",
    "try:\n",
    "    server = smtplib.SMTP_SSL('smtp.gmail.com', 465)\n",
    "    server.ehlo()\n",
    "    server.login(sender, gmail_password)\n",
    "    server.send_message(msg)\n",
    "    server.quit()\n",
    "except:\n",
    "    print('Something went wrong...')"
   ]
  }
 ],
 "metadata": {
  "kernelspec": {
   "display_name": "Python 3",
   "language": "python",
   "name": "python3"
  },
  "language_info": {
   "codemirror_mode": {
    "name": "ipython",
    "version": 3
   },
   "file_extension": ".py",
   "mimetype": "text/x-python",
   "name": "python",
   "nbconvert_exporter": "python",
   "pygments_lexer": "ipython3",
   "version": "3.6.0"
  }
 },
 "nbformat": 4,
 "nbformat_minor": 2
}
