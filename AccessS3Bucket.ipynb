{
 "cells": [
  {
   "cell_type": "code",
   "execution_count": 1,
   "metadata": {},
   "outputs": [],
   "source": [
    "import boto3\n",
    "import botocore\n",
    "import csv\n",
    "from datetime import tzinfo, timedelta, datetime, date\n",
    "import datetime\n",
    "import glob\n",
    "from email.message import EmailMessage\n",
    "import os.path, time\n",
    "import smtplib\n",
    "import creds"
   ]
  },
  {
   "cell_type": "code",
   "execution_count": 2,
   "metadata": {},
   "outputs": [],
   "source": [
    "# Which market is reported\n",
    "market = 'Gainesville and Ocala'"
   ]
  },
  {
   "cell_type": "code",
   "execution_count": 6,
   "metadata": {},
   "outputs": [],
   "source": [
    "BUCKET_NAME = 'cinemascrape' \n",
    "\n",
    "today = datetime.date.today()\n",
    "scrapedate = str(today.strftime(\"%Y-%m-%d\"))\n",
    "KEY = \"fandango/fandango-\" + scrapedate + \".csv\"\n",
    "\n",
    "s3 = boto3.resource('s3')\n",
    "\n",
    "try:\n",
    "    s3.Bucket(BUCKET_NAME).download_file(KEY, 'scrapes/cinemascrape.csv')\n",
    "except botocore.exceptions.ClientError as e:\n",
    "    if e.response['Error']['Code'] == \"404\":\n",
    "        print(\"The object does not exist.\")\n",
    "    else:\n",
    "        raise"
   ]
  },
  {
   "cell_type": "code",
   "execution_count": null,
   "metadata": {},
   "outputs": [],
   "source": [
    "# SEND REPORT to recipient(s).\n",
    "#with open(bigreport) as fp:\n",
    "# Create a text/plain message\n",
    "msg = EmailMessage()\n",
    "msg.set_content(\"No content yet\")\n",
    "\n",
    "sender = creds.gmail_address\n",
    "receiver = creds.receiver\n",
    "password = creds.gmail_password\n",
    "\n",
    "msg['Subject'] = f'Latest cinema scrape for {market}'\n",
    "msg['from'] = sender\n",
    "msg['To'] = receiver\n",
    "\n",
    "# Send the message via our own SMTP server.\n",
    "try:\n",
    "    server = smtplib.SMTP_SSL('smtp.gmail.com', 465)\n",
    "    server.ehlo()\n",
    "    server.login(sender, gmail_password)\n",
    "    server.send_message(msg)\n",
    "    server.quit()\n",
    "except:\n",
    "    print('Something went wrong...')"
   ]
  },
  {
   "cell_type": "code",
   "execution_count": null,
   "metadata": {},
   "outputs": [],
   "source": []
  }
 ],
 "metadata": {
  "kernelspec": {
   "display_name": "Python 3",
   "language": "python",
   "name": "python3"
  },
  "language_info": {
   "codemirror_mode": {
    "name": "ipython",
    "version": 3
   },
   "file_extension": ".py",
   "mimetype": "text/x-python",
   "name": "python",
   "nbconvert_exporter": "python",
   "pygments_lexer": "ipython3",
   "version": "3.7.1"
  }
 },
 "nbformat": 4,
 "nbformat_minor": 2
}
