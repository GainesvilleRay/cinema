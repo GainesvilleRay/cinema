{
 "cells": [
  {
   "cell_type": "code",
   "execution_count": 1,
   "metadata": {},
   "outputs": [],
   "source": [
    "import boto3\n",
    "import botocore\n",
    "import csv\n",
    "from datetime import tzinfo, timedelta, datetime, date\n",
    "import datetime\n",
    "import glob\n",
    "from email.message import EmailMessage\n",
    "import os.path, time\n",
    "import smtplib\n",
    "import creds"
   ]
  },
  {
   "cell_type": "code",
   "execution_count": null,
   "metadata": {},
   "outputs": [],
   "source": [
    "# Which market is reported\n",
    "market = 'Gainesville and Ocala'"
   ]
  },
  {
   "cell_type": "code",
   "execution_count": 17,
   "metadata": {},
   "outputs": [
    {
     "name": "stdout",
     "output_type": "stream",
     "text": [
      "The object does not exist.\n"
     ]
    }
   ],
   "source": [
    "BUCKET_NAME = 'cinemascrape' \n",
    "\n",
    "today = datetime.date.today()\n",
    "scrapedate = str(today.strftime(\"%Y-%m-%d\"))\n",
    "KEY = \"fandango-\" + scrapedate + \".csv\"\n",
    "\n",
    "s3 = boto3.resource('s3')\n",
    "\n",
    "try:\n",
    "    s3.Bucket(BUCKET_NAME).download_file(KEY, 'cinemascrape.csv')\n",
    "except botocore.exceptions.ClientError as e:\n",
    "    if e.response['Error']['Code'] == \"404\":\n",
    "        print(\"The object does not exist.\")\n",
    "    else:\n",
    "        raise"
   ]
  },
  {
   "cell_type": "code",
   "execution_count": 3,
   "metadata": {},
   "outputs": [
    {
     "ename": "AttributeError",
     "evalue": "module 'creds' has no attribute 'gmail_address'",
     "output_type": "error",
     "traceback": [
      "\u001b[0;31m---------------------------------------------------------------------------\u001b[0m",
      "\u001b[0;31mAttributeError\u001b[0m                            Traceback (most recent call last)",
      "\u001b[0;32m<ipython-input-3-02706ee1a2c3>\u001b[0m in \u001b[0;36m<module>\u001b[0;34m\u001b[0m\n\u001b[1;32m      5\u001b[0m \u001b[0mmsg\u001b[0m\u001b[0;34m.\u001b[0m\u001b[0mset_content\u001b[0m\u001b[0;34m(\u001b[0m\u001b[0;34m\"No content yet\"\u001b[0m\u001b[0;34m)\u001b[0m\u001b[0;34m\u001b[0m\u001b[0;34m\u001b[0m\u001b[0m\n\u001b[1;32m      6\u001b[0m \u001b[0;34m\u001b[0m\u001b[0m\n\u001b[0;32m----> 7\u001b[0;31m \u001b[0msender\u001b[0m \u001b[0;34m=\u001b[0m \u001b[0mcreds\u001b[0m\u001b[0;34m.\u001b[0m\u001b[0mgmail_address\u001b[0m\u001b[0;34m\u001b[0m\u001b[0;34m\u001b[0m\u001b[0m\n\u001b[0m\u001b[1;32m      8\u001b[0m \u001b[0mreceiver\u001b[0m \u001b[0;34m=\u001b[0m \u001b[0mcreds\u001b[0m\u001b[0;34m.\u001b[0m\u001b[0mreceiver\u001b[0m\u001b[0;34m\u001b[0m\u001b[0;34m\u001b[0m\u001b[0m\n\u001b[1;32m      9\u001b[0m \u001b[0mpassword\u001b[0m \u001b[0;34m=\u001b[0m \u001b[0mcreds\u001b[0m\u001b[0;34m.\u001b[0m\u001b[0mgmail_password\u001b[0m\u001b[0;34m\u001b[0m\u001b[0;34m\u001b[0m\u001b[0m\n",
      "\u001b[0;31mAttributeError\u001b[0m: module 'creds' has no attribute 'gmail_address'"
     ]
    }
   ],
   "source": [
    "# SEND REPORT to recipient(s).\n",
    "#with open(bigreport) as fp:\n",
    "# Create a text/plain message\n",
    "msg = EmailMessage()\n",
    "msg.set_content(\"No content yet\")\n",
    "\n",
    "sender = creds.gmail_address\n",
    "receiver = creds.receiver\n",
    "password = creds.gmail_password\n",
    "\n",
    "msg['Subject'] = f'Latest cinema scrape for {market}'\n",
    "msg['from'] = sender\n",
    "msg['To'] = receiver\n",
    "\n",
    "# Send the message via our own SMTP server.\n",
    "try:\n",
    "    server = smtplib.SMTP_SSL('smtp.gmail.com', 465)\n",
    "    server.ehlo()\n",
    "    server.login(sender, gmail_password)\n",
    "    server.send_message(msg)\n",
    "    server.quit()\n",
    "except:\n",
    "    print('Something went wrong...')"
   ]
  },
  {
   "cell_type": "code",
   "execution_count": null,
   "metadata": {},
   "outputs": [],
   "source": []
  }
 ],
 "metadata": {
  "kernelspec": {
   "display_name": "Python 3",
   "language": "python",
   "name": "python3"
  },
  "language_info": {
   "codemirror_mode": {
    "name": "ipython",
    "version": 3
   },
   "file_extension": ".py",
   "mimetype": "text/x-python",
   "name": "python",
   "nbconvert_exporter": "python",
   "pygments_lexer": "ipython3",
   "version": "3.7.1"
  }
 },
 "nbformat": 4,
 "nbformat_minor": 2
}
